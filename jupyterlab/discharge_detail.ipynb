{
 "cells": [
  {
   "cell_type": "code",
   "execution_count": 1,
   "id": "b72034c7-cb39-4e64-92d6-9aa5ef494d9a",
   "metadata": {},
   "outputs": [],
   "source": [
    "import pandas as pd\n",
    "import matplotlib.pyplot as plt"
   ]
  },
  {
   "cell_type": "code",
   "execution_count": 2,
   "id": "be6ded30-4f9f-41f7-b479-bd060e4b7194",
   "metadata": {},
   "outputs": [
    {
     "name": "stdout",
     "output_type": "stream",
     "text": [
      "   Season      LocationID              EventID ChannelType  DischargeNo  \\\n",
      "0    2005  OZARRMFISHCM01  OZARRMFISH2005OCT20        main            1   \n",
      "1    2005  OZARRMFISHCM01  OZARRMFISH2005OCT20        main            2   \n",
      "2    2005  OZARRMFISHCM01  OZARRMFISH2005OCT20        main            3   \n",
      "3    2005  OZARRMFISHCM01  OZARRMFISH2005OCT20        main            4   \n",
      "4    2005  OZARRMFISHCM01  OZARRMFISH2005OCT20        main            5   \n",
      "\n",
      "   DistanceFromBank_m  Depth_cm  Velocity_ms Comments   Units  \n",
      "0                 0.0         0         0.00      NaN  metric  \n",
      "1                 1.0        30         0.05      NaN  metric  \n",
      "2                 2.0        21         0.62      NaN  metric  \n",
      "3                 3.0        10         0.13      NaN  metric  \n",
      "4                 4.0         4         0.07      NaN  metric  \n"
     ]
    }
   ],
   "source": [
    "path = r\"C:\\Users\\GRowell\\fish-data\\raw_data\\HTLN_Fish_DischargeDetail.csv\"\n",
    "df = pd.read_csv(path)\n",
    "print(df.head())"
   ]
  },
  {
   "cell_type": "code",
   "execution_count": 4,
   "id": "60b00748-e1e6-454d-b762-4ae5fa3ee2c0",
   "metadata": {},
   "outputs": [
    {
     "data": {
      "text/plain": [
       "Season                  int64\n",
       "LocationID             object\n",
       "EventID                object\n",
       "ChannelType            object\n",
       "DischargeNo             int64\n",
       "DistanceFromBank_m    float64\n",
       "Depth_cm                int64\n",
       "Velocity_ms           float64\n",
       "Comments               object\n",
       "Units                  object\n",
       "dtype: object"
      ]
     },
     "execution_count": 4,
     "metadata": {},
     "output_type": "execute_result"
    }
   ],
   "source": [
    "df.dtypes"
   ]
  },
  {
   "cell_type": "code",
   "execution_count": 6,
   "id": "635a6f7d-d42f-403b-a54a-c3fd2d1ae6ef",
   "metadata": {},
   "outputs": [
    {
     "data": {
      "text/plain": [
       "array([2005, 2006, 2007, 2008, 2009, 2010, 2011, 2012, 2013, 2014, 2015,\n",
       "       2016, 2017, 2018, 2019, 2020, 2021, 2022, 2023, 2024])"
      ]
     },
     "execution_count": 6,
     "metadata": {},
     "output_type": "execute_result"
    }
   ],
   "source": [
    "df['Season'].unique()"
   ]
  },
  {
   "cell_type": "code",
   "execution_count": 7,
   "id": "8774df89-f995-4d96-96c7-17b778c06d1a",
   "metadata": {},
   "outputs": [
    {
     "data": {
      "text/plain": [
       "['BUFFRMFISHBM01',\n",
       " 'BUFFRMFISHBM02',\n",
       " 'BUFFRMFISHBM03',\n",
       " 'BUFFRMFISHBM04',\n",
       " 'BUFFRMFISHBM05',\n",
       " 'BUFFRMFISHBM06',\n",
       " 'BUFFRMFISHBT01',\n",
       " 'BUFFRMFISHBT03',\n",
       " 'BUFFRMFISHBT04',\n",
       " 'BUFFRMFISHBT05',\n",
       " 'BUFFRMFISHBT06',\n",
       " 'BUFFRMFISHBT07',\n",
       " 'BUFFRMFISHBT08',\n",
       " 'BUFFRMFISHBT09',\n",
       " 'BUFFRMFISHBT10',\n",
       " 'BUFFRMFISHBT11',\n",
       " 'BUFFRMFISHBT12',\n",
       " 'BUFFRMFISHBT13',\n",
       " 'BUFFRMFISHBT14',\n",
       " 'BUFFRMFISHBT15',\n",
       " 'BUFFRMFISHBT16',\n",
       " 'BUFFRMFISHBT17',\n",
       " 'BUFFRMFISHBT19',\n",
       " 'BUFFRMFISHBT20',\n",
       " 'BUFFRMFISHBT21',\n",
       " 'BUFFRMFISHBT22',\n",
       " 'BUFFRMFISHBT23',\n",
       " 'BUFFRMFISHBT24',\n",
       " 'BUFFRMFISHBT25',\n",
       " 'BUFFRMFISHBT27',\n",
       " 'BUFFRMFISHBT28',\n",
       " 'BUFFRMFISHBT29',\n",
       " 'BUFFRMFISHBT30',\n",
       " 'BUFFRMFISHBT31',\n",
       " 'BUFFRMFISHBT32',\n",
       " 'BUFFRMFISHBT33',\n",
       " 'EFMOStfish01',\n",
       " 'GWCAStfish01',\n",
       " 'GWCAStfish02',\n",
       " 'GWCAStfish03',\n",
       " 'HEHOStfish01',\n",
       " 'HOSPStfish01',\n",
       " 'HOSPStfish02',\n",
       " 'OZARRMFISHCM01',\n",
       " 'OZARRMFISHCM02',\n",
       " 'OZARRMFISHCM02_Shift',\n",
       " 'OZARRMFISHCM03',\n",
       " 'OZARRMFISHCM03_Shift',\n",
       " 'OZARRMFISHCM04',\n",
       " 'OZARRMFISHCM05',\n",
       " 'OZARRMFISHCM06',\n",
       " 'OZARRMFISHCT01',\n",
       " 'OZARRMFISHCT02',\n",
       " 'OZARRMFISHCT03',\n",
       " 'OZARRMFISHCT04',\n",
       " 'OZARRMFISHCT06',\n",
       " 'OZARRMFISHCT07',\n",
       " 'OZARRMFISHCT08',\n",
       " 'OZARRMFISHCT09',\n",
       " 'OZARRMFISHCT11',\n",
       " 'OZARRMFISHCT12',\n",
       " 'OZARRMFISHCT13',\n",
       " 'OZARRMFISHCT14',\n",
       " 'OZARRMFISHCT15',\n",
       " 'OZARRMFISHCT16',\n",
       " 'OZARRMFISHJM01',\n",
       " 'OZARRMFISHJM02',\n",
       " 'OZARRMFISHJM03',\n",
       " 'OZARRMFISHJM03_Shift',\n",
       " 'OZARRMFISHJT01',\n",
       " 'OZARRMFISHJT02',\n",
       " 'OZARRMFISHJT03',\n",
       " 'OZRSSPRNGSSITE01',\n",
       " 'OZRSSPRNGSSITE02',\n",
       " 'OZRSSPRNGSSITE03',\n",
       " 'OZRSSPRNGSSITE04',\n",
       " 'OZRSSPRNGSSITE05',\n",
       " 'OZRSSPRNGSSITE06',\n",
       " 'OZRSSPRNGSSITE07',\n",
       " 'PERIStfish01',\n",
       " 'WICRStfish01',\n",
       " 'WICRStfish02',\n",
       " 'WICRStfish03']"
      ]
     },
     "execution_count": 7,
     "metadata": {},
     "output_type": "execute_result"
    }
   ],
   "source": [
    "sorted(df[\"LocationID\"].unique())"
   ]
  },
  {
   "cell_type": "code",
   "execution_count": 8,
   "id": "424fbdd5-11dc-4b0d-a4a5-caafe3951c16",
   "metadata": {},
   "outputs": [
    {
     "data": {
      "text/plain": [
       "['BUFFRMFISH2006JUN01',\n",
       " 'BUFFRMFISH2006JUN02',\n",
       " 'BUFFRMFISH2006JUN05',\n",
       " 'BUFFRMFISH2006JUN06',\n",
       " 'BUFFRMFISH2006JUN12',\n",
       " 'BUFFRMFISH2006MAY22',\n",
       " 'BUFFRMFISH2006MAY23',\n",
       " 'BUFFRMFISH2006MAY24',\n",
       " 'BUFFRMFISH2006MAY25',\n",
       " 'BUFFRMFISH2006MAY30',\n",
       " 'BUFFRMFISH2017Jun01',\n",
       " 'BUFFRMFISH2017Jun02',\n",
       " 'BUFFRMFISH2017Jun13',\n",
       " 'BUFFRMFISH2017Jun14',\n",
       " 'BUFFRMFISH2017Jun15',\n",
       " 'BUFFRMFISH2017Jun21',\n",
       " 'BUFFRMFISH2017Jun22',\n",
       " 'BUFFRMFISH2017May24',\n",
       " 'BUFFRMFISH2017May25',\n",
       " 'BUFFRMFISH2017May30',\n",
       " 'BUFFRMFISH2017May31',\n",
       " 'BUFFRMFISH2019Jun05',\n",
       " 'BUFFRMFISH2019Jun06',\n",
       " 'BUFFRMFISH2019Jun12',\n",
       " 'BUFFRMFISH2019Jun14',\n",
       " 'BUFFRMFISH2019Jun17',\n",
       " 'BUFFRMFISH2019Jun19',\n",
       " 'BUFFRMFISH2019Jun20',\n",
       " 'BUFFRMFISH2019May22',\n",
       " 'BUFFRMFISH2019May23',\n",
       " 'BUFFRMFISH2019May24',\n",
       " 'BUFFRMFISH2019May28',\n",
       " 'BUFFRMFISH2021Jun09',\n",
       " 'BUFFRMFISH2021Jun10',\n",
       " 'BUFFRMFISH2021Jun11',\n",
       " 'BUFFRMFISH2021Jun16',\n",
       " 'BUFFRMFISH2021May17',\n",
       " 'BUFFRMFISH2021May18',\n",
       " 'BUFFRMFISH2021May24',\n",
       " 'BUFFRMFISH2023Jun01',\n",
       " 'BUFFRMFISH2023Jun02',\n",
       " 'BUFFRMFISH2023Jun06',\n",
       " 'BUFFRMFISH2023Jun07',\n",
       " 'BUFFRMFISH2023Jun14',\n",
       " 'BUFFRMFISH2023May23',\n",
       " 'BUFFRMFISH2023May24',\n",
       " 'BUFFRMFISH2023May25',\n",
       " 'BUFFRMFISH2023May26',\n",
       " 'BUFFRMFISH2023May30',\n",
       " 'BUFFRMFISH2023May31',\n",
       " 'BUFFRMFish2007Jun01',\n",
       " 'BUFFRMFish2007Jun04',\n",
       " 'BUFFRMFish2007Jun05',\n",
       " 'BUFFRMFish2007Jun06',\n",
       " 'BUFFRMFish2007Jun20',\n",
       " 'BUFFRMFish2007May21',\n",
       " 'BUFFRMFish2007May22',\n",
       " 'BUFFRMFish2007May23',\n",
       " 'BUFFRMFish2007May25',\n",
       " 'BUFFRMFish2007May29',\n",
       " 'BUFFRMFish2007May30',\n",
       " 'BUFFRMFish2007May31',\n",
       " 'BUFFRMFish2008Jun03',\n",
       " 'BUFFRMFish2008Jun04',\n",
       " 'BUFFRMFish2008Jun05',\n",
       " 'BUFFRMFish2008Jun18',\n",
       " 'BUFFRMFish2008May19',\n",
       " 'BUFFRMFish2008May20',\n",
       " 'BUFFRMFish2008May21',\n",
       " 'BUFFRMFish2008May22',\n",
       " 'BUFFRMFish2008May23',\n",
       " 'BUFFRMFish2008May27',\n",
       " 'BUFFRMFish2008May28',\n",
       " 'BUFFRMFish2009Jun03',\n",
       " 'BUFFRMFish2009Jun08',\n",
       " 'BUFFRMFish2009Jun09',\n",
       " 'BUFFRMFish2009Jun10',\n",
       " 'BUFFRMFish2009May19',\n",
       " 'BUFFRMFish2009May20',\n",
       " 'BUFFRMFish2009May21',\n",
       " 'BUFFRMFish2009May26',\n",
       " 'BUFFRMFish2009May27',\n",
       " 'BUFFRMFish2009May28',\n",
       " 'BUFFRMFish2010Jun01',\n",
       " 'BUFFRMFish2010Jun02',\n",
       " 'BUFFRMFish2010Jun03',\n",
       " 'BUFFRMFish2010Jun08',\n",
       " 'BUFFRMFish2010Jun09',\n",
       " 'BUFFRMFish2010Jun10',\n",
       " 'BUFFRMFish2010Jun11',\n",
       " 'BUFFRMFish2010Jun23',\n",
       " 'BUFFRMFish2010May17',\n",
       " 'BUFFRMFish2010May18',\n",
       " 'BUFFRMFish2010May26',\n",
       " 'BUFFRMFish2010May27',\n",
       " 'BUFFRMFish2012May21',\n",
       " 'BUFFRMFish2012May22',\n",
       " 'BUFFRMFish2013Jun06',\n",
       " 'BUFFRMFish2013Jun10',\n",
       " 'BUFFRMFish2013Jun11',\n",
       " 'BUFFRMFish2013Jun12',\n",
       " 'BUFFRMFish2013Jun17',\n",
       " 'BUFFRMFish2013Jun18',\n",
       " 'BUFFRMFish2013Jun19',\n",
       " 'BUFFRMFish2013May20',\n",
       " 'BUFFRMFish2013May21',\n",
       " 'BUFFRMFish2013May28',\n",
       " 'BUFFRMFish2013May29',\n",
       " 'BUFFrmfish2015Jul01',\n",
       " 'BUFFrmfish2015Jun03',\n",
       " 'BUFFrmfish2015Jun04',\n",
       " 'BUFFrmfish2015Jun05',\n",
       " 'BUFFrmfish2015Jun09',\n",
       " 'BUFFrmfish2015Jun10',\n",
       " 'BUFFrmfish2015Jun15',\n",
       " 'BUFFrmfish2015Jun30',\n",
       " 'BUFFrmfish2015May22',\n",
       " 'BUFFrmfish2015May28',\n",
       " 'BUFFrmfish2015May29',\n",
       " 'EFMOStfish2008Jul09',\n",
       " 'EFMOStfish2014Aug13',\n",
       " 'EFMOStfish2017Jul18',\n",
       " 'EFMOStfish2023Jul19',\n",
       " 'GWCAStfish2006Jun28',\n",
       " 'GWCAStfish2007May02',\n",
       " 'GWCAStfish2010May05',\n",
       " 'GWCAStfish2013May01',\n",
       " 'GWCAStfish2016May02',\n",
       " 'GWCAStfish2019May06',\n",
       " 'GWCAStfish2022May03',\n",
       " 'GWCAStfish2022May09',\n",
       " 'HEHOStfish2017Jul18',\n",
       " 'HEHOStfish2021Jul26',\n",
       " 'HEHOStfish2022Jul05',\n",
       " 'HEHOStfish2023Jul17',\n",
       " 'HOSPStfish2009Jun16',\n",
       " 'HOSPStfish2012Jul10',\n",
       " 'HOSPStfish2015Jul07',\n",
       " 'HOSPStfish2018Jul09',\n",
       " 'HOSPStfish2018Jul10',\n",
       " 'HOSPStfish2024Jul16',\n",
       " 'HOSPStfish2024Jul17',\n",
       " 'OZARRMFISH2005DEC06',\n",
       " 'OZARRMFISH2005NOV03',\n",
       " 'OZARRMFISH2005NOV08',\n",
       " 'OZARRMFISH2005NOV10',\n",
       " 'OZARRMFISH2005OCT20',\n",
       " 'OZARRMFISH2005OCT25',\n",
       " 'OZARRMFISH2005OCT26',\n",
       " 'OZARRMFISH2005OCT27',\n",
       " 'OZARRMFISH2005OCT28',\n",
       " 'OZARRMFISH2006OCT02',\n",
       " 'OZARRMFISH2006OCT03',\n",
       " 'OZARRMFISH2006OCT04',\n",
       " 'OZARRMFISH2006OCT05',\n",
       " 'OZARRMFISH2006OCT06',\n",
       " 'OZARRMFISH2006OCT18',\n",
       " 'OZARRMFISH2006OCT19',\n",
       " 'OZARRMFISH2006OCT20',\n",
       " 'OZARRMFISH2006OCT23',\n",
       " 'OZARRMFISH2006OCT24',\n",
       " 'OZARRMFISH2006OCT25',\n",
       " 'OZARRMFISH2014Oct02',\n",
       " 'OZARRMFISH2014Sep22',\n",
       " 'OZARRMFISH2014Sep24',\n",
       " 'OZARRMFISH2014Sep25',\n",
       " 'OZARRMFISH2018Oct02',\n",
       " 'OZARRMFISH2018Oct03',\n",
       " 'OZARRMFISH2018Oct09',\n",
       " 'OZARRMFISH2018Oct10',\n",
       " 'OZARRMFISH2018Oct11',\n",
       " 'OZARRMFISH2018Sep18',\n",
       " 'OZARRMFISH2018Sep19',\n",
       " 'OZARRMFISH2018Sep20',\n",
       " 'OZARRMFISH2018Sep21',\n",
       " 'OZARRMFISH2018Sep25',\n",
       " 'OZARRMFISH2018Sep26',\n",
       " 'OZARRMFISH2018Sep27',\n",
       " 'OZARRMFISH2018Sep28',\n",
       " 'OZARRMFISH2022Aug29',\n",
       " 'OZARRMFISH2022Aug31',\n",
       " 'OZARRMFISH2022Sep01',\n",
       " 'OZARRMFISH2022Sep02',\n",
       " 'OZARRMFISH2022Sep06',\n",
       " 'OZARRMFISH2022Sep07',\n",
       " 'OZARRMFISH2022Sep08',\n",
       " 'OZARRMFISH2022Sep12',\n",
       " 'OZARRMFISH2022Sep13',\n",
       " 'OZARRMFISH2022Sep22',\n",
       " 'OZARRMFISH2024Aug26',\n",
       " 'OZARRMFISH2024Aug28',\n",
       " 'OZARRMFISH2024Aug30',\n",
       " 'OZARRMFISH2024Sep03',\n",
       " 'OZARRMFISH2024Sep04',\n",
       " 'OZARRMFISH2024Sep05',\n",
       " 'OZARRMFISH2024Sep06',\n",
       " 'OZARRMFISH2024Sep09',\n",
       " 'OZARRMFISH2024Sep10',\n",
       " 'OZARRMFISH2024Sep11',\n",
       " 'OZARRMFISH2024Sep12',\n",
       " 'OZARRMFish2007Oct02',\n",
       " 'OZARRMFish2007Oct03',\n",
       " 'OZARRMFish2007Oct04',\n",
       " 'OZARRMFish2007Oct05',\n",
       " 'OZARRMFish2007Oct09',\n",
       " 'OZARRMFish2007Oct10',\n",
       " 'OZARRMFish2007Oct12',\n",
       " 'OZARRMFish2007Oct16',\n",
       " 'OZARRMFish2007Oct18',\n",
       " 'OZARRMFish2008OCT29',\n",
       " 'OZARRMFish2008Oct06',\n",
       " 'OZARRMFish2008Oct07',\n",
       " 'OZARRMFish2008Oct08',\n",
       " 'OZARRMFish2008Oct09',\n",
       " 'OZARRMFish2008Oct10',\n",
       " 'OZARRMFish2008Oct15',\n",
       " 'OZARRMFish2008Oct16',\n",
       " 'OZARRMFish2008Oct17',\n",
       " 'OZARRMFish2008Oct27',\n",
       " 'OZARRMFish2009Oct05',\n",
       " 'OZARRMFish2009Oct06',\n",
       " 'OZARRMFish2009Oct07',\n",
       " 'OZARRMFish2009Oct08',\n",
       " 'OZARRMFish2009Oct13',\n",
       " 'OZARRMFish2009Oct14',\n",
       " 'OZARRMFish2009Oct16',\n",
       " 'OZARRMFish2009Oct19',\n",
       " 'OZARRMFish2009Oct20',\n",
       " 'OZARRMFish2010Oct05',\n",
       " 'OZARRMFish2010Oct06',\n",
       " 'OZARRMFish2012Oct01',\n",
       " 'OZARRMFish2012Oct02',\n",
       " 'OZARRMFish2012Oct03',\n",
       " 'OZARRMFish2012Oct09',\n",
       " 'OZARRMFish2012Oct10',\n",
       " 'OZARRMFish2012Oct18',\n",
       " 'OZARRMFish2012Sep24',\n",
       " 'OZARRMFish2012Sep25',\n",
       " 'OZARRMFish2012Sep26',\n",
       " 'OZARRMFish2012Sep27',\n",
       " 'OZARRMFish2014Oct01',\n",
       " 'OZARRMFish2014Oct02',\n",
       " 'OZARRMFish2014Oct03',\n",
       " 'OZARRMFish2014Oct07',\n",
       " 'OZARRMFish2014Oct08',\n",
       " 'OZARRMFish2014Oct09',\n",
       " 'OZARRMFish2014Sep23',\n",
       " 'OZARRMFish2016Oct04',\n",
       " 'OZARRMFish2016Oct05',\n",
       " 'OZARRMFish2016Oct06',\n",
       " 'OZARRMFish2016Oct12',\n",
       " 'OZARRMFish2016Sep19',\n",
       " 'OZARRMFish2016Sep20',\n",
       " 'OZARRMFish2016Sep21',\n",
       " 'OZARRMFish2016Sep22',\n",
       " 'OZARRMFish2016Sep27',\n",
       " 'OZARRMFish2016Sep28',\n",
       " 'OZARRMFish2016Sep29',\n",
       " 'OZRSSPRNGS2007Aug01',\n",
       " 'OZRSSPRNGS2007Jul23',\n",
       " 'OZRSSPRNGS2007Jul24',\n",
       " 'OZRSSPRNGS2007Jul25',\n",
       " 'OZRSSPRNGS2007Jul30',\n",
       " 'OZRSSPRNGS2007Jul31',\n",
       " 'OZRSSPRNGS2008Jul21',\n",
       " 'OZRSSPRNGS2008Jul22',\n",
       " 'OZRSSPRNGS2008Jul23',\n",
       " 'OZRSSPRNGS2008Jul24',\n",
       " 'OZRSSPRNGS2008Jul25',\n",
       " 'OZRSSPRNGS2009Aug25',\n",
       " 'OZRSSPRNGS2009Jul28',\n",
       " 'OZRSSPRNGS2009Jul29',\n",
       " 'OZRSSPRNGS2009Jul30',\n",
       " 'OZRSSPRNGS2010Jul26',\n",
       " 'OZRSSPRNGS2010Jul28',\n",
       " 'OZRSSPRNGS2010Jul29',\n",
       " 'OZRSSPRNGS2011Jul25',\n",
       " 'OZRSSPRNGS2011Jul26',\n",
       " 'OZRSSPRNGS2011Jul27',\n",
       " 'OZRSSPRNGS2011Jul28',\n",
       " 'OZRSSPRNGS2011Jul29',\n",
       " 'OZRSSPRNGS2012Jul23',\n",
       " 'OZRSSPRNGS2012Jul24',\n",
       " 'OZRSSPRNGS2012Jul25',\n",
       " 'OZRSSPRNGS2012Jul26',\n",
       " 'OZRSSPRNGS2013Aug16',\n",
       " 'OZRSSPRNGS2013Aug30',\n",
       " 'OZRSSPRNGS2013Jul29',\n",
       " 'OZRSSPRNGS2013Sep13',\n",
       " 'OZRSSPRNGS2014JUL31',\n",
       " 'OZRSSPRNGS2014Jul28',\n",
       " 'OZRSSPRNGS2014Jul29',\n",
       " 'OZRSSPRNGS2014Jul30',\n",
       " 'OZRSSPRNGS2015Aug06',\n",
       " 'OZRSSPRNGS2015Jul27',\n",
       " 'OZRSSPRNGS2015Jul28',\n",
       " 'OZRSSPRNGS2015Jul29',\n",
       " 'OZRSSPRNGS2016Jul25',\n",
       " 'OZRSSPRNGS2016Jul27',\n",
       " 'OZRSSPRNGS2016Jul28',\n",
       " 'OZRSSPRNGS2017Jul24',\n",
       " 'OZRSSPRNGS2017Jul25',\n",
       " 'OZRSSPRNGS2017Jul26',\n",
       " 'OZRSSPRNGS2017Jul27',\n",
       " 'OZRSSPRNGS2018Jul23',\n",
       " 'OZRSSPRNGS2018Jul24',\n",
       " 'OZRSSPRNGS2018Jul25',\n",
       " 'OZRSSPRNGS2018Jul26',\n",
       " 'OZRSSprngs2019Jul29',\n",
       " 'OZRSSprngs2019Jul30',\n",
       " 'OZRSSprngs2019Jul31',\n",
       " 'OZRSSprngs2020Aug03',\n",
       " 'OZRSSprngs2020Jul29',\n",
       " 'OZRSSprngs2021Aug03',\n",
       " 'OZRSSprngs2022Aug03',\n",
       " 'OZRSSprngs2022Jul27',\n",
       " 'OZRSSprngs2022Jul28',\n",
       " 'OZRSSprngs2023Aug01',\n",
       " 'OZRSSprngs2023Aug02',\n",
       " 'OZRSSprngs2024Jul29',\n",
       " 'PERIStfish2009May01',\n",
       " 'PERIStfish2012May02',\n",
       " 'PERIStfish2015May12',\n",
       " 'PERIStfish2018May10',\n",
       " 'PERIStfish2021May06',\n",
       " 'PERIStfish2024May15',\n",
       " 'WICRStfish2006Jun15',\n",
       " 'WICRStfish2007May09',\n",
       " 'WICRStfish2010May03',\n",
       " 'WICRStfish2013May06',\n",
       " 'WICRStfish2016May04',\n",
       " 'WICRStfish2019Jun03',\n",
       " 'WICRStfish2019Jun11',\n",
       " 'WICRStfish2022Jun02',\n",
       " 'WICRStfish2022Jun09',\n",
       " 'WICRStfish2022Jun14']"
      ]
     },
     "execution_count": 8,
     "metadata": {},
     "output_type": "execute_result"
    }
   ],
   "source": [
    "sorted(df['EventID'].unique())"
   ]
  },
  {
   "cell_type": "code",
   "execution_count": 10,
   "id": "909d51d7-834d-4bd3-bf06-1bb9ba0cc75e",
   "metadata": {},
   "outputs": [
    {
     "data": {
      "text/plain": [
       "array([ 1,  2,  3,  4,  5,  6,  7,  8,  9, 10, 11, 12, 13, 14, 15, 16, 17,\n",
       "       18, 19, 20, 21, 22, 23, 24, 25, 26, 27, 28, 29, 30, 31])"
      ]
     },
     "execution_count": 10,
     "metadata": {},
     "output_type": "execute_result"
    }
   ],
   "source": [
    "df['DischargeNo'].unique() "
   ]
  },
  {
   "cell_type": "code",
   "execution_count": 10,
   "id": "c7ab3a57-0cd7-407e-bf7d-4032404b3b2c",
   "metadata": {},
   "outputs": [
    {
     "data": {
      "text/plain": [
       "array(['main', 'side channel', 'Main', 'Side channel'], dtype=object)"
      ]
     },
     "execution_count": 10,
     "metadata": {},
     "output_type": "execute_result"
    }
   ],
   "source": [
    "df['ChannelType'].unique() "
   ]
  },
  {
   "cell_type": "code",
   "execution_count": 11,
   "id": "8a714bed-9641-4e3b-897f-58fd9b9a7b89",
   "metadata": {},
   "outputs": [
    {
     "data": {
      "text/plain": [
       "array([ 1,  2,  3,  4,  5,  6,  7,  8,  9, 10, 11, 12, 13, 14, 15, 16, 17,\n",
       "       18, 19, 20, 21, 22, 23, 24, 25, 26, 27, 28])"
      ]
     },
     "execution_count": 11,
     "metadata": {},
     "output_type": "execute_result"
    }
   ],
   "source": [
    "df['DischargeNo'].unique() "
   ]
  },
  {
   "cell_type": "code",
   "execution_count": 12,
   "id": "b159b263-681a-450c-b949-d57958c14a98",
   "metadata": {},
   "outputs": [
    {
     "data": {
      "text/plain": [
       "array([[<Axes: title={'center': 'DistanceFromBank_m'}>]], dtype=object)"
      ]
     },
     "execution_count": 12,
     "metadata": {},
     "output_type": "execute_result"
    },
    {
     "data": {
      "image/png": "[encoded data removed]",
      "text/plain": [
       "<Figure size 640x480 with 1 Axes>"
      ]
     },
     "metadata": {},
     "output_type": "display_data"
    }
   ],
   "source": [
    "col = ['DistanceFromBank_m'] \n",
    "df2 = df[(df[col] > 0) & (df[col] <=100)]\n",
    "df2.hist(column='DistanceFromBank_m')"
   ]
  },
  {
   "cell_type": "code",
   "execution_count": 13,
   "id": "bf7c71b3-52a7-497f-a6cf-bc0cf27e2d24",
   "metadata": {},
   "outputs": [
    {
     "data": {
      "text/plain": [
       "array([[<Axes: title={'center': 'Depth_cm'}>]], dtype=object)"
      ]
     },
     "execution_count": 13,
     "metadata": {},
     "output_type": "execute_result"
    },
    {
     "data": {
      "image/png": "[encoded data removed]",
      "text/plain": [
       "<Figure size 640x480 with 1 Axes>"
      ]
     },
     "metadata": {},
     "output_type": "display_data"
    }
   ],
   "source": [
    "col = ['Depth_cm'] \n",
    "df2 = df[df[col] > 0]\n",
    "df2.hist(column='Depth_cm')"
   ]
  },
  {
   "cell_type": "code",
   "execution_count": 14,
   "id": "5959847e-65b1-4540-80e8-ebc493244494",
   "metadata": {},
   "outputs": [
    {
     "data": {
      "text/plain": [
       "array([[<Axes: title={'center': 'Velocity_ms'}>]], dtype=object)"
      ]
     },
     "execution_count": 14,
     "metadata": {},
     "output_type": "execute_result"
    },
    {
     "data": {
      "image/png": "[encoded data removed]",
      "text/plain": [
       "<Figure size 640x480 with 1 Axes>"
      ]
     },
     "metadata": {},
     "output_type": "display_data"
    }
   ],
   "source": [
    "col = ['Velocity_ms'] \n",
    "df2 = df[df[col] > 0]\n",
    "df2.hist(column='Velocity_ms')"
   ]
  },
  {
   "cell_type": "code",
   "execution_count": 15,
   "id": "3fbd02b6-0f18-4aa9-851f-ac9eab3f79ec",
   "metadata": {},
   "outputs": [
    {
     "data": {
      "text/plain": [
       "['* 2 meters',\n",
       " '0 velocity in areas of heavy vegetation.',\n",
       " '1/2 m',\n",
       " 'DC of side and main channel taken. Add for total',\n",
       " \"Didn't do rest on account of1/2 way too deep/fast\",\n",
       " 'Discharge not taken due to high flows',\n",
       " 'Eddy',\n",
       " 'Eddy along bank',\n",
       " 'Edge of bank',\n",
       " 'Gravel Bar',\n",
       " 'Island eddy',\n",
       " 'No discharge taken - too deep and fast',\n",
       " 'No discharge taken - water too high',\n",
       " 'No readings taken at site - to fast, VanBuren gage  + Big spring gage = 46.5 m3/s',\n",
       " 'No readings taken at site - too fast, VanBuren gage = 36.8 m3/s',\n",
       " 'Readings not taken at site; VanBuren gage = 26.5m3/s & Big Spring gage = 10.08 m3/s; Total = 36.58 m3/s',\n",
       " 'Rock ahead',\n",
       " 'Taken w/in watercress',\n",
       " 'Veg',\n",
       " 'Veg ahead of it',\n",
       " 'Vegetation',\n",
       " 'bank',\n",
       " 'behind boulder',\n",
       " 'behind rock',\n",
       " 'boulder in front of point',\n",
       " 'discharge not taken',\n",
       " 'discharge readings taken at Big Spring; add this to the VanBuren gage discharge of 24.56 m3/s',\n",
       " 'edge of bank',\n",
       " 'flow meter not working. No discharge taken',\n",
       " 'last one 1 m',\n",
       " 'log in front of point',\n",
       " 'nan',\n",
       " 'on rock',\n",
       " 'river left bank',\n",
       " 'rock',\n",
       " 'started at edge of watercress',\n",
       " 'to shallow for reading',\n",
       " 'too deep, similar to 17',\n",
       " 'tree roots',\n",
       " 'undercut bank',\n",
       " 'veg',\n",
       " 'vegetation',\n",
       " 'vegitation',\n",
       " 'very little flow',\n",
       " 'x behind veg',\n",
       " 'zero depth recorded']"
      ]
     },
     "execution_count": 15,
     "metadata": {},
     "output_type": "execute_result"
    }
   ],
   "source": [
    "df[\"Comments\"] = df[\"Comments\"].astype(str)\n",
    "sorted(df['Comments'].unique()) "
   ]
  }
 ],
 "metadata": {
  "kernelspec": {
   "display_name": "Python 3 (ipykernel)",
   "language": "python",
   "name": "python3"
  },
  "language_info": {
   "codemirror_mode": {
    "name": "ipython",
    "version": 3
   },
   "file_extension": ".py",
   "mimetype": "text/x-python",
   "name": "python",
   "nbconvert_exporter": "python",
   "pygments_lexer": "ipython3",
   "version": "3.10.15"
  }
 },
 "nbformat": 4,
 "nbformat_minor": 5
}
