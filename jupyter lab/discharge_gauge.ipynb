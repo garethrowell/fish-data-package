{
 "cells": [
  {
   "cell_type": "code",
   "execution_count": 17,
   "id": "b72034c7-cb39-4e64-92d6-9aa5ef494d9a",
   "metadata": {},
   "outputs": [],
   "source": [
    "import pandas as pd\n",
    "import matplotlib.pyplot as plt"
   ]
  },
  {
   "cell_type": "code",
   "execution_count": 18,
   "id": "be6ded30-4f9f-41f7-b479-bd060e4b7194",
   "metadata": {},
   "outputs": [
    {
     "name": "stdout",
     "output_type": "stream",
     "text": [
      "                 ParkName ParkCode  Season      LocationID  \\\n",
      "0  Buffalo National River     BUFF    2006  BUFFRMINVEBM05   \n",
      "1  Buffalo National River     BUFF    2011  BUFFRMINVEBM01   \n",
      "2  Buffalo National River     BUFF    2011  BUFFRMINVEBM02   \n",
      "3  Buffalo National River     BUFF    2011  BUFFRMINVEBM03   \n",
      "4  Buffalo National River     BUFF    2011  BUFFRMINVEBM04   \n",
      "\n",
      "               EventID  GaugeSiteNo                   GaugeLocation  \\\n",
      "0  BUFFRMINVE2007FEB22      7056000  Buffalo River near St. Joe, AR   \n",
      "1  BUFFRMINVE2012Jan05      7055646   Buffalo River near Boxley, AR   \n",
      "2  BUFFRMINVE2012Jan06      7055680     Buffalo River at Pruitt, AR   \n",
      "3  BUFFRMINVE2012Jan09      7055680     Buffalo River at Pruitt, AR   \n",
      "4  BUFFRMINVE2012Jan04      7056000  Buffalo River near St. Joe, AR   \n",
      "\n",
      "   Discharge_cms                  Comments  \n",
      "0          32.28  cms - St. Joe USGS gauge  \n",
      "1           1.16   cms - Boxley USGS gauge  \n",
      "2           1.86   cms - Pruitt USGS gauge  \n",
      "3           1.44   cms - Pruitt USGS gauge  \n",
      "4          25.71  cms - St. Joe USGS gauge  \n"
     ]
    }
   ],
   "source": [
    "path = r\"C:\\Users\\GRowell\\HTLN-data-packages-data\\aqinvert\\DischargeGaugeData.csv\"\n",
    "df = pd.read_csv(path)\n",
    "print(df.head())"
   ]
  },
  {
   "cell_type": "code",
   "execution_count": 19,
   "id": "60b00748-e1e6-454d-b762-4ae5fa3ee2c0",
   "metadata": {},
   "outputs": [
    {
     "data": {
      "text/plain": [
       "ParkName          object\n",
       "ParkCode          object\n",
       "Season             int64\n",
       "LocationID        object\n",
       "EventID           object\n",
       "GaugeSiteNo        int64\n",
       "GaugeLocation     object\n",
       "Discharge_cms    float64\n",
       "Comments          object\n",
       "dtype: object"
      ]
     },
     "execution_count": 19,
     "metadata": {},
     "output_type": "execute_result"
    }
   ],
   "source": [
    "df.dtypes"
   ]
  },
  {
   "cell_type": "code",
   "execution_count": 20,
   "id": "cbdc8492-2f84-42de-91f3-1c4d1d910d22",
   "metadata": {},
   "outputs": [
    {
     "data": {
      "text/plain": [
       "['Buffalo National River',\n",
       " 'Herbert Hoover National Historic Site',\n",
       " 'Ozark National Scenic Riverways - RIVERS']"
      ]
     },
     "execution_count": 20,
     "metadata": {},
     "output_type": "execute_result"
    }
   ],
   "source": [
    "sorted(df['ParkName'].unique())"
   ]
  },
  {
   "cell_type": "code",
   "execution_count": 21,
   "id": "efbd30e6-13fa-455b-a596-2f0eb7164900",
   "metadata": {},
   "outputs": [
    {
     "data": {
      "text/plain": [
       "['BUFF', 'HEHO', 'OZAR']"
      ]
     },
     "execution_count": 21,
     "metadata": {},
     "output_type": "execute_result"
    }
   ],
   "source": [
    "sorted(df['ParkCode'].unique())"
   ]
  },
  {
   "cell_type": "code",
   "execution_count": 22,
   "id": "635a6f7d-d42f-403b-a54a-c3fd2d1ae6ef",
   "metadata": {},
   "outputs": [
    {
     "data": {
      "text/plain": [
       "array([2006, 2011, 2013, 2015, 2017, 2019, 2021, 2023, 2008, 2014, 2005,\n",
       "       2007, 2009, 2012, 2016, 2018, 2020, 2022])"
      ]
     },
     "execution_count": 22,
     "metadata": {},
     "output_type": "execute_result"
    }
   ],
   "source": [
    "df['Season'].unique()"
   ]
  },
  {
   "cell_type": "code",
   "execution_count": 23,
   "id": "8774df89-f995-4d96-96c7-17b778c06d1a",
   "metadata": {},
   "outputs": [
    {
     "data": {
      "text/plain": [
       "['BUFFRMINVEBM01',\n",
       " 'BUFFRMINVEBM02',\n",
       " 'BUFFRMINVEBM03',\n",
       " 'BUFFRMINVEBM04',\n",
       " 'BUFFRMINVEBM05',\n",
       " 'BUFFRMINVEBM06',\n",
       " 'BUFFRMINVEBT13',\n",
       " 'BUFFRMINVEBT20',\n",
       " 'HEHOAqubug01',\n",
       " 'OZARRMINVECM01',\n",
       " 'OZARRMINVECM02',\n",
       " 'OZARRMINVECM03',\n",
       " 'OZARRMINVECM04',\n",
       " 'OZARRMINVECM05',\n",
       " 'OZARRMINVECM06',\n",
       " 'OZARRMINVEJM01',\n",
       " 'OZARRMINVEJM02',\n",
       " 'OZARRMINVEJM03']"
      ]
     },
     "execution_count": 23,
     "metadata": {},
     "output_type": "execute_result"
    }
   ],
   "source": [
    "sorted(df[\"LocationID\"].unique())"
   ]
  },
  {
   "cell_type": "code",
   "execution_count": 24,
   "id": "424fbdd5-11dc-4b0d-a4a5-caafe3951c16",
   "metadata": {},
   "outputs": [
    {
     "data": {
      "text/plain": [
       "['BUFFRMINVE2007FEB22',\n",
       " 'BUFFRMINVE2012Jan04',\n",
       " 'BUFFRMINVE2012Jan05',\n",
       " 'BUFFRMINVE2012Jan06',\n",
       " 'BUFFRMINVE2012Jan09',\n",
       " 'BUFFRMINVE2012Jan10',\n",
       " 'BUFFRMINVE2012Jan18',\n",
       " 'BUFFRMINVE2013Dec04',\n",
       " 'BUFFRMINVE2014Feb19',\n",
       " 'BUFFRMINVE2015Dec09',\n",
       " 'BUFFRMINVE2015Dec17',\n",
       " 'BUFFRMINVE2015Dec18',\n",
       " 'BUFFRMINVE2015Nov23',\n",
       " 'BUFFRMINVE2015Nov24',\n",
       " 'BUFFRMINVE2017Dec01',\n",
       " 'BUFFRMINVE2017Dec08',\n",
       " 'BUFFRMINVE2017Nov16',\n",
       " 'BUFFRMINVE2017Nov29',\n",
       " 'BUFFRMINVE2017Nov30',\n",
       " 'BUFFRMINVE2019Nov05',\n",
       " 'BUFFRMINVE2019Nov18',\n",
       " 'BUFFRMINVE2019Nov19',\n",
       " 'BUFFRMINVE2019Nov20',\n",
       " 'BUFFRMINVE2019Nov21',\n",
       " 'BUFFRMINVE2021Nov01',\n",
       " 'BUFFRMINVE2021Nov02',\n",
       " 'BUFFRMINVE2021Nov03',\n",
       " 'BUFFRMINVE2021Nov08',\n",
       " 'BUFFRMINVE2021Nov09',\n",
       " 'BUFFRMINVE2021Nov10',\n",
       " 'BUFFRMINVE2023Nov02',\n",
       " 'BUFFRMINVE2023Nov03',\n",
       " 'BUFFRMINVE2023Nov06',\n",
       " 'BUFFRMINVE2023Nov07',\n",
       " 'BUFFRMINVE2023Nov08',\n",
       " 'BUFFRMINVE2023Nov14',\n",
       " 'HEHOAquBug2014Aug01',\n",
       " 'HEHOAqubug2008Jul07',\n",
       " 'HEHOAqubug2011Jul11',\n",
       " 'OZARRMINVE2006DEC18',\n",
       " 'OZARRMINVE2006DEC19',\n",
       " 'OZARRMINVE2006JAN18',\n",
       " 'OZARRMINVE2006JAN20',\n",
       " 'OZARRMINVE2006JAN24',\n",
       " 'OZARRMINVE2006NOV14',\n",
       " 'OZARRMINVE2007Nov01',\n",
       " 'OZARRMINVE2007Nov02',\n",
       " 'OZARRMINVE2007Nov05',\n",
       " 'OZARRMINVE2008Nov05',\n",
       " 'OZARRMINVE2008Nov20',\n",
       " 'OZARRMINVE2008Nov21',\n",
       " 'OZARRMINVE2009Dec02',\n",
       " 'OZARRMINVE2009Dec03',\n",
       " 'OZARRMINVE2009Nov12',\n",
       " 'OZARRMINVE2012Dec04',\n",
       " 'OZARRMINVE2012Dec05',\n",
       " 'OZARRMINVE2012Nov13',\n",
       " 'OZARRMINVE2012Nov27',\n",
       " 'OZARRMINVE2012Nov28',\n",
       " 'OZARRMINVE2012Nov29',\n",
       " 'OZARRMINVE2014Nov05',\n",
       " 'OZARRMINVE2014Nov06',\n",
       " 'OZARRMINVE2014Nov12',\n",
       " 'OZARRMINVE2014Nov13',\n",
       " 'OZARRMINVE2014Nov18',\n",
       " 'OZARRMINVE2014Nov19',\n",
       " 'OZARRMINVE2016Nov01',\n",
       " 'OZARRMINVE2016Nov02',\n",
       " 'OZARRMINVE2016Nov03',\n",
       " 'OZARRMINVE2016Nov04',\n",
       " 'OZARRMINVE2016Nov09',\n",
       " 'OZARRMINVE2016Nov10',\n",
       " 'OZARRMINVE2018Nov07',\n",
       " 'OZARRMINVE2018Nov08',\n",
       " 'OZARRMINVE2018Nov13',\n",
       " 'OZARRMINVE2018Nov19',\n",
       " 'OZARRMINVE2018Nov20',\n",
       " 'OZARRMINVE2020Dec08',\n",
       " 'OZARRMINVE2020Dec10',\n",
       " 'OZARRMINVE2020Dec11',\n",
       " 'OZARRMINVE2020Nov17',\n",
       " 'OZARRMINVE2020Nov19',\n",
       " 'OZARRMINVE2020Nov30',\n",
       " 'OZARRMINVE2021Jan05',\n",
       " 'OZARRMINVE2021Jan08',\n",
       " 'OZARRMINVE2021Jan11',\n",
       " 'OZARRMINVE2022Nov03',\n",
       " 'OZARRMINVE2022Nov04',\n",
       " 'OZARRMINVE2022Oct25',\n",
       " 'OZARRMINVE2022Oct26',\n",
       " 'OZARRMINVE2022Oct27',\n",
       " 'OZARRMINVE2022Oct28']"
      ]
     },
     "execution_count": 24,
     "metadata": {},
     "output_type": "execute_result"
    }
   ],
   "source": [
    "sorted(df['EventID'].unique())"
   ]
  },
  {
   "cell_type": "code",
   "execution_count": 25,
   "id": "909d51d7-834d-4bd3-bf06-1bb9ba0cc75e",
   "metadata": {},
   "outputs": [
    {
     "data": {
      "text/plain": [
       "array([ 7056000,  7055646,  7055680,  7056700,  7056515, 14111470,\n",
       "        7055790,  5464942,  7067000,  7067500, 14134500,  7064533,\n",
       "        7064440,  7065200])"
      ]
     },
     "execution_count": 25,
     "metadata": {},
     "output_type": "execute_result"
    }
   ],
   "source": [
    "df['GaugeSiteNo'].unique() "
   ]
  },
  {
   "cell_type": "code",
   "execution_count": 26,
   "id": "8a714bed-9641-4e3b-897f-58fd9b9a7b89",
   "metadata": {},
   "outputs": [
    {
     "data": {
      "text/plain": [
       "array(['Buffalo River near St. Joe, AR', 'Buffalo River near Boxley, AR',\n",
       "       'Buffalo River at Pruitt, AR', 'Buffalo River near Harriet, AR',\n",
       "       'Bear Creek near Silver Hill, AR',\n",
       "       'Buffalo River at Pruitt + Big Creek near Mt. Judea AR',\n",
       "       'Big Creek near Mt. Judea, AR',\n",
       "       'Hoover Nat Hist Site, West Branch, IA',\n",
       "       'Current River at Van Buren, MO', 'Big Spring near Van Buren, MO',\n",
       "       'Current River + Big Spring at/near Van Buren, MO',\n",
       "       'Current River above Akers, MO',\n",
       "       'Current River at Montauk State Park, MO',\n",
       "       'Jacks Fork near Mountain View, MO'], dtype=object)"
      ]
     },
     "execution_count": 26,
     "metadata": {},
     "output_type": "execute_result"
    }
   ],
   "source": [
    "df['GaugeLocation'].unique() "
   ]
  },
  {
   "cell_type": "code",
   "execution_count": 30,
   "id": "b159b263-681a-450c-b949-d57958c14a98",
   "metadata": {},
   "outputs": [
    {
     "data": {
      "text/plain": [
       "array([[<Axes: title={'center': 'Discharge_cms'}>]], dtype=object)"
      ]
     },
     "execution_count": 30,
     "metadata": {},
     "output_type": "execute_result"
    },
    {
     "data": {
      "image/png": "[encoded data removed]",
      "text/plain": [
       "<Figure size 640x480 with 1 Axes>"
      ]
     },
     "metadata": {},
     "output_type": "display_data"
    }
   ],
   "source": [
    "df.hist(column='Discharge_cms')"
   ]
  },
  {
   "cell_type": "code",
   "execution_count": 31,
   "id": "3fbd02b6-0f18-4aa9-851f-ac9eab3f79ec",
   "metadata": {},
   "outputs": [
    {
     "data": {
      "text/plain": [
       "['11.92 (Pruitt) + 0.17 (Big Creek)',\n",
       " 'Akers',\n",
       " 'Akers (cms)',\n",
       " 'BM03 2015 also entered as Pruitt (11.92) guage + Big Cr (0.17) guage',\n",
       " 'Bear Creek USGS gauge',\n",
       " 'Extrapolated; based on akers gage and actual discharge in 2008.',\n",
       " 'Hoover Creek (cms)',\n",
       " 'Montauk',\n",
       " 'Montauk (cms)',\n",
       " 'Mtn. View (cms)',\n",
       " 'Pruitt USGS gauge, Carver gauge = 6.7ft',\n",
       " 'Pruitt guage only; Big Cr guage no longer collecting data',\n",
       " 'Pruitt only; Big Cr guage no longer taking data',\n",
       " 'Pruitt only; Big Cr guage no longer taking discharge',\n",
       " 'St. Joe USGS gauge',\n",
       " 'VB=25.94 BS=9.99',\n",
       " 'Van Buren',\n",
       " 'Van Buren (22.09) + Big Spring (8.61)',\n",
       " 'Van Buren (cms)',\n",
       " 'Van Buren + Big Spring (cms)',\n",
       " 'Van Buren Gage',\n",
       " 'VanBuren Gage=25.03',\n",
       " 'VanBuren Gage=25.32',\n",
       " 'cms',\n",
       " 'cms - BS only',\n",
       " 'cms - Bear Creek USGS gauge',\n",
       " 'cms - Boxley USGS gauge',\n",
       " 'cms - Harriett USGS gauge',\n",
       " 'cms - Pruitt USGS gauge',\n",
       " 'cms - St. Joe USGS gauge',\n",
       " 'cms - VB + Big Spring',\n",
       " 'm3/sec; Van Buren Gage',\n",
       " 'm3/sec; Van Buren gage',\n",
       " 'm3/sec; Van Buren+Big Spring',\n",
       " 'm3/sec; extrapolated based on Akers gage and acutal discharge in 2008',\n",
       " 'nan']"
      ]
     },
     "execution_count": 31,
     "metadata": {},
     "output_type": "execute_result"
    }
   ],
   "source": [
    "df[\"Comments\"] = df[\"Comments\"].astype(str)\n",
    "sorted(df['Comments'].unique()) "
   ]
  }
 ],
 "metadata": {
  "kernelspec": {
   "display_name": "Python 3 (ipykernel)",
   "language": "python",
   "name": "python3"
  },
  "language_info": {
   "codemirror_mode": {
    "name": "ipython",
    "version": 3
   },
   "file_extension": ".py",
   "mimetype": "text/x-python",
   "name": "python",
   "nbconvert_exporter": "python",
   "pygments_lexer": "ipython3",
   "version": "3.10.15"
  }
 },
 "nbformat": 4,
 "nbformat_minor": 5
}
