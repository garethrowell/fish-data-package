{
 "cells": [
  {
   "cell_type": "code",
   "execution_count": 1,
   "id": "b72034c7-cb39-4e64-92d6-9aa5ef494d9a",
   "metadata": {},
   "outputs": [],
   "source": [
    "import pandas as pd\n",
    "import matplotlib.pyplot as plt"
   ]
  },
  {
   "cell_type": "code",
   "execution_count": 2,
   "id": "be6ded30-4f9f-41f7-b479-bd060e4b7194",
   "metadata": {},
   "outputs": [
    {
     "name": "stdout",
     "output_type": "stream",
     "text": [
      "   Season      LocationID              EventID Beginning_Ending  \\\n",
      "0    2005  OZARRMFISHCM01  OZARRMFISH2005OCT20        BEGINNING   \n",
      "1    2005  OZARRMFISHCM01  OZARRMFISH2005OCT20           ENDING   \n",
      "2    2005  OZARRMFISHCM02  OZARRMFISH2005OCT25        BEGINNING   \n",
      "3    2005  OZARRMFISHCM02  OZARRMFISH2005OCT25           ENDING   \n",
      "4    2005  OZARRMFISHCM03  OZARRMFISH2005NOV03        BEGINNING   \n",
      "\n",
      "  TimeSampled_hhmm_mil  WaterTemp_C  AirTemp_C    pH  \\\n",
      "0             1/0/1900         16.3       12.0  8.00   \n",
      "1             1/0/1900         17.3       15.0  8.20   \n",
      "2             1/0/1900         12.3        2.0  7.94   \n",
      "3             1/0/1900         13.2        5.0  7.99   \n",
      "4             1/0/1900         13.0       21.0  7.22   \n",
      "\n",
      "   SpecificConductance_microScm  Conductivity_microScm  DissolvedOxygen_mgL  \\\n",
      "0                         261.8                    NaN                 8.64   \n",
      "1                         252.6                    NaN                10.00   \n",
      "2                         248.5                    NaN                 9.57   \n",
      "3                         242.0                    NaN                11.10   \n",
      "4                         259.5                    NaN                 9.06   \n",
      "\n",
      "   SecchiTube   Units  \n",
      "0       120.0  metric  \n",
      "1       120.0  metric  \n",
      "2       120.0  metric  \n",
      "3       120.0  metric  \n",
      "4       120.0  metric  \n"
     ]
    }
   ],
   "source": [
    "path = r\"C:\\Users\\GRowell\\fish-data\\raw_data\\HTLN_Fish_ReachMeasurements_EF.csv\"\n",
    "df = pd.read_csv(path)\n",
    "print(df.head())"
   ]
  },
  {
   "cell_type": "code",
   "execution_count": 3,
   "id": "60b00748-e1e6-454d-b762-4ae5fa3ee2c0",
   "metadata": {},
   "outputs": [
    {
     "data": {
      "text/plain": [
       "Season                            int64\n",
       "LocationID                       object\n",
       "EventID                          object\n",
       "Beginning_Ending                 object\n",
       "TimeSampled_hhmm_mil             object\n",
       "WaterTemp_C                     float64\n",
       "AirTemp_C                       float64\n",
       "pH                              float64\n",
       "SpecificConductance_microScm    float64\n",
       "Conductivity_microScm           float64\n",
       "DissolvedOxygen_mgL             float64\n",
       "SecchiTube                      float64\n",
       "Units                            object\n",
       "dtype: object"
      ]
     },
     "execution_count": 3,
     "metadata": {},
     "output_type": "execute_result"
    }
   ],
   "source": [
    "df.dtypes"
   ]
  },
  {
   "cell_type": "code",
   "execution_count": 5,
   "id": "d074c90c-ec90-4dcd-8aac-2a2af4df95ae",
   "metadata": {},
   "outputs": [
    {
     "data": {
      "text/plain": [
       "[np.int64(2005),\n",
       " np.int64(2006),\n",
       " np.int64(2007),\n",
       " np.int64(2008),\n",
       " np.int64(2009),\n",
       " np.int64(2010),\n",
       " np.int64(2012),\n",
       " np.int64(2013),\n",
       " np.int64(2014),\n",
       " np.int64(2015),\n",
       " np.int64(2016),\n",
       " np.int64(2017),\n",
       " np.int64(2018),\n",
       " np.int64(2019),\n",
       " np.int64(2021),\n",
       " np.int64(2022),\n",
       " np.int64(2023),\n",
       " np.int64(2024)]"
      ]
     },
     "execution_count": 5,
     "metadata": {},
     "output_type": "execute_result"
    }
   ],
   "source": [
    "sorted(df['Season'].unique())"
   ]
  },
  {
   "cell_type": "code",
   "execution_count": 6,
   "id": "8774df89-f995-4d96-96c7-17b778c06d1a",
   "metadata": {},
   "outputs": [
    {
     "data": {
      "text/plain": [
       "['BUFFRMFISHBM01',\n",
       " 'BUFFRMFISHBM02',\n",
       " 'BUFFRMFISHBM03',\n",
       " 'BUFFRMFISHBM04',\n",
       " 'BUFFRMFISHBM05',\n",
       " 'BUFFRMFISHBM06',\n",
       " 'BUFFRMFISHBT01',\n",
       " 'BUFFRMFISHBT03',\n",
       " 'BUFFRMFISHBT04',\n",
       " 'BUFFRMFISHBT05',\n",
       " 'BUFFRMFISHBT06',\n",
       " 'BUFFRMFISHBT07',\n",
       " 'BUFFRMFISHBT08',\n",
       " 'BUFFRMFISHBT09',\n",
       " 'BUFFRMFISHBT10',\n",
       " 'BUFFRMFISHBT11',\n",
       " 'BUFFRMFISHBT12',\n",
       " 'BUFFRMFISHBT13',\n",
       " 'BUFFRMFISHBT14',\n",
       " 'BUFFRMFISHBT15',\n",
       " 'BUFFRMFISHBT16',\n",
       " 'BUFFRMFISHBT17',\n",
       " 'BUFFRMFISHBT19',\n",
       " 'BUFFRMFISHBT20',\n",
       " 'BUFFRMFISHBT21',\n",
       " 'BUFFRMFISHBT22',\n",
       " 'BUFFRMFISHBT23',\n",
       " 'BUFFRMFISHBT24',\n",
       " 'BUFFRMFISHBT25',\n",
       " 'BUFFRMFISHBT27',\n",
       " 'BUFFRMFISHBT28',\n",
       " 'BUFFRMFISHBT29',\n",
       " 'BUFFRMFISHBT30',\n",
       " 'BUFFRMFISHBT31',\n",
       " 'BUFFRMFISHBT32',\n",
       " 'BUFFRMFISHBT33',\n",
       " 'EFMOStfish01',\n",
       " 'GWCAStfish01',\n",
       " 'GWCAStfish02',\n",
       " 'GWCAStfish03',\n",
       " 'HEHOStfish01',\n",
       " 'HOSPStfish01',\n",
       " 'HOSPStfish02',\n",
       " 'OZARRMFISHCM01',\n",
       " 'OZARRMFISHCM02',\n",
       " 'OZARRMFISHCM02_Shift',\n",
       " 'OZARRMFISHCM03',\n",
       " 'OZARRMFISHCM03_Shift',\n",
       " 'OZARRMFISHCM04',\n",
       " 'OZARRMFISHCM05',\n",
       " 'OZARRMFISHCM06',\n",
       " 'OZARRMFISHCM06_Shift',\n",
       " 'OZARRMFISHCT01',\n",
       " 'OZARRMFISHCT02',\n",
       " 'OZARRMFISHCT03',\n",
       " 'OZARRMFISHCT04',\n",
       " 'OZARRMFISHCT06',\n",
       " 'OZARRMFISHCT07',\n",
       " 'OZARRMFISHCT08',\n",
       " 'OZARRMFISHCT09',\n",
       " 'OZARRMFISHCT11',\n",
       " 'OZARRMFISHCT12',\n",
       " 'OZARRMFISHCT13',\n",
       " 'OZARRMFISHCT14',\n",
       " 'OZARRMFISHCT15',\n",
       " 'OZARRMFISHCT16',\n",
       " 'OZARRMFISHJM01',\n",
       " 'OZARRMFISHJM02',\n",
       " 'OZARRMFISHJM03',\n",
       " 'OZARRMFISHJM03_Shift',\n",
       " 'OZARRMFISHJT01',\n",
       " 'OZARRMFISHJT02',\n",
       " 'OZARRMFISHJT03',\n",
       " 'WICRStfish01',\n",
       " 'WICRStfish02',\n",
       " 'WICRStfish03']"
      ]
     },
     "execution_count": 6,
     "metadata": {},
     "output_type": "execute_result"
    }
   ],
   "source": [
    "sorted(df[\"LocationID\"].unique())"
   ]
  },
  {
   "cell_type": "code",
   "execution_count": 7,
   "id": "424fbdd5-11dc-4b0d-a4a5-caafe3951c16",
   "metadata": {},
   "outputs": [
    {
     "data": {
      "text/plain": [
       "['BUFFRMFISH2006JUN01',\n",
       " 'BUFFRMFISH2006JUN02',\n",
       " 'BUFFRMFISH2006JUN05',\n",
       " 'BUFFRMFISH2006JUN06',\n",
       " 'BUFFRMFISH2006JUN12',\n",
       " 'BUFFRMFISH2006MAY22',\n",
       " 'BUFFRMFISH2006MAY23',\n",
       " 'BUFFRMFISH2006MAY24',\n",
       " 'BUFFRMFISH2006MAY25',\n",
       " 'BUFFRMFISH2006MAY30',\n",
       " 'BUFFRMFISH2007MAY30',\n",
       " 'BUFFRMFISH2017Jun01',\n",
       " 'BUFFRMFISH2017Jun02',\n",
       " 'BUFFRMFISH2017Jun13',\n",
       " 'BUFFRMFISH2017Jun14',\n",
       " 'BUFFRMFISH2017Jun15',\n",
       " 'BUFFRMFISH2017Jun21',\n",
       " 'BUFFRMFISH2017Jun22',\n",
       " 'BUFFRMFISH2017May24',\n",
       " 'BUFFRMFISH2017May25',\n",
       " 'BUFFRMFISH2017May30',\n",
       " 'BUFFRMFISH2017May31',\n",
       " 'BUFFRMFISH2019Jun05',\n",
       " 'BUFFRMFISH2019Jun06',\n",
       " 'BUFFRMFISH2019Jun12',\n",
       " 'BUFFRMFISH2019Jun14',\n",
       " 'BUFFRMFISH2019Jun17',\n",
       " 'BUFFRMFISH2019Jun18',\n",
       " 'BUFFRMFISH2019Jun19',\n",
       " 'BUFFRMFISH2019Jun20',\n",
       " 'BUFFRMFISH2019May22',\n",
       " 'BUFFRMFISH2019May23',\n",
       " 'BUFFRMFISH2019May24',\n",
       " 'BUFFRMFISH2019May28',\n",
       " 'BUFFRMFISH2021Jun09',\n",
       " 'BUFFRMFISH2021Jun10',\n",
       " 'BUFFRMFISH2021Jun11',\n",
       " 'BUFFRMFISH2021Jun16',\n",
       " 'BUFFRMFISH2021May17',\n",
       " 'BUFFRMFISH2021May18',\n",
       " 'BUFFRMFISH2021May24',\n",
       " 'BUFFRMFISH2023Jun01',\n",
       " 'BUFFRMFISH2023Jun02',\n",
       " 'BUFFRMFISH2023Jun06',\n",
       " 'BUFFRMFISH2023Jun07',\n",
       " 'BUFFRMFISH2023Jun14',\n",
       " 'BUFFRMFISH2023May23',\n",
       " 'BUFFRMFISH2023May24',\n",
       " 'BUFFRMFISH2023May25',\n",
       " 'BUFFRMFISH2023May26',\n",
       " 'BUFFRMFISH2023May30',\n",
       " 'BUFFRMFISH2023May31',\n",
       " 'BUFFRMFish2007Jun01',\n",
       " 'BUFFRMFish2007Jun04',\n",
       " 'BUFFRMFish2007Jun05',\n",
       " 'BUFFRMFish2007Jun06',\n",
       " 'BUFFRMFish2007Jun20',\n",
       " 'BUFFRMFish2007May21',\n",
       " 'BUFFRMFish2007May22',\n",
       " 'BUFFRMFish2007May23',\n",
       " 'BUFFRMFish2007May25',\n",
       " 'BUFFRMFish2007May29',\n",
       " 'BUFFRMFish2007May31',\n",
       " 'BUFFRMFish2008Jun03',\n",
       " 'BUFFRMFish2008Jun04',\n",
       " 'BUFFRMFish2008Jun05',\n",
       " 'BUFFRMFish2008Jun18',\n",
       " 'BUFFRMFish2008May19',\n",
       " 'BUFFRMFish2008May20',\n",
       " 'BUFFRMFish2008May21',\n",
       " 'BUFFRMFish2008May22',\n",
       " 'BUFFRMFish2008May23',\n",
       " 'BUFFRMFish2008May27',\n",
       " 'BUFFRMFish2008May28',\n",
       " 'BUFFRMFish2009Jun03',\n",
       " 'BUFFRMFish2009Jun08',\n",
       " 'BUFFRMFish2009Jun09',\n",
       " 'BUFFRMFish2009Jun10',\n",
       " 'BUFFRMFish2009May19',\n",
       " 'BUFFRMFish2009May20',\n",
       " 'BUFFRMFish2009May21',\n",
       " 'BUFFRMFish2009May26',\n",
       " 'BUFFRMFish2009May27',\n",
       " 'BUFFRMFish2009May28',\n",
       " 'BUFFRMFish2010Jun01',\n",
       " 'BUFFRMFish2010Jun02',\n",
       " 'BUFFRMFish2010Jun03',\n",
       " 'BUFFRMFish2010Jun08',\n",
       " 'BUFFRMFish2010Jun09',\n",
       " 'BUFFRMFish2010Jun10',\n",
       " 'BUFFRMFish2010Jun11',\n",
       " 'BUFFRMFish2010Jun23',\n",
       " 'BUFFRMFish2010May17',\n",
       " 'BUFFRMFish2010May18',\n",
       " 'BUFFRMFish2010May26',\n",
       " 'BUFFRMFish2010May27',\n",
       " 'BUFFRMFish2012May21',\n",
       " 'BUFFRMFish2012May22',\n",
       " 'BUFFRMFish2013Jun06',\n",
       " 'BUFFRMFish2013Jun10',\n",
       " 'BUFFRMFish2013Jun11',\n",
       " 'BUFFRMFish2013Jun12',\n",
       " 'BUFFRMFish2013Jun17',\n",
       " 'BUFFRMFish2013Jun18',\n",
       " 'BUFFRMFish2013Jun19',\n",
       " 'BUFFRMFish2013May20',\n",
       " 'BUFFRMFish2013May21',\n",
       " 'BUFFRMFish2013May28',\n",
       " 'BUFFRMFish2013May29',\n",
       " 'BUFFrmfish2015Jul01',\n",
       " 'BUFFrmfish2015Jun03',\n",
       " 'BUFFrmfish2015Jun04',\n",
       " 'BUFFrmfish2015Jun05',\n",
       " 'BUFFrmfish2015Jun09',\n",
       " 'BUFFrmfish2015Jun10',\n",
       " 'BUFFrmfish2015Jun15',\n",
       " 'BUFFrmfish2015Jun30',\n",
       " 'BUFFrmfish2015May22',\n",
       " 'BUFFrmfish2015May28',\n",
       " 'BUFFrmfish2015May29',\n",
       " 'EFMOStfish2017Jul18',\n",
       " 'GWCAStfish2006Jun28',\n",
       " 'GWCAStfish2007May02',\n",
       " 'HEHOStfish2017Jul18',\n",
       " 'HEHOStfish2021Jul26',\n",
       " 'HOSPStfish2015Jul07',\n",
       " 'OZARRMFISH2005DEC06',\n",
       " 'OZARRMFISH2005NOV03',\n",
       " 'OZARRMFISH2005NOV08',\n",
       " 'OZARRMFISH2005NOV10',\n",
       " 'OZARRMFISH2005OCT20',\n",
       " 'OZARRMFISH2005OCT25',\n",
       " 'OZARRMFISH2005OCT26',\n",
       " 'OZARRMFISH2005OCT27',\n",
       " 'OZARRMFISH2005OCT28',\n",
       " 'OZARRMFISH2006OCT02',\n",
       " 'OZARRMFISH2006OCT03',\n",
       " 'OZARRMFISH2006OCT04',\n",
       " 'OZARRMFISH2006OCT05',\n",
       " 'OZARRMFISH2006OCT06',\n",
       " 'OZARRMFISH2006OCT18',\n",
       " 'OZARRMFISH2006OCT19',\n",
       " 'OZARRMFISH2006OCT20',\n",
       " 'OZARRMFISH2006OCT23',\n",
       " 'OZARRMFISH2006OCT24',\n",
       " 'OZARRMFISH2006OCT25',\n",
       " 'OZARRMFISH2014Oct02',\n",
       " 'OZARRMFISH2014Oct09',\n",
       " 'OZARRMFISH2014Oct16',\n",
       " 'OZARRMFISH2014Sep22',\n",
       " 'OZARRMFISH2014Sep24',\n",
       " 'OZARRMFISH2014Sep25',\n",
       " 'OZARRMFISH2018Oct02',\n",
       " 'OZARRMFISH2018Oct03',\n",
       " 'OZARRMFISH2018Oct09',\n",
       " 'OZARRMFISH2018Oct10',\n",
       " 'OZARRMFISH2018Oct11',\n",
       " 'OZARRMFISH2018Sep18',\n",
       " 'OZARRMFISH2018Sep19',\n",
       " 'OZARRMFISH2018Sep20',\n",
       " 'OZARRMFISH2018Sep21',\n",
       " 'OZARRMFISH2018Sep25',\n",
       " 'OZARRMFISH2018Sep26',\n",
       " 'OZARRMFISH2018Sep27',\n",
       " 'OZARRMFISH2018Sep28',\n",
       " 'OZARRMFISH2022Aug29',\n",
       " 'OZARRMFISH2022Aug30',\n",
       " 'OZARRMFISH2022Aug31',\n",
       " 'OZARRMFISH2022Sep01',\n",
       " 'OZARRMFISH2022Sep02',\n",
       " 'OZARRMFISH2022Sep06',\n",
       " 'OZARRMFISH2022Sep07',\n",
       " 'OZARRMFISH2022Sep08',\n",
       " 'OZARRMFISH2022Sep09',\n",
       " 'OZARRMFISH2022Sep12',\n",
       " 'OZARRMFISH2022Sep13',\n",
       " 'OZARRMFISH2022Sep22',\n",
       " 'OZARRMFISH2024Aug26',\n",
       " 'OZARRMFISH2024Aug28',\n",
       " 'OZARRMFISH2024Aug29',\n",
       " 'OZARRMFISH2024Aug30',\n",
       " 'OZARRMFISH2024Sep03',\n",
       " 'OZARRMFISH2024Sep04',\n",
       " 'OZARRMFISH2024Sep05',\n",
       " 'OZARRMFISH2024Sep06',\n",
       " 'OZARRMFISH2024Sep09',\n",
       " 'OZARRMFISH2024Sep10',\n",
       " 'OZARRMFISH2024Sep11',\n",
       " 'OZARRMFISH2024Sep12',\n",
       " 'OZARRMFish2007Oct01',\n",
       " 'OZARRMFish2007Oct02',\n",
       " 'OZARRMFish2007Oct03',\n",
       " 'OZARRMFish2007Oct04',\n",
       " 'OZARRMFish2007Oct05',\n",
       " 'OZARRMFish2007Oct09',\n",
       " 'OZARRMFish2007Oct10',\n",
       " 'OZARRMFish2007Oct12',\n",
       " 'OZARRMFish2007Oct16',\n",
       " 'OZARRMFish2007Oct17',\n",
       " 'OZARRMFish2007Oct18',\n",
       " 'OZARRMFish2008Oct06',\n",
       " 'OZARRMFish2008Oct07',\n",
       " 'OZARRMFish2008Oct08',\n",
       " 'OZARRMFish2008Oct09',\n",
       " 'OZARRMFish2008Oct10',\n",
       " 'OZARRMFish2008Oct15',\n",
       " 'OZARRMFish2008Oct16',\n",
       " 'OZARRMFish2008Oct17',\n",
       " 'OZARRMFish2008Oct27',\n",
       " 'OZARRMFish2008Oct29',\n",
       " 'OZARRMFish2009Oct05',\n",
       " 'OZARRMFish2009Oct06',\n",
       " 'OZARRMFish2009Oct07',\n",
       " 'OZARRMFish2009Oct08',\n",
       " 'OZARRMFish2009Oct13',\n",
       " 'OZARRMFish2009Oct14',\n",
       " 'OZARRMFish2009Oct16',\n",
       " 'OZARRMFish2009Oct19',\n",
       " 'OZARRMFish2009Oct20',\n",
       " 'OZARRMFish2009Oct21',\n",
       " 'OZARRMFish2010Oct05',\n",
       " 'OZARRMFish2010Oct06',\n",
       " 'OZARRMFish2012Oct01',\n",
       " 'OZARRMFish2012Oct02',\n",
       " 'OZARRMFish2012Oct03',\n",
       " 'OZARRMFish2012Oct09',\n",
       " 'OZARRMFish2012Oct10',\n",
       " 'OZARRMFish2012Oct11',\n",
       " 'OZARRMFish2012Oct18',\n",
       " 'OZARRMFish2012Sep24',\n",
       " 'OZARRMFish2012Sep25',\n",
       " 'OZARRMFish2012Sep26',\n",
       " 'OZARRMFish2012Sep27',\n",
       " 'OZARRMFish2014Oct01',\n",
       " 'OZARRMFish2014Oct02',\n",
       " 'OZARRMFish2014Oct03',\n",
       " 'OZARRMFish2014Oct07',\n",
       " 'OZARRMFish2014Oct08',\n",
       " 'OZARRMFish2014Sep23',\n",
       " 'OZARRMFish2016Oct04',\n",
       " 'OZARRMFish2016Oct05',\n",
       " 'OZARRMFish2016Oct06',\n",
       " 'OZARRMFish2016Oct12',\n",
       " 'OZARRMFish2016Sep19',\n",
       " 'OZARRMFish2016Sep20',\n",
       " 'OZARRMFish2016Sep21',\n",
       " 'OZARRMFish2016Sep22',\n",
       " 'OZARRMFish2016Sep27',\n",
       " 'OZARRMFish2016Sep28',\n",
       " 'OZARRMFish2016Sep29',\n",
       " 'WICRStfish2006Jun15',\n",
       " 'WICRStfish2007May09',\n",
       " 'WICRStfish2013May06',\n",
       " 'WICRStfish2019Jun03',\n",
       " 'WICRStfish2019Jun11']"
      ]
     },
     "execution_count": 7,
     "metadata": {},
     "output_type": "execute_result"
    }
   ],
   "source": [
    "sorted(df['EventID'].unique())"
   ]
  },
  {
   "cell_type": "code",
   "execution_count": 8,
   "id": "c4af08bb-c9ea-400c-8f80-604a9cdc3e92",
   "metadata": {},
   "outputs": [
    {
     "data": {
      "text/plain": [
       "Season                            int64\n",
       "LocationID                       object\n",
       "EventID                          object\n",
       "Beginning_Ending                 object\n",
       "TimeSampled_hhmm_mil             object\n",
       "WaterTemp_C                     float64\n",
       "AirTemp_C                       float64\n",
       "pH                              float64\n",
       "SpecificConductance_microScm    float64\n",
       "Conductivity_microScm           float64\n",
       "DissolvedOxygen_mgL             float64\n",
       "SecchiTube                      float64\n",
       "Units                            object\n",
       "dtype: object"
      ]
     },
     "execution_count": 8,
     "metadata": {},
     "output_type": "execute_result"
    }
   ],
   "source": [
    "df.dtypes"
   ]
  },
  {
   "cell_type": "code",
   "execution_count": 9,
   "id": "afa22560-ddde-4259-be0b-84f41943223c",
   "metadata": {},
   "outputs": [
    {
     "data": {
      "text/plain": [
       "['BEGINNING', 'ENDING', 'Ending']"
      ]
     },
     "execution_count": 9,
     "metadata": {},
     "output_type": "execute_result"
    }
   ],
   "source": [
    "sorted(df['Beginning_Ending'].unique())"
   ]
  },
  {
   "cell_type": "code",
   "execution_count": 12,
   "id": "701db548-6ed0-4b54-80c9-0c5cb52f7a26",
   "metadata": {},
   "outputs": [
    {
     "data": {
      "text/plain": [
       "['1/0/1900', 'nan']"
      ]
     },
     "execution_count": 12,
     "metadata": {},
     "output_type": "execute_result"
    }
   ],
   "source": [
    "df[\"TimeSampled_hhmm_mil\"] = df[\"TimeSampled_hhmm_mil\"].astype(str)\n",
    "sorted(df['TimeSampled_hhmm_mil'].unique())"
   ]
  },
  {
   "cell_type": "code",
   "execution_count": 13,
   "id": "1759ecc6-3058-474b-9abc-c7199cc39483",
   "metadata": {},
   "outputs": [
    {
     "data": {
      "text/plain": [
       "array([[<Axes: title={'center': 'WaterTemp_C'}>]], dtype=object)"
      ]
     },
     "execution_count": 13,
     "metadata": {},
     "output_type": "execute_result"
    },
    {
     "data": {
      "image/png": "[encoded data removed]",
      "text/plain": [
       "<Figure size 640x480 with 1 Axes>"
      ]
     },
     "metadata": {},
     "output_type": "display_data"
    }
   ],
   "source": [
    "cols = ['WaterTemp_C'] \n",
    "df2 = df[(df[cols] > 0)]\n",
    "df2.hist(column='WaterTemp_C')"
   ]
  },
  {
   "cell_type": "code",
   "execution_count": 14,
   "id": "bf902ef2-4628-407b-bf8c-f377e8f4c4f0",
   "metadata": {},
   "outputs": [
    {
     "data": {
      "text/plain": [
       "array([[<Axes: title={'center': 'AirTemp_C'}>]], dtype=object)"
      ]
     },
     "execution_count": 14,
     "metadata": {},
     "output_type": "execute_result"
    },
    {
     "data": {
      "image/png": "[encoded data removed]",
      "text/plain": [
       "<Figure size 640x480 with 1 Axes>"
      ]
     },
     "metadata": {},
     "output_type": "display_data"
    }
   ],
   "source": [
    "cols = ['AirTemp_C'] \n",
    "df2 = df[(df[cols] > 0)]\n",
    "df2.hist(column='AirTemp_C')"
   ]
  },
  {
   "cell_type": "code",
   "execution_count": 15,
   "id": "657d1afb-3a3c-4f94-bccc-a05990978016",
   "metadata": {},
   "outputs": [
    {
     "data": {
      "text/plain": [
       "array([[<Axes: title={'center': 'pH'}>]], dtype=object)"
      ]
     },
     "execution_count": 15,
     "metadata": {},
     "output_type": "execute_result"
    },
    {
     "data": {
      "image/png": "[encoded data removed]",
      "text/plain": [
       "<Figure size 640x480 with 1 Axes>"
      ]
     },
     "metadata": {},
     "output_type": "display_data"
    }
   ],
   "source": [
    "cols = ['pH'] \n",
    "df2 = df[(df[cols] > 0)]\n",
    "df2.hist(column='pH')"
   ]
  },
  {
   "cell_type": "code",
   "execution_count": 16,
   "id": "83700ece-a758-47fc-91b9-7296b81e27b1",
   "metadata": {},
   "outputs": [
    {
     "data": {
      "text/plain": [
       "array([[<Axes: title={'center': 'SpecificConductance_microScm'}>]],\n",
       "      dtype=object)"
      ]
     },
     "execution_count": 16,
     "metadata": {},
     "output_type": "execute_result"
    },
    {
     "data": {
      "image/png": "[encoded data removed]",
      "text/plain": [
       "<Figure size 640x480 with 1 Axes>"
      ]
     },
     "metadata": {},
     "output_type": "display_data"
    }
   ],
   "source": [
    "cols = ['SpecificConductance_microScm'] \n",
    "df2 = df[(df[cols] > 0)]\n",
    "df2.hist(column='SpecificConductance_microScm')"
   ]
  },
  {
   "cell_type": "code",
   "execution_count": 18,
   "id": "45de30d6-8569-4891-bc1d-4c0603a7043d",
   "metadata": {},
   "outputs": [
    {
     "data": {
      "text/plain": [
       "array([[<Axes: title={'center': 'Conductivity_microScm'}>]], dtype=object)"
      ]
     },
     "execution_count": 18,
     "metadata": {},
     "output_type": "execute_result"
    },
    {
     "data": {
      "image/png": "[encoded data removed]",
      "text/plain": [
       "<Figure size 640x480 with 1 Axes>"
      ]
     },
     "metadata": {},
     "output_type": "display_data"
    }
   ],
   "source": [
    "cols = ['Conductivity_microScm'] \n",
    "df2 = df[(df[cols] > 0)]\n",
    "df2.hist(column='Conductivity_microScm')"
   ]
  },
  {
   "cell_type": "code",
   "execution_count": 21,
   "id": "9a9554c7-009d-4113-8d84-8c47f5a4e7be",
   "metadata": {},
   "outputs": [
    {
     "data": {
      "text/plain": [
       "array([[<Axes: title={'center': 'DissolvedOxygen_mgL'}>]], dtype=object)"
      ]
     },
     "execution_count": 21,
     "metadata": {},
     "output_type": "execute_result"
    },
    {
     "data": {
      "image/png": "[encoded data removed]",
      "text/plain": [
       "<Figure size 640x480 with 1 Axes>"
      ]
     },
     "metadata": {},
     "output_type": "display_data"
    }
   ],
   "source": [
    "cols = ['DissolvedOxygen_mgL'] \n",
    "df2 = df[(df[cols] > 0)]\n",
    "df2.hist(column='DissolvedOxygen_mgL')"
   ]
  },
  {
   "cell_type": "code",
   "execution_count": 22,
   "id": "983f4f53-2ab1-422c-bfbb-5b9d4f73b5a5",
   "metadata": {},
   "outputs": [
    {
     "data": {
      "text/plain": [
       "array([[<Axes: title={'center': 'SecchiTube'}>]], dtype=object)"
      ]
     },
     "execution_count": 22,
     "metadata": {},
     "output_type": "execute_result"
    },
    {
     "data": {
      "image/png": "[encoded data removed]",
      "text/plain": [
       "<Figure size 640x480 with 1 Axes>"
      ]
     },
     "metadata": {},
     "output_type": "display_data"
    }
   ],
   "source": [
    "cols = ['SecchiTube'] \n",
    "df2 = df[(df[cols] > 0)]\n",
    "df2.hist(column='SecchiTube')"
   ]
  }
 ],
 "metadata": {
  "kernelspec": {
   "display_name": "Python 3 (ipykernel)",
   "language": "python",
   "name": "python3"
  },
  "language_info": {
   "codemirror_mode": {
    "name": "ipython",
    "version": 3
   },
   "file_extension": ".py",
   "mimetype": "text/x-python",
   "name": "python",
   "nbconvert_exporter": "python",
   "pygments_lexer": "ipython3",
   "version": "3.10.15"
  }
 },
 "nbformat": 4,
 "nbformat_minor": 5
}
