{
 "cells": [
  {
   "cell_type": "code",
   "execution_count": 31,
   "id": "b72034c7-cb39-4e64-92d6-9aa5ef494d9a",
   "metadata": {},
   "outputs": [],
   "source": [
    "import pandas as pd\n",
    "import matplotlib.pyplot as plt"
   ]
  },
  {
   "cell_type": "code",
   "execution_count": 32,
   "id": "be6ded30-4f9f-41f7-b479-bd060e4b7194",
   "metadata": {},
   "outputs": [
    {
     "name": "stdout",
     "output_type": "stream",
     "text": [
      "   Season         LocationID              EventID  SiteNumber ChannelType  \\\n",
      "0    2001  PIPEShiner01above  PIPEShiner2001Sep12           1        main   \n",
      "1    2001  PIPEShiner01above  PIPEShiner2001Sep12           1        main   \n",
      "2    2001  PIPEShiner01above  PIPEShiner2001Sep12           1        main   \n",
      "3    2001  PIPEShiner01above  PIPEShiner2001Sep12           2        main   \n",
      "4    2001  PIPEShiner01above  PIPEShiner2001Sep12           2        main   \n",
      "\n",
      "   TransectNumber SampleLocation ChannelUnit  PoolForm  Width_m  Depth_cm  \\\n",
      "0               1              M          PO       NaN      3.9      21.0   \n",
      "1               2              M          PO       NaN      NaN       NaN   \n",
      "2               3              M          PO       NaN      NaN       NaN   \n",
      "3               1              M          PO       NaN      3.8      15.0   \n",
      "4               2              M          PO       NaN      NaN       NaN   \n",
      "\n",
      "   Velocity_ms Comment  \n",
      "0          NaN     NaN  \n",
      "1          NaN     NaN  \n",
      "2          NaN     NaN  \n",
      "3          NaN     NaN  \n",
      "4          NaN     NaN  \n"
     ]
    }
   ],
   "source": [
    "path = r\"C:\\Users\\GRowell\\fish-data\\raw_data\\HTLN_Fish_CrossSectionalInfo_SE.csv\"\n",
    "df = pd.read_csv(path)\n",
    "print(df.head())"
   ]
  },
  {
   "cell_type": "code",
   "execution_count": 33,
   "id": "60b00748-e1e6-454d-b762-4ae5fa3ee2c0",
   "metadata": {},
   "outputs": [
    {
     "data": {
      "text/plain": [
       "Season              int64\n",
       "LocationID         object\n",
       "EventID            object\n",
       "SiteNumber          int64\n",
       "ChannelType        object\n",
       "TransectNumber      int64\n",
       "SampleLocation     object\n",
       "ChannelUnit        object\n",
       "PoolForm          float64\n",
       "Width_m           float64\n",
       "Depth_cm          float64\n",
       "Velocity_ms       float64\n",
       "Comment            object\n",
       "dtype: object"
      ]
     },
     "execution_count": 33,
     "metadata": {},
     "output_type": "execute_result"
    }
   ],
   "source": [
    "df.dtypes"
   ]
  },
  {
   "cell_type": "code",
   "execution_count": 34,
   "id": "1dd4c3c1-6013-45e1-8f24-83875f087ab9",
   "metadata": {},
   "outputs": [
    {
     "data": {
      "text/plain": [
       "[np.int64(2001),\n",
       " np.int64(2002),\n",
       " np.int64(2003),\n",
       " np.int64(2004),\n",
       " np.int64(2005),\n",
       " np.int64(2006),\n",
       " np.int64(2007),\n",
       " np.int64(2008),\n",
       " np.int64(2009),\n",
       " np.int64(2010),\n",
       " np.int64(2011),\n",
       " np.int64(2013),\n",
       " np.int64(2014),\n",
       " np.int64(2015),\n",
       " np.int64(2016),\n",
       " np.int64(2017),\n",
       " np.int64(2018),\n",
       " np.int64(2019),\n",
       " np.int64(2021),\n",
       " np.int64(2022),\n",
       " np.int64(2023),\n",
       " np.int64(2024)]"
      ]
     },
     "execution_count": 34,
     "metadata": {},
     "output_type": "execute_result"
    }
   ],
   "source": [
    "sorted(df['Season'].unique())"
   ]
  },
  {
   "cell_type": "code",
   "execution_count": 35,
   "id": "f015a459-9dc7-4ee6-a40c-a47ff669a0f0",
   "metadata": {},
   "outputs": [
    {
     "data": {
      "text/plain": [
       "['HOMEShiner01lower',\n",
       " 'HOMEShiner01upper',\n",
       " 'PIPEShiner01above',\n",
       " 'PIPEShiner01lower',\n",
       " 'PIPEShiner01middl',\n",
       " 'PIPEShiner01upper',\n",
       " 'TAPRShiner01lower',\n",
       " 'TAPRShiner01middl',\n",
       " 'TAPRShiner01upper',\n",
       " 'TAPRShiner02lower',\n",
       " 'TAPRShiner02middl',\n",
       " 'TAPRShiner04middl',\n",
       " 'TAPRShiner05middl',\n",
       " 'TAPRShiner10middl',\n",
       " 'TAPRShiner10upper',\n",
       " 'TAPRShiner12middl',\n",
       " 'TAPRShiner17lower',\n",
       " 'TAPRShiner17upper',\n",
       " 'TAPRShiner18middl',\n",
       " 'TAPRShiner22lower',\n",
       " 'TAPRShiner22ltupp',\n",
       " 'TAPRShiner22rtupp',\n",
       " 'TAPRShiner23middl',\n",
       " 'TAPRShiner24lower',\n",
       " 'TAPRShiner24middl',\n",
       " 'TAPRShiner34lower',\n",
       " 'TAPRShiner35lower',\n",
       " 'TAPRShiner36middl',\n",
       " 'TAPRShiner36upper']"
      ]
     },
     "execution_count": 35,
     "metadata": {},
     "output_type": "execute_result"
    }
   ],
   "source": [
    "sorted(df['LocationID'].unique())"
   ]
  },
  {
   "cell_type": "code",
   "execution_count": 36,
   "id": "efbd30e6-13fa-455b-a596-2f0eb7164900",
   "metadata": {},
   "outputs": [
    {
     "data": {
      "text/plain": [
       "['HOMEShiner2004Sep13',\n",
       " 'HOMEShiner2006Aug31',\n",
       " 'HOMEShiner2008Aug27',\n",
       " 'HOMEShiner2011Sep20',\n",
       " 'HOMEShiner2015Sep03',\n",
       " 'HOMEShiner2017Sep07',\n",
       " 'HOMEShiner2023Sep07',\n",
       " 'PIPEShiner2001Sep11',\n",
       " 'PIPEShiner2001Sep12',\n",
       " 'PIPEShiner2002Sep17',\n",
       " 'PIPEShiner2003Sep04',\n",
       " 'PIPEShiner2004Sep16',\n",
       " 'PIPEShiner2005Sep20',\n",
       " 'PIPEShiner2006Aug29',\n",
       " 'PIPEShiner2006Aug30',\n",
       " 'PIPEShiner2007Aug28',\n",
       " 'PIPEShiner2008Aug26',\n",
       " 'PIPEShiner2009Aug25',\n",
       " 'PIPEShiner2010Aug31',\n",
       " 'PIPEShiner2011Aug31',\n",
       " 'PIPEShiner2013Sep13',\n",
       " 'PIPEShiner2013Sep14',\n",
       " 'PIPEShiner2016Sep10',\n",
       " 'PIPEShiner2018Sep08',\n",
       " 'PIPEShiner2021Aug26',\n",
       " 'PIPEShiner2022Aug18',\n",
       " 'PIPEShiner2023Aug29',\n",
       " 'PIPEShiner2024Aug20',\n",
       " 'TAPRShiner2001Aug28',\n",
       " 'TAPRShiner2001Aug29',\n",
       " 'TAPRShiner2001Aug30',\n",
       " 'TAPRShiner2001Aug31',\n",
       " 'TAPRShiner2001Oct09',\n",
       " 'TAPRShiner2001Oct10',\n",
       " 'TAPRShiner2001Oct11',\n",
       " 'TAPRShiner2001Oct12',\n",
       " 'TAPRShiner2001Oct13',\n",
       " 'TAPRShiner2002Oct01',\n",
       " 'TAPRShiner2002Oct02',\n",
       " 'TAPRShiner2002Oct03',\n",
       " 'TAPRShiner2002Oct04',\n",
       " 'TAPRShiner2002Oct05',\n",
       " 'TAPRShiner2003Oct06',\n",
       " 'TAPRShiner2003Oct07',\n",
       " 'TAPRShiner2003Oct08',\n",
       " 'TAPRShiner2003Oct09',\n",
       " 'TAPRShiner2004Oct04',\n",
       " 'TAPRShiner2004Oct05',\n",
       " 'TAPRShiner2004Oct06',\n",
       " 'TAPRShiner2004Oct07',\n",
       " 'TAPRShiner2005Oct03',\n",
       " 'TAPRShiner2005Oct04',\n",
       " 'TAPRShiner2005Oct05',\n",
       " 'TAPRShiner2006Sep18',\n",
       " 'TAPRShiner2006Sep19',\n",
       " 'TAPRShiner2006Sep20',\n",
       " 'TAPRShiner2007Sep09',\n",
       " 'TAPRShiner2007Sep10',\n",
       " 'TAPRShiner2007Sep11',\n",
       " 'TAPRShiner2007Sep12',\n",
       " 'TAPRShiner2007Sep13',\n",
       " 'TAPRShiner2008Sep07',\n",
       " 'TAPRShiner2008Sep08',\n",
       " 'TAPRShiner2008Sep09',\n",
       " 'TAPRShiner2008Sep10',\n",
       " 'TAPRShiner2009Sep08',\n",
       " 'TAPRShiner2009Sep09',\n",
       " 'TAPRShiner2009Sep10',\n",
       " 'TAPRShiner2009Sep11',\n",
       " 'TAPRShiner2010Sep07',\n",
       " 'TAPRShiner2010Sep08',\n",
       " 'TAPRShiner2013Sep18',\n",
       " 'TAPRShiner2013Sep19',\n",
       " 'TAPRShiner2014Sep09',\n",
       " 'TAPRShiner2014Sep10',\n",
       " 'TAPRShiner2015Aug30',\n",
       " 'TAPRShiner2015Aug31',\n",
       " 'TAPRShiner2015Sep01',\n",
       " 'TAPRShiner2015Sep02',\n",
       " 'TAPRShiner2016Sep01',\n",
       " 'TAPRShiner2016Sep02',\n",
       " 'TAPRShiner2017Sep05',\n",
       " 'TAPRShiner2017Sep06',\n",
       " 'TAPRShiner2018Sep04',\n",
       " 'TAPRShiner2018Sep05',\n",
       " 'TAPRShiner2018Sep06',\n",
       " 'TAPRShiner2018Sep07',\n",
       " 'TAPRShiner2019Sep10',\n",
       " 'TAPRShiner2019Sep11',\n",
       " 'TAPRShiner2021Sep07',\n",
       " 'TAPRShiner2021Sep08',\n",
       " 'TAPRShiner2021Sep09',\n",
       " 'TAPRShiner2021Sep10',\n",
       " 'TAPRShiner2022Aug16',\n",
       " 'TAPRShiner2022Aug17',\n",
       " 'TAPRShiner2024Aug12',\n",
       " 'TAPRShiner2024Aug13',\n",
       " 'TAPRShiner2024Aug14',\n",
       " 'TAPRShiner2024Aug15',\n",
       " 'TAPRShiner2024Aug16']"
      ]
     },
     "execution_count": 36,
     "metadata": {},
     "output_type": "execute_result"
    }
   ],
   "source": [
    "sorted(df['EventID'].unique())"
   ]
  },
  {
   "cell_type": "code",
   "execution_count": 37,
   "id": "795c2315-10fc-4917-8e72-f81c73a66f25",
   "metadata": {},
   "outputs": [
    {
     "data": {
      "text/plain": [
       "Season              int64\n",
       "LocationID         object\n",
       "EventID            object\n",
       "SiteNumber          int64\n",
       "ChannelType        object\n",
       "TransectNumber      int64\n",
       "SampleLocation     object\n",
       "ChannelUnit        object\n",
       "PoolForm          float64\n",
       "Width_m           float64\n",
       "Depth_cm          float64\n",
       "Velocity_ms       float64\n",
       "Comment            object\n",
       "dtype: object"
      ]
     },
     "execution_count": 37,
     "metadata": {},
     "output_type": "execute_result"
    }
   ],
   "source": [
    "df.dtypes"
   ]
  },
  {
   "cell_type": "code",
   "execution_count": 38,
   "id": "0a3e0195-04d9-454c-921a-e8abd3a159d6",
   "metadata": {},
   "outputs": [
    {
     "data": {
      "text/plain": [
       "[np.int64(1), np.int64(2), np.int64(3), np.int64(4), np.int64(5)]"
      ]
     },
     "execution_count": 38,
     "metadata": {},
     "output_type": "execute_result"
    }
   ],
   "source": [
    "sorted(df[\"SiteNumber\"].unique())"
   ]
  },
  {
   "cell_type": "code",
   "execution_count": 39,
   "id": "8774df89-f995-4d96-96c7-17b778c06d1a",
   "metadata": {},
   "outputs": [
    {
     "data": {
      "text/plain": [
       "['main']"
      ]
     },
     "execution_count": 39,
     "metadata": {},
     "output_type": "execute_result"
    }
   ],
   "source": [
    "sorted(df[\"ChannelType\"].unique())"
   ]
  },
  {
   "cell_type": "code",
   "execution_count": 40,
   "id": "d2f675ad-9fd9-4aec-95ca-6fe97dffb94b",
   "metadata": {},
   "outputs": [
    {
     "data": {
      "text/plain": [
       "[np.int64(1), np.int64(2), np.int64(3)]"
      ]
     },
     "execution_count": 40,
     "metadata": {},
     "output_type": "execute_result"
    }
   ],
   "source": [
    "sorted(df[\"TransectNumber\"].unique())"
   ]
  },
  {
   "cell_type": "code",
   "execution_count": 41,
   "id": "5ca897fb-765b-4212-8688-bd4c8d8a7dc8",
   "metadata": {},
   "outputs": [
    {
     "data": {
      "text/plain": [
       "['M']"
      ]
     },
     "execution_count": 41,
     "metadata": {},
     "output_type": "execute_result"
    }
   ],
   "source": [
    "sorted(df[\"SampleLocation\"].unique())"
   ]
  },
  {
   "cell_type": "code",
   "execution_count": 42,
   "id": "05b35bf7-465c-4ef5-97e6-5f23981b5ada",
   "metadata": {},
   "outputs": [
    {
     "data": {
      "text/plain": [
       "['GL', 'PO', 'RI', 'RRX', 'RU']"
      ]
     },
     "execution_count": 42,
     "metadata": {},
     "output_type": "execute_result"
    }
   ],
   "source": [
    "sorted(df[\"ChannelUnit\"].unique())"
   ]
  },
  {
   "cell_type": "code",
   "execution_count": 25,
   "id": "97ac2f87-f9d7-48ab-8dee-2df1638b34a0",
   "metadata": {},
   "outputs": [
    {
     "data": {
      "text/plain": [
       "['nan']"
      ]
     },
     "execution_count": 25,
     "metadata": {},
     "output_type": "execute_result"
    }
   ],
   "source": [
    "df[\"PoolForm\"] = df[\"PoolForm\"].astype(str)\n",
    "sorted(df[\"PoolForm\"].unique())"
   ]
  },
  {
   "cell_type": "code",
   "execution_count": 26,
   "id": "8e726db0-408d-4ac0-b9bc-f0abe1ec1d5b",
   "metadata": {},
   "outputs": [
    {
     "data": {
      "text/plain": [
       "array([[<Axes: title={'center': 'Width_m'}>]], dtype=object)"
      ]
     },
     "execution_count": 26,
     "metadata": {},
     "output_type": "execute_result"
    },
    {
     "data": {
      "image/png": "[encoded data removed]",
      "text/plain": [
       "<Figure size 640x480 with 1 Axes>"
      ]
     },
     "metadata": {},
     "output_type": "display_data"
    }
   ],
   "source": [
    "cols = ['Width_m'] \n",
    "df2 = df[(df[cols] > 0) & (df[cols] <= 200)]\n",
    "df2.hist(column='Width_m')"
   ]
  },
  {
   "cell_type": "code",
   "execution_count": 27,
   "id": "72fef46a-32a4-459a-af0f-efc4de12e344",
   "metadata": {},
   "outputs": [
    {
     "data": {
      "text/plain": [
       "Season              int64\n",
       "LocationID         object\n",
       "EventID            object\n",
       "SiteNumber          int64\n",
       "ChannelType        object\n",
       "TransectNumber      int64\n",
       "SampleLocation     object\n",
       "ChannelUnit        object\n",
       "PoolForm           object\n",
       "Width_m           float64\n",
       "Depth_cm          float64\n",
       "Velocity_ms       float64\n",
       "Comment            object\n",
       "dtype: object"
      ]
     },
     "execution_count": 27,
     "metadata": {},
     "output_type": "execute_result"
    }
   ],
   "source": [
    "df.dtypes"
   ]
  },
  {
   "cell_type": "code",
   "execution_count": 28,
   "id": "41ce0260-0b8e-4c9f-be96-a24fb13e56a7",
   "metadata": {},
   "outputs": [
    {
     "data": {
      "text/plain": [
       "array([[<Axes: title={'center': 'Depth_cm'}>]], dtype=object)"
      ]
     },
     "execution_count": 28,
     "metadata": {},
     "output_type": "execute_result"
    },
    {
     "data": {
      "image/png": "[encoded data removed]",
      "text/plain": [
       "<Figure size 640x480 with 1 Axes>"
      ]
     },
     "metadata": {},
     "output_type": "display_data"
    }
   ],
   "source": [
    "cols = ['Depth_cm'] \n",
    "df2 = df[(df[cols] > 0)]\n",
    "df2.hist(column='Depth_cm')"
   ]
  },
  {
   "cell_type": "code",
   "execution_count": 29,
   "id": "8a4ddc63-cd2b-4bb0-a9bc-ec9d97fc8cef",
   "metadata": {},
   "outputs": [
    {
     "data": {
      "text/plain": [
       "array([[<Axes: title={'center': 'Velocity_ms'}>]], dtype=object)"
      ]
     },
     "execution_count": 29,
     "metadata": {},
     "output_type": "execute_result"
    },
    {
     "data": {
      "image/png": "[encoded data removed]",
      "text/plain": [
       "<Figure size 640x480 with 1 Axes>"
      ]
     },
     "metadata": {},
     "output_type": "display_data"
    }
   ],
   "source": [
    "cols = ['Velocity_ms'] \n",
    "df2 = df[(df[cols] > 0)]\n",
    "df2.hist(column='Velocity_ms')"
   ]
  },
  {
   "cell_type": "code",
   "execution_count": 30,
   "id": "d6e3eaa5-64a2-4469-9e1d-9e37faeda89f",
   "metadata": {},
   "outputs": [
    {
     "data": {
      "text/plain": [
       "['Field sheet had 0.09 as Depth which is incorrect changed to -999 in DB',\n",
       " 'No habitat data collected by SDSU',\n",
       " 'nan']"
      ]
     },
     "execution_count": 30,
     "metadata": {},
     "output_type": "execute_result"
    }
   ],
   "source": [
    "df[\"Comment\"] = df[\"Comment\"].astype(str)\n",
    "sorted(df[\"Comment\"].unique())"
   ]
  }
 ],
 "metadata": {
  "kernelspec": {
   "display_name": "Python 3 (ipykernel)",
   "language": "python",
   "name": "python3"
  },
  "language_info": {
   "codemirror_mode": {
    "name": "ipython",
    "version": 3
   },
   "file_extension": ".py",
   "mimetype": "text/x-python",
   "name": "python",
   "nbconvert_exporter": "python",
   "pygments_lexer": "ipython3",
   "version": "3.10.15"
  }
 },
 "nbformat": 4,
 "nbformat_minor": 5
}
