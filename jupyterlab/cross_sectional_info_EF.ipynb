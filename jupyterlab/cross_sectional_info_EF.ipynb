{
 "cells": [
  {
   "cell_type": "code",
   "execution_count": 1,
   "id": "b72034c7-cb39-4e64-92d6-9aa5ef494d9a",
   "metadata": {},
   "outputs": [],
   "source": [
    "import pandas as pd\n",
    "import matplotlib.pyplot as plt"
   ]
  },
  {
   "cell_type": "code",
   "execution_count": 31,
   "id": "be6ded30-4f9f-41f7-b479-bd060e4b7194",
   "metadata": {},
   "outputs": [
    {
     "name": "stdout",
     "output_type": "stream",
     "text": [
      "  ParkCode  Season        LocationID              EventID   ChannelType  \\\n",
      "0     BUFF    2015    BUFFRMFISHBM01  BUFFrmfish2015Jun05  side channel   \n",
      "1     OZRS    2015  OZRSSPRNGSSITE04  OZRSSPRNGS2015Aug06          main   \n",
      "2     OZAR    2016    OZARRMFISHCM04  OZARRMFish2016Oct05          Main   \n",
      "3     BUFF    2019    BUFFRMFISHBM05  BUFFRMFISH2019Jun18          main   \n",
      "4     BUFF    2019    BUFFRMFISHBM06  BUFFRMFISH2019Jun20          main   \n",
      "\n",
      "   TransectNumber SampleLocation ChannelUnit PoolForm  Width_m  Depth_cm  \\\n",
      "0               5              M         RRX      NaN     14.0      20.0   \n",
      "1              10              M          RU      NaN     13.4      38.0   \n",
      "2               2              M          RU      NaN     42.5      80.0   \n",
      "3              11              R          RU      NaN     33.0     110.0   \n",
      "4               1              R          RI      NaN     39.0      72.0   \n",
      "\n",
      "   Velocity_ms  DomSubstrate  DomSubstrateMidpoint  Embeddedness  \\\n",
      "0         1.99          18.0                 154.0           1.0   \n",
      "1         1.94          14.0                  38.5           2.0   \n",
      "2         1.93          18.0                 154.0           2.0   \n",
      "3         1.85          24.0               10000.0           0.0   \n",
      "4         1.85          13.0                  27.3           1.0   \n",
      "\n",
      "   EmbeddednessMidpoint  CanopyCover  CanopyCoverMidpoint Comment  \n",
      "0                   5.0          4.0                 87.5     NaN  \n",
      "1                  25.0          2.0                 25.0     NaN  \n",
      "2                  25.0          0.0                  0.0     NaN  \n",
      "3                   0.0          0.0                  0.0     NaN  \n",
      "4                   5.0          0.0                  0.0     NaN  \n"
     ]
    }
   ],
   "source": [
    "path = r\"C:\\Users\\GRowell\\fish-data\\raw_data\\HTLN_Fish_CrossSectionalInfo_EF.csv\"\n",
    "df = pd.read_csv(path)\n",
    "print(df.head())"
   ]
  },
  {
   "cell_type": "code",
   "execution_count": 6,
   "id": "60b00748-e1e6-454d-b762-4ae5fa3ee2c0",
   "metadata": {},
   "outputs": [
    {
     "data": {
      "text/plain": [
       "ParkCode                 object\n",
       "Season                    int64\n",
       "LocationID               object\n",
       "EventID                  object\n",
       "ChannelType              object\n",
       "TransectNumber            int64\n",
       "SampleLocation           object\n",
       "ChannelUnit              object\n",
       "PoolForm                 object\n",
       "Width_m                 float64\n",
       "Depth_cm                float64\n",
       "Velocity_ms             float64\n",
       "DomSubstrate            float64\n",
       "DomSubstrateMidpoint    float64\n",
       "Embeddedness            float64\n",
       "EmbeddednessMidpoint    float64\n",
       "CanopyCover             float64\n",
       "CanopyCoverMidpoint     float64\n",
       "Comment                  object\n",
       "dtype: object"
      ]
     },
     "execution_count": 6,
     "metadata": {},
     "output_type": "execute_result"
    }
   ],
   "source": [
    "df.dtypes"
   ]
  },
  {
   "cell_type": "code",
   "execution_count": 7,
   "id": "1dd4c3c1-6013-45e1-8f24-83875f087ab9",
   "metadata": {},
   "outputs": [
    {
     "data": {
      "text/plain": [
       "[np.int64(2006),\n",
       " np.int64(2007),\n",
       " np.int64(2008),\n",
       " np.int64(2009),\n",
       " np.int64(2010),\n",
       " np.int64(2011),\n",
       " np.int64(2012),\n",
       " np.int64(2013),\n",
       " np.int64(2014),\n",
       " np.int64(2015),\n",
       " np.int64(2016),\n",
       " np.int64(2017),\n",
       " np.int64(2018),\n",
       " np.int64(2019),\n",
       " np.int64(2020),\n",
       " np.int64(2021),\n",
       " np.int64(2022),\n",
       " np.int64(2023),\n",
       " np.int64(2024)]"
      ]
     },
     "execution_count": 7,
     "metadata": {},
     "output_type": "execute_result"
    }
   ],
   "source": [
    "sorted(df['Season'].unique())"
   ]
  },
  {
   "cell_type": "code",
   "execution_count": 8,
   "id": "f015a459-9dc7-4ee6-a40c-a47ff669a0f0",
   "metadata": {},
   "outputs": [
    {
     "data": {
      "text/plain": [
       "['BUFFRMFISHBM01',\n",
       " 'BUFFRMFISHBM02',\n",
       " 'BUFFRMFISHBM03',\n",
       " 'BUFFRMFISHBM04',\n",
       " 'BUFFRMFISHBM05',\n",
       " 'BUFFRMFISHBM06',\n",
       " 'BUFFRMFISHBT01',\n",
       " 'BUFFRMFISHBT03',\n",
       " 'BUFFRMFISHBT04',\n",
       " 'BUFFRMFISHBT05',\n",
       " 'BUFFRMFISHBT06',\n",
       " 'BUFFRMFISHBT07',\n",
       " 'BUFFRMFISHBT08',\n",
       " 'BUFFRMFISHBT09',\n",
       " 'BUFFRMFISHBT10',\n",
       " 'BUFFRMFISHBT11',\n",
       " 'BUFFRMFISHBT12',\n",
       " 'BUFFRMFISHBT13',\n",
       " 'BUFFRMFISHBT14',\n",
       " 'BUFFRMFISHBT15',\n",
       " 'BUFFRMFISHBT16',\n",
       " 'BUFFRMFISHBT17',\n",
       " 'BUFFRMFISHBT19',\n",
       " 'BUFFRMFISHBT20',\n",
       " 'BUFFRMFISHBT21',\n",
       " 'BUFFRMFISHBT22',\n",
       " 'BUFFRMFISHBT23',\n",
       " 'BUFFRMFISHBT24',\n",
       " 'BUFFRMFISHBT25',\n",
       " 'BUFFRMFISHBT27',\n",
       " 'BUFFRMFISHBT28',\n",
       " 'BUFFRMFISHBT29',\n",
       " 'BUFFRMFISHBT30',\n",
       " 'BUFFRMFISHBT31',\n",
       " 'BUFFRMFISHBT32',\n",
       " 'BUFFRMFISHBT33',\n",
       " 'EFMOStfish01',\n",
       " 'GWCAStfish01',\n",
       " 'GWCAStfish02',\n",
       " 'GWCAStfish03',\n",
       " 'HEHOStfish01',\n",
       " 'HOSPStfish01',\n",
       " 'HOSPStfish02',\n",
       " 'OZARRMFISHCM01',\n",
       " 'OZARRMFISHCM02',\n",
       " 'OZARRMFISHCM02_Shift',\n",
       " 'OZARRMFISHCM03',\n",
       " 'OZARRMFISHCM03_Shift',\n",
       " 'OZARRMFISHCM04',\n",
       " 'OZARRMFISHCM05',\n",
       " 'OZARRMFISHCM06',\n",
       " 'OZARRMFISHCM06_Shift',\n",
       " 'OZARRMFISHCT01',\n",
       " 'OZARRMFISHCT02',\n",
       " 'OZARRMFISHCT03',\n",
       " 'OZARRMFISHCT04',\n",
       " 'OZARRMFISHCT06',\n",
       " 'OZARRMFISHCT07',\n",
       " 'OZARRMFISHCT08',\n",
       " 'OZARRMFISHCT09',\n",
       " 'OZARRMFISHCT11',\n",
       " 'OZARRMFISHCT12',\n",
       " 'OZARRMFISHCT13',\n",
       " 'OZARRMFISHCT14',\n",
       " 'OZARRMFISHCT15',\n",
       " 'OZARRMFISHCT16',\n",
       " 'OZARRMFISHJM01',\n",
       " 'OZARRMFISHJM02',\n",
       " 'OZARRMFISHJM03',\n",
       " 'OZARRMFISHJM03_Shift',\n",
       " 'OZARRMFISHJT01',\n",
       " 'OZARRMFISHJT02',\n",
       " 'OZARRMFISHJT03',\n",
       " 'OZRSSPRNGSSITE01',\n",
       " 'OZRSSPRNGSSITE02',\n",
       " 'OZRSSPRNGSSITE03',\n",
       " 'OZRSSPRNGSSITE04',\n",
       " 'OZRSSPRNGSSITE05',\n",
       " 'OZRSSPRNGSSITE06',\n",
       " 'OZRSSPRNGSSITE07',\n",
       " 'PERIStfish01',\n",
       " 'WICRStfish01',\n",
       " 'WICRStfish02',\n",
       " 'WICRStfish03']"
      ]
     },
     "execution_count": 8,
     "metadata": {},
     "output_type": "execute_result"
    }
   ],
   "source": [
    "sorted(df['LocationID'].unique())"
   ]
  },
  {
   "cell_type": "code",
   "execution_count": 9,
   "id": "efbd30e6-13fa-455b-a596-2f0eb7164900",
   "metadata": {},
   "outputs": [
    {
     "data": {
      "text/plain": [
       "['BUFFRMFISH2006JUN01',\n",
       " 'BUFFRMFISH2006JUN02',\n",
       " 'BUFFRMFISH2006JUN05',\n",
       " 'BUFFRMFISH2006JUN06',\n",
       " 'BUFFRMFISH2006JUN12',\n",
       " 'BUFFRMFISH2006MAY22',\n",
       " 'BUFFRMFISH2006MAY23',\n",
       " 'BUFFRMFISH2006MAY24',\n",
       " 'BUFFRMFISH2006MAY25',\n",
       " 'BUFFRMFISH2006MAY30',\n",
       " 'BUFFRMFISH2017Jun01',\n",
       " 'BUFFRMFISH2017Jun02',\n",
       " 'BUFFRMFISH2017Jun13',\n",
       " 'BUFFRMFISH2017Jun14',\n",
       " 'BUFFRMFISH2017Jun15',\n",
       " 'BUFFRMFISH2017Jun21',\n",
       " 'BUFFRMFISH2017Jun22',\n",
       " 'BUFFRMFISH2017May24',\n",
       " 'BUFFRMFISH2017May25',\n",
       " 'BUFFRMFISH2017May30',\n",
       " 'BUFFRMFISH2017May31',\n",
       " 'BUFFRMFISH2019Jun05',\n",
       " 'BUFFRMFISH2019Jun06',\n",
       " 'BUFFRMFISH2019Jun12',\n",
       " 'BUFFRMFISH2019Jun14',\n",
       " 'BUFFRMFISH2019Jun17',\n",
       " 'BUFFRMFISH2019Jun18',\n",
       " 'BUFFRMFISH2019Jun19',\n",
       " 'BUFFRMFISH2019Jun20',\n",
       " 'BUFFRMFISH2019May22',\n",
       " 'BUFFRMFISH2019May23',\n",
       " 'BUFFRMFISH2019May24',\n",
       " 'BUFFRMFISH2019May28',\n",
       " 'BUFFRMFISH2021Jun09',\n",
       " 'BUFFRMFISH2021Jun10',\n",
       " 'BUFFRMFISH2021Jun11',\n",
       " 'BUFFRMFISH2021Jun16',\n",
       " 'BUFFRMFISH2021May17',\n",
       " 'BUFFRMFISH2021May18',\n",
       " 'BUFFRMFISH2021May24',\n",
       " 'BUFFRMFISH2023Jun01',\n",
       " 'BUFFRMFISH2023Jun02',\n",
       " 'BUFFRMFISH2023Jun06',\n",
       " 'BUFFRMFISH2023Jun07',\n",
       " 'BUFFRMFISH2023Jun14',\n",
       " 'BUFFRMFISH2023May23',\n",
       " 'BUFFRMFISH2023May24',\n",
       " 'BUFFRMFISH2023May25',\n",
       " 'BUFFRMFISH2023May26',\n",
       " 'BUFFRMFISH2023May30',\n",
       " 'BUFFRMFISH2023May31',\n",
       " 'BUFFRMFish2007Jun01',\n",
       " 'BUFFRMFish2007Jun04',\n",
       " 'BUFFRMFish2007Jun05',\n",
       " 'BUFFRMFish2007Jun06',\n",
       " 'BUFFRMFish2007Jun20',\n",
       " 'BUFFRMFish2007May21',\n",
       " 'BUFFRMFish2007May22',\n",
       " 'BUFFRMFish2007May23',\n",
       " 'BUFFRMFish2007May25',\n",
       " 'BUFFRMFish2007May29',\n",
       " 'BUFFRMFish2007May30',\n",
       " 'BUFFRMFish2007May31',\n",
       " 'BUFFRMFish2008Jun03',\n",
       " 'BUFFRMFish2008Jun04',\n",
       " 'BUFFRMFish2008Jun05',\n",
       " 'BUFFRMFish2008Jun18',\n",
       " 'BUFFRMFish2008May19',\n",
       " 'BUFFRMFish2008May20',\n",
       " 'BUFFRMFish2008May21',\n",
       " 'BUFFRMFish2008May22',\n",
       " 'BUFFRMFish2008May23',\n",
       " 'BUFFRMFish2008May27',\n",
       " 'BUFFRMFish2008May28',\n",
       " 'BUFFRMFish2009Jun03',\n",
       " 'BUFFRMFish2009Jun08',\n",
       " 'BUFFRMFish2009Jun09',\n",
       " 'BUFFRMFish2009Jun10',\n",
       " 'BUFFRMFish2009May19',\n",
       " 'BUFFRMFish2009May20',\n",
       " 'BUFFRMFish2009May21',\n",
       " 'BUFFRMFish2009May26',\n",
       " 'BUFFRMFish2009May27',\n",
       " 'BUFFRMFish2009May28',\n",
       " 'BUFFRMFish2010Jun01',\n",
       " 'BUFFRMFish2010Jun02',\n",
       " 'BUFFRMFish2010Jun03',\n",
       " 'BUFFRMFish2010Jun08',\n",
       " 'BUFFRMFish2010Jun09',\n",
       " 'BUFFRMFish2010Jun10',\n",
       " 'BUFFRMFish2010Jun11',\n",
       " 'BUFFRMFish2010Jun23',\n",
       " 'BUFFRMFish2010May17',\n",
       " 'BUFFRMFish2010May18',\n",
       " 'BUFFRMFish2010May26',\n",
       " 'BUFFRMFish2010May27',\n",
       " 'BUFFRMFish2012May21',\n",
       " 'BUFFRMFish2012May22',\n",
       " 'BUFFRMFish2013Jun06',\n",
       " 'BUFFRMFish2013Jun10',\n",
       " 'BUFFRMFish2013Jun11',\n",
       " 'BUFFRMFish2013Jun12',\n",
       " 'BUFFRMFish2013Jun17',\n",
       " 'BUFFRMFish2013Jun18',\n",
       " 'BUFFRMFish2013Jun19',\n",
       " 'BUFFRMFish2013May20',\n",
       " 'BUFFRMFish2013May21',\n",
       " 'BUFFRMFish2013May28',\n",
       " 'BUFFRMFish2013May29',\n",
       " 'BUFFrmfish2015Jul01',\n",
       " 'BUFFrmfish2015Jun03',\n",
       " 'BUFFrmfish2015Jun04',\n",
       " 'BUFFrmfish2015Jun05',\n",
       " 'BUFFrmfish2015Jun09',\n",
       " 'BUFFrmfish2015Jun10',\n",
       " 'BUFFrmfish2015Jun15',\n",
       " 'BUFFrmfish2015Jun30',\n",
       " 'BUFFrmfish2015May22',\n",
       " 'BUFFrmfish2015May28',\n",
       " 'BUFFrmfish2015May29',\n",
       " 'EFMOStfish2008Jul09',\n",
       " 'EFMOStfish2014Aug13',\n",
       " 'EFMOStfish2017Jul18',\n",
       " 'EFMOStfish2023Jul19',\n",
       " 'GWCAStfish2006Jun28',\n",
       " 'GWCAStfish2007May02',\n",
       " 'GWCAStfish2010May05',\n",
       " 'GWCAStfish2013May01',\n",
       " 'GWCAStfish2016May02',\n",
       " 'GWCAStfish2019May06',\n",
       " 'GWCAStfish2022May03',\n",
       " 'GWCAStfish2022May09',\n",
       " 'HEHOStfish2008Jul08',\n",
       " 'HEHOStfish2011Jul11',\n",
       " 'HEHOStfish2014Aug12',\n",
       " 'HEHOStfish2017Jul18',\n",
       " 'HEHOStfish2021Jul26',\n",
       " 'HEHOStfish2022Jul05',\n",
       " 'HEHOStfish2023Jul17',\n",
       " 'HOSPStfish2009Jun16',\n",
       " 'HOSPStfish2012Jul10',\n",
       " 'HOSPStfish2015Jul07',\n",
       " 'HOSPStfish2018Jul09',\n",
       " 'HOSPStfish2018Jul10',\n",
       " 'HOSPStfish2024Jul16',\n",
       " 'HOSPStfish2024Jul17',\n",
       " 'OZARRMFISH2006OCT02',\n",
       " 'OZARRMFISH2006OCT03',\n",
       " 'OZARRMFISH2006OCT04',\n",
       " 'OZARRMFISH2006OCT05',\n",
       " 'OZARRMFISH2006OCT06',\n",
       " 'OZARRMFISH2006OCT18',\n",
       " 'OZARRMFISH2006OCT19',\n",
       " 'OZARRMFISH2006OCT20',\n",
       " 'OZARRMFISH2006OCT23',\n",
       " 'OZARRMFISH2006OCT24',\n",
       " 'OZARRMFISH2006OCT25',\n",
       " 'OZARRMFISH2007OCT10',\n",
       " 'OZARRMFISH2010OCT05',\n",
       " 'OZARRMFISH2010OCT06',\n",
       " 'OZARRMFISH2014Oct09',\n",
       " 'OZARRMFISH2014Oct16',\n",
       " 'OZARRMFISH2014Sep22',\n",
       " 'OZARRMFISH2014Sep24',\n",
       " 'OZARRMFISH2014Sep25',\n",
       " 'OZARRMFISH2018Oct02',\n",
       " 'OZARRMFISH2018Oct03',\n",
       " 'OZARRMFISH2018Oct09',\n",
       " 'OZARRMFISH2018Oct10',\n",
       " 'OZARRMFISH2018Oct11',\n",
       " 'OZARRMFISH2018Sep18',\n",
       " 'OZARRMFISH2018Sep19',\n",
       " 'OZARRMFISH2018Sep20',\n",
       " 'OZARRMFISH2018Sep21',\n",
       " 'OZARRMFISH2018Sep25',\n",
       " 'OZARRMFISH2018Sep26',\n",
       " 'OZARRMFISH2018Sep27',\n",
       " 'OZARRMFISH2018Sep28',\n",
       " 'OZARRMFISH2022Aug29',\n",
       " 'OZARRMFISH2022Aug30',\n",
       " 'OZARRMFISH2022Aug31',\n",
       " 'OZARRMFISH2022Sep01',\n",
       " 'OZARRMFISH2022Sep02',\n",
       " 'OZARRMFISH2022Sep06',\n",
       " 'OZARRMFISH2022Sep07',\n",
       " 'OZARRMFISH2022Sep08',\n",
       " 'OZARRMFISH2022Sep09',\n",
       " 'OZARRMFISH2022Sep12',\n",
       " 'OZARRMFISH2022Sep13',\n",
       " 'OZARRMFISH2022Sep22',\n",
       " 'OZARRMFISH2024Aug26',\n",
       " 'OZARRMFISH2024Aug28',\n",
       " 'OZARRMFISH2024Aug29',\n",
       " 'OZARRMFISH2024Aug30',\n",
       " 'OZARRMFISH2024Sep03',\n",
       " 'OZARRMFISH2024Sep04',\n",
       " 'OZARRMFISH2024Sep05',\n",
       " 'OZARRMFISH2024Sep06',\n",
       " 'OZARRMFISH2024Sep09',\n",
       " 'OZARRMFISH2024Sep10',\n",
       " 'OZARRMFISH2024Sep11',\n",
       " 'OZARRMFISH2024Sep12',\n",
       " 'OZARRMFish2007Oct01',\n",
       " 'OZARRMFish2007Oct02',\n",
       " 'OZARRMFish2007Oct03',\n",
       " 'OZARRMFish2007Oct04',\n",
       " 'OZARRMFish2007Oct05',\n",
       " 'OZARRMFish2007Oct09',\n",
       " 'OZARRMFish2007Oct10',\n",
       " 'OZARRMFish2007Oct12',\n",
       " 'OZARRMFish2007Oct16',\n",
       " 'OZARRMFish2007Oct17',\n",
       " 'OZARRMFish2007Oct18',\n",
       " 'OZARRMFish2008Oct06',\n",
       " 'OZARRMFish2008Oct07',\n",
       " 'OZARRMFish2008Oct08',\n",
       " 'OZARRMFish2008Oct09',\n",
       " 'OZARRMFish2008Oct10',\n",
       " 'OZARRMFish2008Oct15',\n",
       " 'OZARRMFish2008Oct16',\n",
       " 'OZARRMFish2008Oct17',\n",
       " 'OZARRMFish2008Oct27',\n",
       " 'OZARRMFish2008Oct29',\n",
       " 'OZARRMFish2009Oct05',\n",
       " 'OZARRMFish2009Oct06',\n",
       " 'OZARRMFish2009Oct07',\n",
       " 'OZARRMFish2009Oct08',\n",
       " 'OZARRMFish2009Oct13',\n",
       " 'OZARRMFish2009Oct14',\n",
       " 'OZARRMFish2009Oct16',\n",
       " 'OZARRMFish2009Oct19',\n",
       " 'OZARRMFish2009Oct20',\n",
       " 'OZARRMFish2009Oct21',\n",
       " 'OZARRMFish2012Oct01',\n",
       " 'OZARRMFish2012Oct02',\n",
       " 'OZARRMFish2012Oct03',\n",
       " 'OZARRMFish2012Oct09',\n",
       " 'OZARRMFish2012Oct10',\n",
       " 'OZARRMFish2012Oct11',\n",
       " 'OZARRMFish2012Oct18',\n",
       " 'OZARRMFish2012Sep24',\n",
       " 'OZARRMFish2012Sep25',\n",
       " 'OZARRMFish2012Sep26',\n",
       " 'OZARRMFish2012Sep27',\n",
       " 'OZARRMFish2014Oct01',\n",
       " 'OZARRMFish2014Oct02',\n",
       " 'OZARRMFish2014Oct03',\n",
       " 'OZARRMFish2014Oct07',\n",
       " 'OZARRMFish2014Oct08',\n",
       " 'OZARRMFish2014Sep23',\n",
       " 'OZARRMFish2016Oct04',\n",
       " 'OZARRMFish2016Oct05',\n",
       " 'OZARRMFish2016Oct06',\n",
       " 'OZARRMFish2016Oct12',\n",
       " 'OZARRMFish2016Sep19',\n",
       " 'OZARRMFish2016Sep20',\n",
       " 'OZARRMFish2016Sep21',\n",
       " 'OZARRMFish2016Sep22',\n",
       " 'OZARRMFish2016Sep27',\n",
       " 'OZARRMFish2016Sep28',\n",
       " 'OZARRMFish2016Sep29',\n",
       " 'OZRSSPRNGS2007Aug01',\n",
       " 'OZRSSPRNGS2007JUL23',\n",
       " 'OZRSSPRNGS2007JUL24',\n",
       " 'OZRSSPRNGS2007Jul24',\n",
       " 'OZRSSPRNGS2007Jul25',\n",
       " 'OZRSSPRNGS2007Jul30',\n",
       " 'OZRSSPRNGS2007Jul31',\n",
       " 'OZRSSPRNGS2008Jul21',\n",
       " 'OZRSSPRNGS2008Jul22',\n",
       " 'OZRSSPRNGS2008Jul23',\n",
       " 'OZRSSPRNGS2008Jul24',\n",
       " 'OZRSSPRNGS2008Jul25',\n",
       " 'OZRSSPRNGS2009Aug25',\n",
       " 'OZRSSPRNGS2009Jul27',\n",
       " 'OZRSSPRNGS2009Jul28',\n",
       " 'OZRSSPRNGS2009Jul29',\n",
       " 'OZRSSPRNGS2009Jul30',\n",
       " 'OZRSSPRNGS2010JUL26',\n",
       " 'OZRSSPRNGS2010Jul26',\n",
       " 'OZRSSPRNGS2010Jul28',\n",
       " 'OZRSSPRNGS2010Jul29',\n",
       " 'OZRSSPRNGS2011Jul25',\n",
       " 'OZRSSPRNGS2011Jul26',\n",
       " 'OZRSSPRNGS2011Jul27',\n",
       " 'OZRSSPRNGS2011Jul28',\n",
       " 'OZRSSPRNGS2011Jul29',\n",
       " 'OZRSSPRNGS2012Jul23',\n",
       " 'OZRSSPRNGS2012Jul24',\n",
       " 'OZRSSPRNGS2012Jul25',\n",
       " 'OZRSSPRNGS2012Jul26',\n",
       " 'OZRSSPRNGS2013Aug16',\n",
       " 'OZRSSPRNGS2013Aug30',\n",
       " 'OZRSSPRNGS2013Jul29',\n",
       " 'OZRSSPRNGS2013Sep04',\n",
       " 'OZRSSPRNGS2013Sep13',\n",
       " 'OZRSSPRNGS2013Sep16',\n",
       " 'OZRSSPRNGS2014JUL31',\n",
       " 'OZRSSPRNGS2014JuL28',\n",
       " 'OZRSSPRNGS2014Jul28',\n",
       " 'OZRSSPRNGS2014Jul29',\n",
       " 'OZRSSPRNGS2014Jul30',\n",
       " 'OZRSSPRNGS2015Aug06',\n",
       " 'OZRSSPRNGS2015Jul27',\n",
       " 'OZRSSPRNGS2015Jul28',\n",
       " 'OZRSSPRNGS2015Jul29',\n",
       " 'OZRSSPRNGS2016Jul25',\n",
       " 'OZRSSPRNGS2016Jul27',\n",
       " 'OZRSSPRNGS2016Jul28',\n",
       " 'OZRSSPRNGS2017Jul24',\n",
       " 'OZRSSPRNGS2017Jul25',\n",
       " 'OZRSSPRNGS2017Jul26',\n",
       " 'OZRSSPRNGS2017Jul27',\n",
       " 'OZRSSPRNGS2018Jul23',\n",
       " 'OZRSSPRNGS2018Jul24',\n",
       " 'OZRSSPRNGS2018Jul25',\n",
       " 'OZRSSPRNGS2018Jul26',\n",
       " 'OZRSSprngs2019Jul29',\n",
       " 'OZRSSprngs2019Jul30',\n",
       " 'OZRSSprngs2019Jul31',\n",
       " 'OZRSSprngs2019Sep05',\n",
       " 'OZRSSprngs2020Aug03',\n",
       " 'OZRSSprngs2020Jul29',\n",
       " 'OZRSSprngs2021Aug03',\n",
       " 'OZRSSprngs2021Aug05',\n",
       " 'OZRSSprngs2022Aug03',\n",
       " 'OZRSSprngs2022Jul27',\n",
       " 'OZRSSprngs2022Jul28',\n",
       " 'OZRSSprngs2023Aug01',\n",
       " 'OZRSSprngs2023Aug02',\n",
       " 'OZRSSprngs2024Jul29',\n",
       " 'OZRSSprngs2024Jul30',\n",
       " 'PERIStfish2009May01',\n",
       " 'PERIStfish2012May02',\n",
       " 'PERIStfish2015May12',\n",
       " 'PERIStfish2018May10',\n",
       " 'PERIStfish2021May06',\n",
       " 'PERIStfish2024May15',\n",
       " 'WICRStfish2006Jun15',\n",
       " 'WICRStfish2007May09',\n",
       " 'WICRStfish2010May03',\n",
       " 'WICRStfish2013May06',\n",
       " 'WICRStfish2016May04',\n",
       " 'WICRStfish2019Jun03',\n",
       " 'WICRStfish2019Jun11',\n",
       " 'WICRStfish2022Jun02',\n",
       " 'WICRStfish2022Jun09',\n",
       " 'WICRStfish2022Jun14']"
      ]
     },
     "execution_count": 9,
     "metadata": {},
     "output_type": "execute_result"
    }
   ],
   "source": [
    "sorted(df['EventID'].unique())"
   ]
  },
  {
   "cell_type": "code",
   "execution_count": 14,
   "id": "8774df89-f995-4d96-96c7-17b778c06d1a",
   "metadata": {},
   "outputs": [
    {
     "data": {
      "text/plain": [
       "['Backwater_main',\n",
       " 'Backwater_side',\n",
       " 'Main',\n",
       " 'Side channel',\n",
       " 'backwater_main',\n",
       " 'backwater_side',\n",
       " 'main',\n",
       " 'side channel']"
      ]
     },
     "execution_count": 14,
     "metadata": {},
     "output_type": "execute_result"
    }
   ],
   "source": [
    "sorted(df[\"ChannelType\"].unique())"
   ]
  },
  {
   "cell_type": "code",
   "execution_count": 15,
   "id": "d2f675ad-9fd9-4aec-95ca-6fe97dffb94b",
   "metadata": {},
   "outputs": [
    {
     "data": {
      "text/plain": [
       "[np.int64(1),\n",
       " np.int64(2),\n",
       " np.int64(3),\n",
       " np.int64(4),\n",
       " np.int64(5),\n",
       " np.int64(6),\n",
       " np.int64(7),\n",
       " np.int64(8),\n",
       " np.int64(9),\n",
       " np.int64(10),\n",
       " np.int64(11)]"
      ]
     },
     "execution_count": 15,
     "metadata": {},
     "output_type": "execute_result"
    }
   ],
   "source": [
    "sorted(df[\"TransectNumber\"].unique())"
   ]
  },
  {
   "cell_type": "code",
   "execution_count": 16,
   "id": "5ca897fb-765b-4212-8688-bd4c8d8a7dc8",
   "metadata": {},
   "outputs": [
    {
     "data": {
      "text/plain": [
       "['L', 'M', 'R']"
      ]
     },
     "execution_count": 16,
     "metadata": {},
     "output_type": "execute_result"
    }
   ],
   "source": [
    "sorted(df[\"SampleLocation\"].unique())"
   ]
  },
  {
   "cell_type": "code",
   "execution_count": 18,
   "id": "05b35bf7-465c-4ef5-97e6-5f23981b5ada",
   "metadata": {},
   "outputs": [
    {
     "data": {
      "text/plain": [
       "['GL', 'PGX', 'PO', 'RG', 'RI', 'RRX', 'RU', 'ru']"
      ]
     },
     "execution_count": 18,
     "metadata": {},
     "output_type": "execute_result"
    }
   ],
   "source": [
    "sorted(df[\"ChannelUnit\"].unique())"
   ]
  },
  {
   "cell_type": "code",
   "execution_count": 20,
   "id": "97ac2f87-f9d7-48ab-8dee-2df1638b34a0",
   "metadata": {},
   "outputs": [
    {
     "data": {
      "text/plain": [
       "['B', 'F', 'L', 'M', 'O', 'm', 'nan']"
      ]
     },
     "execution_count": 20,
     "metadata": {},
     "output_type": "execute_result"
    }
   ],
   "source": [
    "df[\"PoolForm\"] = df[\"PoolForm\"].astype(str)\n",
    "sorted(df[\"PoolForm\"].unique())"
   ]
  },
  {
   "cell_type": "code",
   "execution_count": 23,
   "id": "8e726db0-408d-4ac0-b9bc-f0abe1ec1d5b",
   "metadata": {},
   "outputs": [
    {
     "data": {
      "text/plain": [
       "array([[<Axes: title={'center': 'Width_m'}>]], dtype=object)"
      ]
     },
     "execution_count": 23,
     "metadata": {},
     "output_type": "execute_result"
    },
    {
     "data": {
      "image/png": "[encoded data removed]",
      "text/plain": [
       "<Figure size 640x480 with 1 Axes>"
      ]
     },
     "metadata": {},
     "output_type": "display_data"
    }
   ],
   "source": [
    "cols = ['Width_m'] \n",
    "df2 = df[(df[cols] > 0) & (df[cols] <= 200)]\n",
    "df2.hist(column='Width_m')"
   ]
  },
  {
   "cell_type": "code",
   "execution_count": 28,
   "id": "41ce0260-0b8e-4c9f-be96-a24fb13e56a7",
   "metadata": {},
   "outputs": [
    {
     "data": {
      "text/plain": [
       "array([[<Axes: title={'center': 'Depth_cm'}>]], dtype=object)"
      ]
     },
     "execution_count": 28,
     "metadata": {},
     "output_type": "execute_result"
    },
    {
     "data": {
      "image/png": "[encoded data removed]",
      "text/plain": [
       "<Figure size 640x480 with 1 Axes>"
      ]
     },
     "metadata": {},
     "output_type": "display_data"
    }
   ],
   "source": [
    "cols = ['Depth_cm'] \n",
    "df2 = df[(df[cols] > 0)]\n",
    "df2.hist(column='Depth_cm')"
   ]
  },
  {
   "cell_type": "code",
   "execution_count": 32,
   "id": "8a4ddc63-cd2b-4bb0-a9bc-ec9d97fc8cef",
   "metadata": {},
   "outputs": [
    {
     "data": {
      "text/plain": [
       "array([[<Axes: title={'center': 'Velocity_ms'}>]], dtype=object)"
      ]
     },
     "execution_count": 32,
     "metadata": {},
     "output_type": "execute_result"
    },
    {
     "data": {
      "image/png": "[encoded data removed]",
      "text/plain": [
       "<Figure size 640x480 with 1 Axes>"
      ]
     },
     "metadata": {},
     "output_type": "display_data"
    }
   ],
   "source": [
    "cols = ['Velocity_ms'] \n",
    "df2 = df[(df[cols] > 0)]\n",
    "df2.hist(column='Velocity_ms')"
   ]
  },
  {
   "cell_type": "code",
   "execution_count": 34,
   "id": "578e9b35-4384-4010-adda-501e6e8f22c9",
   "metadata": {},
   "outputs": [
    {
     "data": {
      "text/plain": [
       "[np.float64(1.0),\n",
       " np.float64(2.0),\n",
       " np.float64(3.0),\n",
       " np.float64(4.0),\n",
       " np.float64(5.0),\n",
       " np.float64(6.0),\n",
       " np.float64(7.0),\n",
       " np.float64(8.0),\n",
       " np.float64(9.0),\n",
       " np.float64(10.0),\n",
       " np.float64(11.0),\n",
       " np.float64(12.0),\n",
       " np.float64(13.0),\n",
       " np.float64(14.0),\n",
       " np.float64(15.0),\n",
       " np.float64(16.0),\n",
       " np.float64(17.0),\n",
       " np.float64(18.0),\n",
       " np.float64(19.0),\n",
       " np.float64(20.0),\n",
       " np.float64(21.0),\n",
       " np.float64(22.0),\n",
       " np.float64(24.0),\n",
       " np.float64(nan),\n",
       " np.float64(23.0)]"
      ]
     },
     "execution_count": 34,
     "metadata": {},
     "output_type": "execute_result"
    }
   ],
   "source": [
    "sorted(df[\"DomSubstrate\"].unique())"
   ]
  },
  {
   "cell_type": "code",
   "execution_count": 35,
   "id": "8145b382-2375-412d-bf00-a5bed419d507",
   "metadata": {},
   "outputs": [
    {
     "data": {
      "text/plain": [
       "array([[<Axes: title={'center': 'DomSubstrate'}>]], dtype=object)"
      ]
     },
     "execution_count": 35,
     "metadata": {},
     "output_type": "execute_result"
    },
    {
     "data": {
      "image/png": "[encoded data removed]",
      "text/plain": [
       "<Figure size 640x480 with 1 Axes>"
      ]
     },
     "metadata": {},
     "output_type": "display_data"
    }
   ],
   "source": [
    "cols = ['DomSubstrate'] \n",
    "df2 = df[(df[cols] > 0)]\n",
    "df2.hist(column='DomSubstrate')"
   ]
  },
  {
   "cell_type": "code",
   "execution_count": 36,
   "id": "c48ff318-b647-4756-87b9-b8e8cb3f7559",
   "metadata": {},
   "outputs": [
    {
     "data": {
      "text/plain": [
       "array([[<Axes: title={'center': 'DomSubstrateMidpoint'}>]], dtype=object)"
      ]
     },
     "execution_count": 36,
     "metadata": {},
     "output_type": "execute_result"
    },
    {
     "data": {
      "image/png": "[encoded data removed]",
      "text/plain": [
       "<Figure size 640x480 with 1 Axes>"
      ]
     },
     "metadata": {},
     "output_type": "display_data"
    }
   ],
   "source": [
    "cols = ['DomSubstrateMidpoint'] \n",
    "df2 = df[(df[cols] > 0)]\n",
    "df2.hist(column='DomSubstrateMidpoint')"
   ]
  },
  {
   "cell_type": "code",
   "execution_count": 39,
   "id": "043b1901-43ab-43a8-bf58-4ea2734d2e09",
   "metadata": {},
   "outputs": [
    {
     "data": {
      "text/plain": [
       "array([[<Axes: title={'center': 'Embeddedness'}>]], dtype=object)"
      ]
     },
     "execution_count": 39,
     "metadata": {},
     "output_type": "execute_result"
    },
    {
     "data": {
      "image/png": "[encoded data removed]",
      "text/plain": [
       "<Figure size 640x480 with 1 Axes>"
      ]
     },
     "metadata": {},
     "output_type": "display_data"
    }
   ],
   "source": [
    "cols = ['Embeddedness'] \n",
    "df2 = df[(df[cols] > 0)]\n",
    "df2.hist(column='Embeddedness')"
   ]
  },
  {
   "cell_type": "code",
   "execution_count": 40,
   "id": "814ca3a2-e59f-425b-9a31-7856b41122d6",
   "metadata": {},
   "outputs": [
    {
     "data": {
      "text/plain": [
       "array([[<Axes: title={'center': 'EmbeddednessMidpoint'}>]], dtype=object)"
      ]
     },
     "execution_count": 40,
     "metadata": {},
     "output_type": "execute_result"
    },
    {
     "data": {
      "image/png": "[encoded data removed]",
      "text/plain": [
       "<Figure size 640x480 with 1 Axes>"
      ]
     },
     "metadata": {},
     "output_type": "display_data"
    }
   ],
   "source": [
    "cols = ['EmbeddednessMidpoint'] \n",
    "df2 = df[(df[cols] > 0)]\n",
    "df2.hist(column='EmbeddednessMidpoint')"
   ]
  },
  {
   "cell_type": "code",
   "execution_count": 42,
   "id": "26030d0f-a2ce-42c7-a738-4e65be523596",
   "metadata": {},
   "outputs": [
    {
     "data": {
      "text/plain": [
       "array([[<Axes: title={'center': 'CanopyCover'}>]], dtype=object)"
      ]
     },
     "execution_count": 42,
     "metadata": {},
     "output_type": "execute_result"
    },
    {
     "data": {
      "image/png": "[encoded data removed]",
      "text/plain": [
       "<Figure size 640x480 with 1 Axes>"
      ]
     },
     "metadata": {},
     "output_type": "display_data"
    }
   ],
   "source": [
    "cols = ['CanopyCover'] \n",
    "df2 = df[(df[cols] > 0)]\n",
    "df2.hist(column='CanopyCover')"
   ]
  },
  {
   "cell_type": "code",
   "execution_count": 43,
   "id": "f10236d0-4d48-4de0-8442-59e57f050a14",
   "metadata": {},
   "outputs": [
    {
     "data": {
      "text/plain": [
       "array([[<Axes: title={'center': 'CanopyCoverMidpoint'}>]], dtype=object)"
      ]
     },
     "execution_count": 43,
     "metadata": {},
     "output_type": "execute_result"
    },
    {
     "data": {
      "image/png": "[encoded data removed]",
      "text/plain": [
       "<Figure size 640x480 with 1 Axes>"
      ]
     },
     "metadata": {},
     "output_type": "display_data"
    }
   ],
   "source": [
    "cols = ['CanopyCoverMidpoint'] \n",
    "df2 = df[(df[cols] > 0)]\n",
    "df2.hist(column='CanopyCoverMidpoint')"
   ]
  },
  {
   "cell_type": "code",
   "execution_count": 47,
   "id": "d6e3eaa5-64a2-4469-9e1d-9e37faeda89f",
   "metadata": {},
   "outputs": [
    {
     "data": {
      "text/plain": [
       "['> 200 m deep',\n",
       " '> 200cm deep',\n",
       " 'Big Spring extra sample - Partial habitat data collected on vegetation transects only',\n",
       " 'Bridge Construction',\n",
       " 'Bridge construction',\n",
       " 'Downstream',\n",
       " 'Flow too high',\n",
       " 'Greater than 200 cm depth',\n",
       " 'Lower BW (River Left)',\n",
       " 'Only wetted width - islands excluded',\n",
       " 'Over 200 cm depth',\n",
       " 'River left',\n",
       " 'River right',\n",
       " 'Too deep to sample',\n",
       " 'Upper BW (River Right)',\n",
       " 'Upstream',\n",
       " 'depth > 200 cm',\n",
       " 'depth > 200cm',\n",
       " 'depth >100cm',\n",
       " 'depth >200 cm',\n",
       " 'depth>200cm',\n",
       " 'end of sample reach',\n",
       " 'lower backwater',\n",
       " 'nan',\n",
       " 'no canopy cover data',\n",
       " 'too deep',\n",
       " 'too fast',\n",
       " 'transect ended at 534m',\n",
       " 'upper backwater']"
      ]
     },
     "execution_count": 47,
     "metadata": {},
     "output_type": "execute_result"
    }
   ],
   "source": [
    "df[\"Comment\"] = df[\"Comment\"].astype(str)\n",
    "sorted(df[\"Comment\"].unique())"
   ]
  }
 ],
 "metadata": {
  "kernelspec": {
   "display_name": "Python 3 (ipykernel)",
   "language": "python",
   "name": "python3"
  },
  "language_info": {
   "codemirror_mode": {
    "name": "ipython",
    "version": 3
   },
   "file_extension": ".py",
   "mimetype": "text/x-python",
   "name": "python",
   "nbconvert_exporter": "python",
   "pygments_lexer": "ipython3",
   "version": "3.10.15"
  }
 },
 "nbformat": 4,
 "nbformat_minor": 5
}
