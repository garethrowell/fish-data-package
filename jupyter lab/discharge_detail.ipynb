{
 "cells": [
  {
   "cell_type": "code",
   "execution_count": 1,
   "id": "b72034c7-cb39-4e64-92d6-9aa5ef494d9a",
   "metadata": {},
   "outputs": [],
   "source": [
    "import pandas as pd\n",
    "import matplotlib.pyplot as plt"
   ]
  },
  {
   "cell_type": "code",
   "execution_count": 2,
   "id": "be6ded30-4f9f-41f7-b479-bd060e4b7194",
   "metadata": {},
   "outputs": [
    {
     "name": "stdout",
     "output_type": "stream",
     "text": [
      "                 ParkName ParkCode  Season      LocationID  \\\n",
      "0  Buffalo National River     BUFF    2005  BUFFRMINVEBM02   \n",
      "1  Buffalo National River     BUFF    2005  BUFFRMINVEBM02   \n",
      "2  Buffalo National River     BUFF    2005  BUFFRMINVEBM02   \n",
      "3  Buffalo National River     BUFF    2005  BUFFRMINVEBM02   \n",
      "4  Buffalo National River     BUFF    2005  BUFFRMINVEBM02   \n",
      "\n",
      "               EventID  DischargeNo  DistanceFromBank_m  Depth_cm  \\\n",
      "0  BUFFRMINVE2005NOV29            1                 0.0         1   \n",
      "1  BUFFRMINVE2005NOV29            2                 1.0        10   \n",
      "2  BUFFRMINVE2005NOV29            3                 2.0        26   \n",
      "3  BUFFRMINVE2005NOV29            4                 3.0        44   \n",
      "4  BUFFRMINVE2005NOV29            5                 4.0        52   \n",
      "\n",
      "   Velocity_ms                           Comments  \n",
      "0        -0.05  tree roots creating on bank eddie  \n",
      "1        -0.02                                NaN  \n",
      "2         0.01                                NaN  \n",
      "3         0.03                                NaN  \n",
      "4         0.07                                NaN  \n"
     ]
    }
   ],
   "source": [
    "path = r\"C:\\Users\\GRowell\\HTLN-data-packages-data\\aqinvert\\DischargeDetailData.csv\"\n",
    "df = pd.read_csv(path)\n",
    "print(df.head())"
   ]
  },
  {
   "cell_type": "code",
   "execution_count": 4,
   "id": "60b00748-e1e6-454d-b762-4ae5fa3ee2c0",
   "metadata": {},
   "outputs": [
    {
     "data": {
      "text/plain": [
       "ParkName               object\n",
       "ParkCode               object\n",
       "Season                  int64\n",
       "LocationID             object\n",
       "EventID                object\n",
       "DischargeNo             int64\n",
       "DistanceFromBank_m    float64\n",
       "Depth_cm                int64\n",
       "Velocity_ms           float64\n",
       "Comments               object\n",
       "dtype: object"
      ]
     },
     "execution_count": 4,
     "metadata": {},
     "output_type": "execute_result"
    }
   ],
   "source": [
    "df.dtypes"
   ]
  },
  {
   "cell_type": "code",
   "execution_count": 5,
   "id": "cbdc8492-2f84-42de-91f3-1c4d1d910d22",
   "metadata": {},
   "outputs": [
    {
     "data": {
      "text/plain": [
       "['Buffalo National River',\n",
       " 'Effigy Mounds National Monument',\n",
       " 'George Washington Carver National Monument',\n",
       " 'Herbert Hoover National Historic Site',\n",
       " 'Hot Springs National Park',\n",
       " 'Ozark National Scenic Riverways - RIVERS',\n",
       " 'Pea Ridge National Military Park',\n",
       " 'Pipestone National Monument',\n",
       " 'Tallgrass Prairie National Preserve',\n",
       " 'Wilsons Creek National Battlefield']"
      ]
     },
     "execution_count": 5,
     "metadata": {},
     "output_type": "execute_result"
    }
   ],
   "source": [
    "sorted(df['ParkName'].unique())"
   ]
  },
  {
   "cell_type": "code",
   "execution_count": 7,
   "id": "efbd30e6-13fa-455b-a596-2f0eb7164900",
   "metadata": {},
   "outputs": [
    {
     "data": {
      "text/plain": [
       "['BUFF',\n",
       " 'EFMO',\n",
       " 'GWCA',\n",
       " 'HEHO',\n",
       " 'HOSP',\n",
       " 'OZAR',\n",
       " 'PERI',\n",
       " 'PIPE',\n",
       " 'TAPR',\n",
       " 'WICR']"
      ]
     },
     "execution_count": 7,
     "metadata": {},
     "output_type": "execute_result"
    }
   ],
   "source": [
    "sorted(df['ParkCode'].unique())"
   ]
  },
  {
   "cell_type": "code",
   "execution_count": 8,
   "id": "635a6f7d-d42f-403b-a54a-c3fd2d1ae6ef",
   "metadata": {},
   "outputs": [
    {
     "data": {
      "text/plain": [
       "array([2005, 2006, 2007, 2008, 2009, 2010, 2011, 2013, 2015, 2017, 2019,\n",
       "       2021, 2023, 2014, 2016, 2022, 2012, 2018, 2024, 2020])"
      ]
     },
     "execution_count": 8,
     "metadata": {},
     "output_type": "execute_result"
    }
   ],
   "source": [
    "df['Season'].unique()"
   ]
  },
  {
   "cell_type": "code",
   "execution_count": 9,
   "id": "8774df89-f995-4d96-96c7-17b778c06d1a",
   "metadata": {},
   "outputs": [
    {
     "data": {
      "text/plain": [
       "['BUFFRMINVEBM01',\n",
       " 'BUFFRMINVEBM02',\n",
       " 'BUFFRMINVEBM03',\n",
       " 'BUFFRMINVEBM04',\n",
       " 'BUFFRMINVEBM05',\n",
       " 'BUFFRMINVEBM06',\n",
       " 'BUFFRMINVEBT01',\n",
       " 'BUFFRMINVEBT03',\n",
       " 'BUFFRMINVEBT04',\n",
       " 'BUFFRMINVEBT05',\n",
       " 'BUFFRMINVEBT06',\n",
       " 'BUFFRMINVEBT07',\n",
       " 'BUFFRMINVEBT08',\n",
       " 'BUFFRMINVEBT09',\n",
       " 'BUFFRMINVEBT10',\n",
       " 'BUFFRMINVEBT11',\n",
       " 'BUFFRMINVEBT13',\n",
       " 'BUFFRMINVEBT14',\n",
       " 'BUFFRMINVEBT15',\n",
       " 'BUFFRMINVEBT16',\n",
       " 'BUFFRMINVEBT17',\n",
       " 'BUFFRMINVEBT19',\n",
       " 'BUFFRMINVEBT20',\n",
       " 'BUFFRMINVEBT22',\n",
       " 'BUFFRMINVEBT23',\n",
       " 'BUFFRMINVEBT24',\n",
       " 'BUFFRMINVEBT25',\n",
       " 'BUFFRMINVEBT27',\n",
       " 'BUFFRMINVEBT29',\n",
       " 'BUFFRMINVEBT30',\n",
       " 'BUFFRMINVEBT31',\n",
       " 'BUFFRMINVEBT33',\n",
       " 'EFMOAqubug01',\n",
       " 'GWCAAquBug01',\n",
       " 'GWCAAquBug02',\n",
       " 'GWCAAquBug03',\n",
       " 'HEHOAqubug01',\n",
       " 'HOSPAqubug01',\n",
       " 'HOSPAqubug02',\n",
       " 'OZARRMINVECM01',\n",
       " 'OZARRMINVECM02',\n",
       " 'OZARRMINVECM03',\n",
       " 'OZARRMINVECM06',\n",
       " 'OZARRMINVECT01',\n",
       " 'OZARRMINVECT02',\n",
       " 'OZARRMINVECT03',\n",
       " 'OZARRMINVECT04',\n",
       " 'OZARRMINVECT06',\n",
       " 'OZARRMINVECT07',\n",
       " 'OZARRMINVECT08',\n",
       " 'OZARRMINVECT09',\n",
       " 'OZARRMINVECT12',\n",
       " 'OZARRMINVECT13',\n",
       " 'OZARRMINVECT14',\n",
       " 'OZARRMINVECT15',\n",
       " 'OZARRMINVECT16',\n",
       " 'OZARRMINVEJM01',\n",
       " 'OZARRMINVEJM02',\n",
       " 'OZARRMINVEJM03',\n",
       " 'OZARRMINVEJT01',\n",
       " 'OZARRMINVEJT02',\n",
       " 'OZARRMINVEJT03',\n",
       " 'PERIAQUBUG01',\n",
       " 'PERIAQUBUG02',\n",
       " 'PERIAQUBUG03',\n",
       " 'PERIAqubug01',\n",
       " 'PERIAqubug02',\n",
       " 'PERIAqubug03',\n",
       " 'PIPEAquBug01',\n",
       " 'TAPRAqubug01',\n",
       " 'TAPRAqubug02',\n",
       " 'WICRAQUBUG02',\n",
       " 'WICRAQUBUG03',\n",
       " 'WICRAQUBUG04',\n",
       " 'WICRAquBug01',\n",
       " 'WICRAquBug02',\n",
       " 'WICRAquBug03']"
      ]
     },
     "execution_count": 9,
     "metadata": {},
     "output_type": "execute_result"
    }
   ],
   "source": [
    "sorted(df[\"LocationID\"].unique())"
   ]
  },
  {
   "cell_type": "code",
   "execution_count": 73,
   "id": "424fbdd5-11dc-4b0d-a4a5-caafe3951c16",
   "metadata": {},
   "outputs": [
    {
     "data": {
      "text/plain": [
       "['BUFFRMINVE2005DEC01',\n",
       " 'BUFFRMINVE2005DEC14',\n",
       " 'BUFFRMINVE2005DEC20',\n",
       " 'BUFFRMINVE2005NOV29',\n",
       " 'BUFFRMINVE2005NOV30',\n",
       " 'BUFFRMINVE2007DEC03',\n",
       " 'BUFFRMINVE2007DEC04',\n",
       " 'BUFFRMINVE2007Dec03',\n",
       " 'BUFFRMINVE2007Dec04',\n",
       " 'BUFFRMINVE2007FEB09',\n",
       " 'BUFFRMINVE2007FEB21',\n",
       " 'BUFFRMINVE2007FEB22',\n",
       " 'BUFFRMINVE2007JAN04',\n",
       " 'BUFFRMINVE2007JAN05',\n",
       " 'BUFFRMINVE2007JAN08',\n",
       " 'BUFFRMINVE2007JAN09',\n",
       " 'BUFFRMINVE2007JAN20',\n",
       " 'BUFFRMINVE2007Nov26',\n",
       " 'BUFFRMINVE2007Nov27',\n",
       " 'BUFFRMINVE2007Nov28',\n",
       " 'BUFFRMINVE2007Nov30',\n",
       " 'BUFFRMINVE2008Dec02',\n",
       " 'BUFFRMINVE2008Dec04',\n",
       " 'BUFFRMINVE2008Dec05',\n",
       " 'BUFFRMINVE2008Dec10',\n",
       " 'BUFFRMINVE2008Dec11',\n",
       " 'BUFFRMINVE2008Jan22',\n",
       " 'BUFFRMINVE2008Jan23',\n",
       " 'BUFFRMINVE2009Dec07',\n",
       " 'BUFFRMINVE2009Dec08',\n",
       " 'BUFFRMINVE2009Dec14',\n",
       " 'BUFFRMINVE2009Dec15',\n",
       " 'BUFFRMINVE2009Dec16',\n",
       " 'BUFFRMINVE2009Feb18',\n",
       " 'BUFFRMINVE2009Jan08',\n",
       " 'BUFFRMINVE2010Dec01',\n",
       " 'BUFFRMINVE2010Jan11',\n",
       " 'BUFFRMINVE2010Jan12',\n",
       " 'BUFFRMINVE2010Jan14',\n",
       " 'BUFFRMINVE2010Jan15',\n",
       " 'BUFFRMINVE2010Jan21',\n",
       " 'BUFFRMINVE2010Nov29',\n",
       " 'BUFFRMINVE2010Nov30',\n",
       " 'BUFFRMINVE2011Dec01',\n",
       " 'BUFFRMINVE2011Dec07',\n",
       " 'BUFFRMINVE2011Dec28',\n",
       " 'BUFFRMINVE2012Jan04',\n",
       " 'BUFFRMINVE2012Jan05',\n",
       " 'BUFFRMINVE2012Jan06',\n",
       " 'BUFFRMINVE2012Jan09',\n",
       " 'BUFFRMINVE2012Jan10',\n",
       " 'BUFFRMINVE2012Jan18',\n",
       " 'BUFFRMINVE2013Dec04',\n",
       " 'BUFFRMINVE2013Nov21',\n",
       " 'BUFFRMINVE2014Feb19',\n",
       " 'BUFFRMINVE2014Jan23',\n",
       " 'BUFFRMINVE2014Jan24',\n",
       " 'BUFFRMINVE2014Jan29',\n",
       " 'BUFFRMINVE2014Jan30',\n",
       " 'BUFFRMINVE2014Jan31',\n",
       " 'BUFFRMINVE2015Dec07',\n",
       " 'BUFFRMINVE2015Dec08',\n",
       " 'BUFFRMINVE2015Dec09',\n",
       " 'BUFFRMINVE2015Dec17',\n",
       " 'BUFFRMINVE2015Dec18',\n",
       " 'BUFFRMINVE2015Nov23',\n",
       " 'BUFFRMINVE2015Nov24',\n",
       " 'BUFFRMINVE2017Dec01',\n",
       " 'BUFFRMINVE2017Dec04',\n",
       " 'BUFFRMINVE2017Dec08',\n",
       " 'BUFFRMINVE2017Nov15',\n",
       " 'BUFFRMINVE2017Nov16',\n",
       " 'BUFFRMINVE2017Nov29',\n",
       " 'BUFFRMINVE2017Nov30',\n",
       " 'BUFFRMINVE2019Nov04',\n",
       " 'BUFFRMINVE2019Nov05',\n",
       " 'BUFFRMINVE2019Nov06',\n",
       " 'BUFFRMINVE2019Nov18',\n",
       " 'BUFFRMINVE2019Nov19',\n",
       " 'BUFFRMINVE2019Nov20',\n",
       " 'BUFFRMINVE2019Nov21',\n",
       " 'BUFFRMINVE2021Nov01',\n",
       " 'BUFFRMINVE2021Nov02',\n",
       " 'BUFFRMINVE2021Nov03',\n",
       " 'BUFFRMINVE2021Nov04',\n",
       " 'BUFFRMINVE2021Nov08',\n",
       " 'BUFFRMINVE2021Nov09',\n",
       " 'BUFFRMINVE2021Nov10',\n",
       " 'BUFFRMINVE2023Nov01',\n",
       " 'BUFFRMINVE2023Nov02',\n",
       " 'BUFFRMINVE2023Nov03',\n",
       " 'BUFFRMINVE2023Nov06',\n",
       " 'BUFFRMINVE2023Nov07',\n",
       " 'BUFFRMINVE2023Nov08',\n",
       " 'BUFFRMINVE2023Nov14',\n",
       " 'EFMOAquBug2014Aug13',\n",
       " 'EFMOAquBug2017Jul18',\n",
       " 'EFMOAquBug2023Jul19',\n",
       " 'EFMOAqubug2008Jul09',\n",
       " 'GWCAAquBug2013May01',\n",
       " 'GWCAAquBug2016May02',\n",
       " 'GWCAAquBug2019May06',\n",
       " 'GWCAAquBug2022May02',\n",
       " 'GWCAAqubug2006Jun27',\n",
       " 'GWCAAqubug2007Jun26',\n",
       " 'GWCAAqubug2010May05',\n",
       " 'GWCAAqubug2013May01',\n",
       " 'HEHOAquBug2014Aug01',\n",
       " 'HEHOAquBug2017Jul17',\n",
       " 'HEHOAquBug2021Jul26',\n",
       " 'HEHOAquBug2022Jul05',\n",
       " 'HEHOAquBug2023Jul17',\n",
       " 'HEHOAqubug2008Jul07',\n",
       " 'HEHOAqubug2011Jul11',\n",
       " 'HOMEAquBug2013Sep06',\n",
       " 'HOMEAquBug2014Sep09',\n",
       " 'HOMEAquBug2015Aug15',\n",
       " 'HOMEAquBug2016Aug06',\n",
       " 'HOMEAquBug2017Sep08',\n",
       " 'HOMEAquBug2017Sep11',\n",
       " 'HOMEAquBug2020Sep16',\n",
       " 'HOMEAquBug2022Sep13',\n",
       " 'HOMEAquBug2023Sep06',\n",
       " 'HOMEAqubug2006Aug10',\n",
       " 'HOMEAqubug2006SEP07',\n",
       " 'HOMEAqubug2007Aug10',\n",
       " 'HOMEAqubug2008Aug27',\n",
       " 'HOMEAqubug2009Sep13',\n",
       " 'HOMEAqubug2009Sep15',\n",
       " 'HOMEAqubug2010Sep10',\n",
       " 'HOMEAqubug2011Aug30',\n",
       " 'HOMEAqubug2012Aug30',\n",
       " 'HOSPAquBug2015Jul07',\n",
       " 'HOSPAquBug2018Jul09',\n",
       " 'HOSPAquBug2024Jul16',\n",
       " 'HOSPAquBug2024Jul17',\n",
       " 'HOSPAqubug2009Jun16',\n",
       " 'HOSPAqubug2009Jun17',\n",
       " 'HOSPAqubug2012Jul10',\n",
       " 'OZARRMINVE2006DEC12',\n",
       " 'OZARRMINVE2006DEC13',\n",
       " 'OZARRMINVE2006DEC14',\n",
       " 'OZARRMINVE2006DEC18',\n",
       " 'OZARRMINVE2006DEC19',\n",
       " 'OZARRMINVE2006DEC22',\n",
       " 'OZARRMINVE2006JAN03',\n",
       " 'OZARRMINVE2006JAN04',\n",
       " 'OZARRMINVE2006JAN05',\n",
       " 'OZARRMINVE2006JAN10',\n",
       " 'OZARRMINVE2006JAN11',\n",
       " 'OZARRMINVE2006JAN12',\n",
       " 'OZARRMINVE2006JAN18',\n",
       " 'OZARRMINVE2006JAN20',\n",
       " 'OZARRMINVE2006JAN24',\n",
       " 'OZARRMINVE2006NOV14',\n",
       " 'OZARRMINVE2006NOV15',\n",
       " 'OZARRMINVE2007Nov01',\n",
       " 'OZARRMINVE2007Nov02',\n",
       " 'OZARRMINVE2007Nov05',\n",
       " 'OZARRMINVE2007Nov06',\n",
       " 'OZARRMINVE2007Nov07',\n",
       " 'OZARRMINVE2007Nov08',\n",
       " 'OZARRMINVE2007Nov09',\n",
       " 'OZARRMINVE2007Nov13',\n",
       " 'OZARRMINVE2007Nov14',\n",
       " 'OZARRMINVE2008Nov05',\n",
       " 'OZARRMINVE2008Nov06',\n",
       " 'OZARRMINVE2008Nov07',\n",
       " 'OZARRMINVE2008Nov12',\n",
       " 'OZARRMINVE2008Nov13',\n",
       " 'OZARRMINVE2008Nov20',\n",
       " 'OZARRMINVE2008Nov21',\n",
       " 'OZARRMINVE2009Dec02',\n",
       " 'OZARRMINVE2009Dec03',\n",
       " 'OZARRMINVE2009Nov06',\n",
       " 'OZARRMINVE2009Nov09',\n",
       " 'OZARRMINVE2009Nov10',\n",
       " 'OZARRMINVE2009Nov12',\n",
       " 'OZARRMINVE2009Nov24',\n",
       " 'OZARRMINVE2010Nov03',\n",
       " 'OZARRMINVE2010Nov04',\n",
       " 'OZARRMINVE2012Dec04',\n",
       " 'OZARRMINVE2012Dec05',\n",
       " 'OZARRMINVE2012Nov13',\n",
       " 'OZARRMINVE2012Nov14',\n",
       " 'OZARRMINVE2012Nov15',\n",
       " 'OZARRMINVE2012Nov27',\n",
       " 'OZARRMINVE2012Nov28',\n",
       " 'OZARRMINVE2012Nov29',\n",
       " 'OZARRMINVE2014Nov05',\n",
       " 'OZARRMINVE2014Nov06',\n",
       " 'OZARRMINVE2014Nov07',\n",
       " 'OZARRMINVE2014Nov12',\n",
       " 'OZARRMINVE2014Nov13',\n",
       " 'OZARRMINVE2014Nov18',\n",
       " 'OZARRMINVE2014Nov19',\n",
       " 'OZARRMINVE2016Nov01',\n",
       " 'OZARRMINVE2016Nov02',\n",
       " 'OZARRMINVE2016Nov03',\n",
       " 'OZARRMINVE2016Nov04',\n",
       " 'OZARRMINVE2016Nov09',\n",
       " 'OZARRMINVE2016Nov10',\n",
       " 'OZARRMINVE2018Nov07',\n",
       " 'OZARRMINVE2018Nov08',\n",
       " 'OZARRMINVE2018Nov09',\n",
       " 'OZARRMINVE2018Nov13',\n",
       " 'OZARRMINVE2018Nov19',\n",
       " 'OZARRMINVE2018Nov20',\n",
       " 'OZARRMINVE2020Dec01',\n",
       " 'OZARRMINVE2020Dec08',\n",
       " 'OZARRMINVE2020Dec10',\n",
       " 'OZARRMINVE2020Dec11',\n",
       " 'OZARRMINVE2020Nov17',\n",
       " 'OZARRMINVE2020Nov19',\n",
       " 'OZARRMINVE2020Nov30',\n",
       " 'OZARRMINVE2021Jan05',\n",
       " 'OZARRMINVE2021Jan08',\n",
       " 'OZARRMINVE2021Jan11',\n",
       " 'OZARRMINVE2021Jan14',\n",
       " 'OZARRMINVE2022Nov03',\n",
       " 'OZARRMINVE2022Nov04',\n",
       " 'OZARRMINVE2022Oct25',\n",
       " 'OZARRMINVE2022Oct26',\n",
       " 'OZARRMINVE2022Oct27',\n",
       " 'OZARRMINVE2022Oct28',\n",
       " 'OZRSSPRNGS2007Aug01',\n",
       " 'OZRSSPRNGS2007Jul23',\n",
       " 'OZRSSPRNGS2007Jul24',\n",
       " 'OZRSSPRNGS2007Jul25',\n",
       " 'OZRSSPRNGS2007Jul30',\n",
       " 'OZRSSPRNGS2007Jul31',\n",
       " 'OZRSSPRNGS2008Jul21',\n",
       " 'OZRSSPRNGS2008Jul22',\n",
       " 'OZRSSPRNGS2008Jul23',\n",
       " 'OZRSSPRNGS2008Jul24',\n",
       " 'OZRSSPRNGS2008Jul25',\n",
       " 'OZRSSPRNGS2009Aug25',\n",
       " 'OZRSSPRNGS2009Jul27',\n",
       " 'OZRSSPRNGS2009Jul28',\n",
       " 'OZRSSPRNGS2009Jul30',\n",
       " 'OZRSSPRNGS2010Jul26',\n",
       " 'OZRSSPRNGS2010Jul28',\n",
       " 'OZRSSPRNGS2010Jul29',\n",
       " 'OZRSSPRNGS2011Jul25',\n",
       " 'OZRSSPRNGS2011Jul26',\n",
       " 'OZRSSPRNGS2011Jul27',\n",
       " 'OZRSSPRNGS2011Jul28',\n",
       " 'OZRSSPRNGS2011Jul29',\n",
       " 'OZRSSPRNGS2012Jul25',\n",
       " 'OZRSSPRNGS2012Jul26',\n",
       " 'OZRSSPRNGS2013Aug16',\n",
       " 'OZRSSPRNGS2013Jul29',\n",
       " 'OZRSSPRNGS2013Sep04',\n",
       " 'OZRSSPRNGS2014Jul28',\n",
       " 'OZRSSPRNGS2014Jul29',\n",
       " 'OZRSSPRNGS2015Aug06',\n",
       " 'OZRSSPRNGS2015Jul28',\n",
       " 'OZRSSPRNGS2016Jul25',\n",
       " 'OZRSSPRNGS2016Jul27',\n",
       " 'OZRSSPRNGS2017Jul24',\n",
       " 'OZRSSPRNGS2018Jul23',\n",
       " 'OZRSSPRNGS2018Jul24',\n",
       " 'OZRSSPRNGS2019Jul29',\n",
       " 'OZRSSPRNGS2019Sep05',\n",
       " 'OZRSSPRNGS2020Jul29',\n",
       " 'OZRSSPRNGS2021Aug03',\n",
       " 'OZRSSPRNGS2021Aug05',\n",
       " 'OZRSSPRNGS2022Aug03',\n",
       " 'OZRSSPRNGS2022Jul27',\n",
       " 'OZRSSPRNGS2022Jul28',\n",
       " 'OZRSSPRNGS2023Aug01',\n",
       " 'OZRSSPRNGS2023Aug02',\n",
       " 'OZRSSPRNGS2024Jul29',\n",
       " 'OZRSSPRNGS2024Jul30',\n",
       " 'PERIAquBug2015May05',\n",
       " 'PERIAquBug2018May07',\n",
       " 'PERIAquBug2021May06',\n",
       " 'PERIAquBug2021May10',\n",
       " 'PERIAquBug2024May15',\n",
       " 'PERIAqubug2009May01',\n",
       " 'PERIAqubug2009May04',\n",
       " 'PERIAqubug2010May12',\n",
       " 'PERIAqubug2012May01',\n",
       " 'PIPEAquBug2013Sep12',\n",
       " 'PIPEAquBug2016Sep09',\n",
       " 'PIPEAquBug2021Aug26',\n",
       " 'PIPEAquBug2022Aug18',\n",
       " 'PIPEAqubug2006Aug11',\n",
       " 'PIPEAqubug2007Aug28',\n",
       " 'PIPEAqubug2010Aug31',\n",
       " 'TAPRAquBug2013Apr23',\n",
       " 'TAPRAquBug2015Apr29',\n",
       " 'TAPRAquBug2018May03',\n",
       " 'TAPRAquBug2018May04',\n",
       " 'TAPRAquBug2024May07',\n",
       " 'TAPRAqubug2009Sep01',\n",
       " 'TAPRAqubug2009Sep02',\n",
       " 'WICRAquBug2016May04',\n",
       " 'WICRAquBug2019Jun03',\n",
       " 'WICRAquBug2019Jun11',\n",
       " 'WICRAquBug2022Jun02',\n",
       " 'WICRAquBug2022Jun09',\n",
       " 'WICRAquBug2022Jun14',\n",
       " 'WICRAqubug2006Jun13',\n",
       " 'WICRAqubug2006Jun14',\n",
       " 'WICRAqubug2007Jul15',\n",
       " 'WICRAqubug2007Jun22',\n",
       " 'WICRAqubug2010May03',\n",
       " 'WICRAqubug2013May06']"
      ]
     },
     "execution_count": 73,
     "metadata": {},
     "output_type": "execute_result"
    }
   ],
   "source": [
    "sorted(df['EventID'].unique())"
   ]
  },
  {
   "cell_type": "code",
   "execution_count": 10,
   "id": "909d51d7-834d-4bd3-bf06-1bb9ba0cc75e",
   "metadata": {},
   "outputs": [
    {
     "data": {
      "text/plain": [
       "array([ 1,  2,  3,  4,  5,  6,  7,  8,  9, 10, 11, 12, 13, 14, 15, 16, 17,\n",
       "       18, 19, 20, 21, 22, 23, 24, 25, 26, 27, 28, 29, 30, 31])"
      ]
     },
     "execution_count": 10,
     "metadata": {},
     "output_type": "execute_result"
    }
   ],
   "source": [
    "df['DischargeNo'].unique() "
   ]
  },
  {
   "cell_type": "code",
   "execution_count": 75,
   "id": "8a714bed-9641-4e3b-897f-58fd9b9a7b89",
   "metadata": {},
   "outputs": [
    {
     "data": {
      "text/plain": [
       "array(['L', 'M', 'R', 'H', 'm'], dtype=object)"
      ]
     },
     "execution_count": 75,
     "metadata": {},
     "output_type": "execute_result"
    }
   ],
   "source": [
    "df['Replicate'].unique() "
   ]
  },
  {
   "cell_type": "code",
   "execution_count": 14,
   "id": "b159b263-681a-450c-b949-d57958c14a98",
   "metadata": {},
   "outputs": [
    {
     "data": {
      "text/plain": [
       "array([[<Axes: title={'center': 'DistanceFromBank_m'}>]], dtype=object)"
      ]
     },
     "execution_count": 14,
     "metadata": {},
     "output_type": "execute_result"
    },
    {
     "data": {
      "image/png": "[encoded data removed]",
      "text/plain": [
       "<Figure size 640x480 with 1 Axes>"
      ]
     },
     "metadata": {},
     "output_type": "display_data"
    }
   ],
   "source": [
    "col = ['DistanceFromBank_m'] \n",
    "df2 = df[(df[col] > 0) & (df[col] <=100)]\n",
    "df2.hist(column='DistanceFromBank_m')"
   ]
  },
  {
   "cell_type": "code",
   "execution_count": 18,
   "id": "bf7c71b3-52a7-497f-a6cf-bc0cf27e2d24",
   "metadata": {},
   "outputs": [
    {
     "data": {
      "text/plain": [
       "array([[<Axes: title={'center': 'Depth_cm'}>]], dtype=object)"
      ]
     },
     "execution_count": 18,
     "metadata": {},
     "output_type": "execute_result"
    },
    {
     "data": {
      "image/png": "[encoded data removed]",
      "text/plain": [
       "<Figure size 640x480 with 1 Axes>"
      ]
     },
     "metadata": {},
     "output_type": "display_data"
    }
   ],
   "source": [
    "col = ['Depth_cm'] \n",
    "df2 = df[df[col] > 0]\n",
    "df2.hist(column='Depth_cm')"
   ]
  },
  {
   "cell_type": "code",
   "execution_count": 19,
   "id": "5959847e-65b1-4540-80e8-ebc493244494",
   "metadata": {},
   "outputs": [
    {
     "data": {
      "text/plain": [
       "array([[<Axes: title={'center': 'Velocity_ms'}>]], dtype=object)"
      ]
     },
     "execution_count": 19,
     "metadata": {},
     "output_type": "execute_result"
    },
    {
     "data": {
      "image/png": "[encoded data removed]",
      "text/plain": [
       "<Figure size 640x480 with 1 Axes>"
      ]
     },
     "metadata": {},
     "output_type": "display_data"
    }
   ],
   "source": [
    "col = ['Velocity_ms'] \n",
    "df2 = df[df[col] > 0]\n",
    "df2.hist(column='Velocity_ms')"
   ]
  },
  {
   "cell_type": "code",
   "execution_count": 22,
   "id": "3fbd02b6-0f18-4aa9-851f-ac9eab3f79ec",
   "metadata": {},
   "outputs": [
    {
     "data": {
      "text/plain": [
       "[' ',\n",
       " '*',\n",
       " '0',\n",
       " '0.5',\n",
       " 'Boulder',\n",
       " 'No discharge taken, too low for meaningful results',\n",
       " 'SHORT',\n",
       " 'big boulder moved to left',\n",
       " 'boulder in front of first point',\n",
       " 'half meter',\n",
       " 'moved over due to grass patch',\n",
       " 'nan',\n",
       " 'no discharge - Dead flow meter',\n",
       " 'short distance',\n",
       " 'taken within watercress',\n",
       " 'to shallow',\n",
       " 'tree roots creating on bank eddie',\n",
       " 'veg up',\n",
       " 'very little flow, negative reading']"
      ]
     },
     "execution_count": 22,
     "metadata": {},
     "output_type": "execute_result"
    }
   ],
   "source": [
    "df[\"Comments\"] = df[\"Comments\"].astype(str)\n",
    "sorted(df['Comments'].unique()) "
   ]
  },
  {
   "cell_type": "code",
   "execution_count": null,
   "id": "95c3d0ab-0140-415a-8984-bd0ede448f1a",
   "metadata": {},
   "outputs": [],
   "source": []
  }
 ],
 "metadata": {
  "kernelspec": {
   "display_name": "Python 3 (ipykernel)",
   "language": "python",
   "name": "python3"
  },
  "language_info": {
   "codemirror_mode": {
    "name": "ipython",
    "version": 3
   },
   "file_extension": ".py",
   "mimetype": "text/x-python",
   "name": "python",
   "nbconvert_exporter": "python",
   "pygments_lexer": "ipython3",
   "version": "3.10.15"
  }
 },
 "nbformat": 4,
 "nbformat_minor": 5
}
