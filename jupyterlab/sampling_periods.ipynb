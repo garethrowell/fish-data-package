{
 "cells": [
  {
   "cell_type": "code",
   "execution_count": 10,
   "id": "b72034c7-cb39-4e64-92d6-9aa5ef494d9a",
   "metadata": {},
   "outputs": [],
   "source": [
    "import pandas as pd\n",
    "import matplotlib.pyplot as plt"
   ]
  },
  {
   "cell_type": "code",
   "execution_count": 11,
   "id": "be6ded30-4f9f-41f7-b479-bd060e4b7194",
   "metadata": {},
   "outputs": [
    {
     "name": "stdout",
     "output_type": "stream",
     "text": [
      "              PeriodID ParkCode ProjectCode  Season  StartDate    EndDate  \\\n",
      "0  BUFFRMFISH2006MAY22     BUFF      RMFISH    2006  5/22/2006  6/12/2006   \n",
      "1  BUFFRMFISH2007Mar13     BUFF      RMFISH    2007  3/13/2007  3/22/2007   \n",
      "2  BUFFRMFISH2007Mar30     BUFF      RMFISH    2007  3/30/2007  3/31/2007   \n",
      "3  BUFFRMFISH2007May21     BUFF      RMFISH    2007  5/21/2007  6/20/2007   \n",
      "4  BUFFRMFISH2008May19     BUFF      RMFISH    2008  5/19/2008  6/19/2008   \n",
      "\n",
      "  ProtSOPQAPCollectionID  FlaggedData_YN OpsReviewFlaggedData_Comment Comments  \n",
      "0        RMFISH_PSQ_V1.0           False                          NaN      NaN  \n",
      "1        RMFISH_PSQ_V1.0           False                          NaN      NaN  \n",
      "2        RMFISH_PSQ_V1.0           False                          NaN      NaN  \n",
      "3        RMFISH_PSQ_V1.0           False                          NaN      NaN  \n",
      "4        RMFISH_PSQ_V1.0           False                          NaN      NaN  \n"
     ]
    }
   ],
   "source": [
    "path = r\"C:\\Users\\GRowell\\fish-data\\raw_data\\HTLN_Fish_SamplingPeriods.csv\"\n",
    "df = pd.read_csv(path)\n",
    "print(df.head())"
   ]
  },
  {
   "cell_type": "code",
   "execution_count": 12,
   "id": "60b00748-e1e6-454d-b762-4ae5fa3ee2c0",
   "metadata": {},
   "outputs": [
    {
     "data": {
      "text/plain": [
       "PeriodID                        object\n",
       "ParkCode                        object\n",
       "ProjectCode                     object\n",
       "Season                           int64\n",
       "StartDate                       object\n",
       "EndDate                         object\n",
       "ProtSOPQAPCollectionID          object\n",
       "FlaggedData_YN                    bool\n",
       "OpsReviewFlaggedData_Comment    object\n",
       "Comments                        object\n",
       "dtype: object"
      ]
     },
     "execution_count": 12,
     "metadata": {},
     "output_type": "execute_result"
    }
   ],
   "source": [
    "df.dtypes"
   ]
  },
  {
   "cell_type": "code",
   "execution_count": 13,
   "id": "d074c90c-ec90-4dcd-8aac-2a2af4df95ae",
   "metadata": {},
   "outputs": [
    {
     "data": {
      "text/plain": [
       "['BUFFRMFISH2006MAY22',\n",
       " 'BUFFRMFISH2007Mar13',\n",
       " 'BUFFRMFISH2007Mar30',\n",
       " 'BUFFRMFISH2007May21',\n",
       " 'BUFFRMFISH2008May19',\n",
       " 'BUFFRMFISH2009May19',\n",
       " 'BUFFRMFISH2010May17',\n",
       " 'BUFFRMFISH2012May21',\n",
       " 'BUFFRMFISH2013May20',\n",
       " 'BUFFRMFISH2017May24',\n",
       " 'BUFFRMFISH2019May22',\n",
       " 'BUFFRMFISH2021May17',\n",
       " 'BUFFRMFISH2023May23',\n",
       " 'BUFFrmfish2015May22',\n",
       " 'EFMOStfish2008Jul09',\n",
       " 'EFMOStfish2014Aug13',\n",
       " 'EFMOStfish2017July18',\n",
       " 'EFMOStfish2020Jul06',\n",
       " 'EFMOStfish2023Jul19',\n",
       " 'GWCAStfish2006Jun28',\n",
       " 'GWCAStfish2007May02',\n",
       " 'GWCAStfish2010May05',\n",
       " 'GWCAStfish2013May01',\n",
       " 'GWCAStfish2016May02',\n",
       " 'GWCAStfish2019May06',\n",
       " 'GWCAStfish2022May02',\n",
       " 'HEHOStfish2008Jul08',\n",
       " 'HEHOStfish2011Jul11',\n",
       " 'HEHOStfish2014Aug12',\n",
       " 'HEHOStfish2017July18',\n",
       " 'HEHOStfish2020Jul06',\n",
       " 'HEHOStfish2021Jul26',\n",
       " 'HEHOStfish2022Jul05',\n",
       " 'HEHOStfish2023Jul17',\n",
       " 'HOMEShiner2004Sep13',\n",
       " 'HOMEShiner2006Aug31',\n",
       " 'HOMEShiner2008Aug27',\n",
       " 'HOMEShiner2011Sep20',\n",
       " 'HOMEShiner2015Sep03',\n",
       " 'HOMEShiner2017Sep07',\n",
       " 'HOMEShiner2020Aug24',\n",
       " 'HOMEShiner2023Sep07',\n",
       " 'HOSPStfish2009Jun16',\n",
       " 'HOSPStfish2012Jul10',\n",
       " 'HOSPStfish2015Jul07',\n",
       " 'HOSPStfish2018Jul09',\n",
       " 'HOSPStfish2024Jul16',\n",
       " 'OZARRMFISH2005OCT20',\n",
       " 'OZARRMFISH2006OCT02',\n",
       " 'OZARRMFISH2007Oct01',\n",
       " 'OZARRMFISH2008Oct06',\n",
       " 'OZARRMFISH2009Oct05',\n",
       " 'OZARRMFISH2010Oct05',\n",
       " 'OZARRMFISH2012Sep24',\n",
       " 'OZARRMFISH2014Sep22',\n",
       " 'OZARRMFISH2018Sep18',\n",
       " 'OZARRMFISH2020Aug31',\n",
       " 'OZARRMFISH2022Aug29',\n",
       " 'OZARRMFISH2024Aug26',\n",
       " 'OZARRMFish2014Sep23',\n",
       " 'OZARRMFish2016Sep19',\n",
       " 'OZRSSPRNGS2007Jul23',\n",
       " 'OZRSSPRNGS2008Jul21',\n",
       " 'OZRSSPRNGS2009Aug25',\n",
       " 'OZRSSPRNGS2009Jul27',\n",
       " 'OZRSSPRNGS2010Jul26',\n",
       " 'OZRSSPRNGS2011Jul25',\n",
       " 'OZRSSPRNGS2012Jul23',\n",
       " 'OZRSSPRNGS2013Jul29',\n",
       " 'OZRSSPRNGS2014Jul28',\n",
       " 'OZRSSPRNGS2015Jul27',\n",
       " 'OZRSSPRNGS2016Jul25',\n",
       " 'OZRSSPRNGS2017Jul24',\n",
       " 'OZRSSPRNGS2018Jul23',\n",
       " 'OZRSSprngs2019Jul29',\n",
       " 'OZRSSprngs2020Jul29',\n",
       " 'OZRSSprngs2021Aug03',\n",
       " 'OZRSSprngs2022Jul27',\n",
       " 'OZRSSprngs2023Aug01',\n",
       " 'OZRSSprngs2024Jul29',\n",
       " 'PERIStfish2009May01',\n",
       " 'PERIStfish2012May02',\n",
       " 'PERIStfish2015May12',\n",
       " 'PERIStfish2018May10',\n",
       " 'PERIStfish2021May06',\n",
       " 'PERIStfish2024May15',\n",
       " 'PIPEShiner2001Sep11',\n",
       " 'PIPEShiner2002Sep17',\n",
       " 'PIPEShiner2003Sep02',\n",
       " 'PIPEShiner2004Sep16',\n",
       " 'PIPEShiner2005Sep20',\n",
       " 'PIPEShiner2006Aug29',\n",
       " 'PIPEShiner2007Aug28',\n",
       " 'PIPEShiner2008Aug26',\n",
       " 'PIPEShiner2009Aug24',\n",
       " 'PIPEShiner2010Aug31',\n",
       " 'PIPEShiner2011Aug31',\n",
       " 'PIPEShiner2012Aug22',\n",
       " 'PIPEShiner2013Sep13',\n",
       " 'PIPEShiner2014Sep13',\n",
       " 'PIPEShiner2015Sep12',\n",
       " 'PIPEShiner2016Sep10',\n",
       " 'PIPEShiner2017Sep09',\n",
       " 'PIPEShiner2018Sep08',\n",
       " 'PIPEShiner2019Sep12',\n",
       " 'PIPEShiner2020Aug24',\n",
       " 'PIPEShiner2021Aug26',\n",
       " 'PIPEShiner2022Aug18',\n",
       " 'PIPEShiner2023Aug29',\n",
       " 'PIPEShiner2024Aug20',\n",
       " 'TAPRShiner2001Aug28',\n",
       " 'TAPRShiner2002Sep30',\n",
       " 'TAPRShiner2003Oct06',\n",
       " 'TAPRShiner2004Oct04',\n",
       " 'TAPRShiner2005Oct03',\n",
       " 'TAPRShiner2006Sep18',\n",
       " 'TAPRShiner2007Sep09',\n",
       " 'TAPRShiner2008Sep07',\n",
       " 'TAPRShiner2009Sep08',\n",
       " 'TAPRShiner2010Sep07',\n",
       " 'TAPRShiner2013Sep18',\n",
       " 'TAPRShiner2014Sept09',\n",
       " 'TAPRShiner2015Aug30',\n",
       " 'TAPRShiner2016Aug31',\n",
       " 'TAPRShiner2017Sep05',\n",
       " 'TAPRShiner2018Sep04',\n",
       " 'TAPRShiner2019Sep10',\n",
       " 'TAPRShiner2020Aug24',\n",
       " 'TAPRShiner2021Sep07',\n",
       " 'TAPRShiner2022Aug16',\n",
       " 'TAPRShiner2024Aug12',\n",
       " 'WICRStfish2006Jun15',\n",
       " 'WICRStfish2007May09',\n",
       " 'WICRStfish2010May03',\n",
       " 'WICRStfish2013May06',\n",
       " 'WICRStfish2016May04',\n",
       " 'WICRStfish2019Jun03',\n",
       " 'WICRStfish2022Jun02']"
      ]
     },
     "execution_count": 13,
     "metadata": {},
     "output_type": "execute_result"
    }
   ],
   "source": [
    "sorted(df['PeriodID'].unique())"
   ]
  },
  {
   "cell_type": "code",
   "execution_count": 14,
   "id": "6a2d8a80-d1d6-4788-b7c9-b0f72a1f600e",
   "metadata": {},
   "outputs": [
    {
     "data": {
      "text/plain": [
       "PeriodID                        object\n",
       "ParkCode                        object\n",
       "ProjectCode                     object\n",
       "Season                           int64\n",
       "StartDate                       object\n",
       "EndDate                         object\n",
       "ProtSOPQAPCollectionID          object\n",
       "FlaggedData_YN                    bool\n",
       "OpsReviewFlaggedData_Comment    object\n",
       "Comments                        object\n",
       "dtype: object"
      ]
     },
     "execution_count": 14,
     "metadata": {},
     "output_type": "execute_result"
    }
   ],
   "source": [
    "df.dtypes"
   ]
  },
  {
   "cell_type": "code",
   "execution_count": 15,
   "id": "bf0300da-878b-4d68-9e1c-38a28e7c7eee",
   "metadata": {},
   "outputs": [
    {
     "data": {
      "text/plain": [
       "['BUFF',\n",
       " 'EFMO',\n",
       " 'GWCA',\n",
       " 'HEHO',\n",
       " 'HOME',\n",
       " 'HOSP',\n",
       " 'OZAR',\n",
       " 'OZRS',\n",
       " 'PERI',\n",
       " 'PIPE',\n",
       " 'TAPR',\n",
       " 'WICR']"
      ]
     },
     "execution_count": 15,
     "metadata": {},
     "output_type": "execute_result"
    }
   ],
   "source": [
    "sorted(df[\"ParkCode\"].unique())"
   ]
  },
  {
   "cell_type": "code",
   "execution_count": 16,
   "id": "faf6d7c3-501e-4536-aec7-a911819ec491",
   "metadata": {},
   "outputs": [
    {
     "data": {
      "text/plain": [
       "['RMFISH', 'RMFish', 'SPRNGS', 'Shiner', 'Sprngs', 'Stfish', 'rmfish']"
      ]
     },
     "execution_count": 16,
     "metadata": {},
     "output_type": "execute_result"
    }
   ],
   "source": [
    "sorted(df[\"ProjectCode\"].unique())"
   ]
  },
  {
   "cell_type": "code",
   "execution_count": 17,
   "id": "6a4f47fe-ccbe-48e8-8a1f-40281c48e2b4",
   "metadata": {},
   "outputs": [
    {
     "data": {
      "text/plain": [
       "[np.int64(2001),\n",
       " np.int64(2002),\n",
       " np.int64(2003),\n",
       " np.int64(2004),\n",
       " np.int64(2005),\n",
       " np.int64(2006),\n",
       " np.int64(2007),\n",
       " np.int64(2008),\n",
       " np.int64(2009),\n",
       " np.int64(2010),\n",
       " np.int64(2011),\n",
       " np.int64(2012),\n",
       " np.int64(2013),\n",
       " np.int64(2014),\n",
       " np.int64(2015),\n",
       " np.int64(2016),\n",
       " np.int64(2017),\n",
       " np.int64(2018),\n",
       " np.int64(2019),\n",
       " np.int64(2020),\n",
       " np.int64(2021),\n",
       " np.int64(2022),\n",
       " np.int64(2023),\n",
       " np.int64(2024)]"
      ]
     },
     "execution_count": 17,
     "metadata": {},
     "output_type": "execute_result"
    }
   ],
   "source": [
    "sorted(df[\"Season\"].unique())"
   ]
  },
  {
   "cell_type": "code",
   "execution_count": 18,
   "id": "2277ba00-236e-4e15-aef0-0fe6835638f8",
   "metadata": {},
   "outputs": [
    {
     "data": {
      "text/plain": [
       "['10/1/2007',\n",
       " '10/2/2006',\n",
       " '10/20/2005',\n",
       " '10/3/2005',\n",
       " '10/4/2004',\n",
       " '10/5/2009',\n",
       " '10/5/2010',\n",
       " '10/6/2003',\n",
       " '10/6/2008',\n",
       " '3/13/2007',\n",
       " '3/30/2007',\n",
       " '5/1/2009',\n",
       " '5/1/2013',\n",
       " '5/10/2018',\n",
       " '5/12/2015',\n",
       " '5/15/2024',\n",
       " '5/17/2010',\n",
       " '5/17/2021',\n",
       " '5/19/2008',\n",
       " '5/19/2009',\n",
       " '5/2/2007',\n",
       " '5/2/2012',\n",
       " '5/2/2016',\n",
       " '5/2/2022',\n",
       " '5/20/2013',\n",
       " '5/21/2007',\n",
       " '5/21/2012',\n",
       " '5/22/2006',\n",
       " '5/22/2015',\n",
       " '5/22/2019',\n",
       " '5/23/2023',\n",
       " '5/24/2017',\n",
       " '5/3/2010',\n",
       " '5/4/2016',\n",
       " '5/5/2010',\n",
       " '5/6/2013',\n",
       " '5/6/2019',\n",
       " '5/6/2021',\n",
       " '5/9/2007',\n",
       " '6/15/2006',\n",
       " '6/16/2009',\n",
       " '6/2/2022',\n",
       " '6/28/2006',\n",
       " '6/3/2019',\n",
       " '7/10/2012',\n",
       " '7/11/2011',\n",
       " '7/16/2024',\n",
       " '7/17/2023',\n",
       " '7/18/2017',\n",
       " '7/19/2023',\n",
       " '7/21/2008',\n",
       " '7/23/2007',\n",
       " '7/23/2012',\n",
       " '7/23/2018',\n",
       " '7/24/2017',\n",
       " '7/25/2011',\n",
       " '7/25/2016',\n",
       " '7/26/2010',\n",
       " '7/26/2021',\n",
       " '7/27/2009',\n",
       " '7/27/2015',\n",
       " '7/27/2022',\n",
       " '7/28/2014',\n",
       " '7/29/2013',\n",
       " '7/29/2019',\n",
       " '7/29/2020',\n",
       " '7/29/2024',\n",
       " '7/5/2022',\n",
       " '7/6/2020',\n",
       " '7/7/2015',\n",
       " '7/8/2008',\n",
       " '7/9/2008',\n",
       " '7/9/2018',\n",
       " '8/1/2023',\n",
       " '8/12/2014',\n",
       " '8/12/2024',\n",
       " '8/13/2014',\n",
       " '8/16/2022',\n",
       " '8/18/2022',\n",
       " '8/20/2024',\n",
       " '8/22/2012',\n",
       " '8/24/2009',\n",
       " '8/24/2020',\n",
       " '8/25/2009',\n",
       " '8/26/2008',\n",
       " '8/26/2021',\n",
       " '8/26/2024',\n",
       " '8/27/2008',\n",
       " '8/28/2001',\n",
       " '8/28/2007',\n",
       " '8/29/2006',\n",
       " '8/29/2022',\n",
       " '8/29/2023',\n",
       " '8/3/2021',\n",
       " '8/30/2015',\n",
       " '8/31/2006',\n",
       " '8/31/2010',\n",
       " '8/31/2011',\n",
       " '8/31/2016',\n",
       " '8/31/2020',\n",
       " '9/10/2016',\n",
       " '9/10/2019',\n",
       " '9/11/2001',\n",
       " '9/12/2015',\n",
       " '9/12/2019',\n",
       " '9/13/2004',\n",
       " '9/13/2013',\n",
       " '9/13/2014',\n",
       " '9/16/2004',\n",
       " '9/17/2002',\n",
       " '9/18/2006',\n",
       " '9/18/2013',\n",
       " '9/18/2018',\n",
       " '9/19/2016',\n",
       " '9/2/2003',\n",
       " '9/20/2005',\n",
       " '9/20/2011',\n",
       " '9/22/2014',\n",
       " '9/23/2014',\n",
       " '9/24/2012',\n",
       " '9/3/2015',\n",
       " '9/4/2018',\n",
       " '9/5/2017',\n",
       " '9/7/2008',\n",
       " '9/7/2010',\n",
       " '9/7/2017',\n",
       " '9/7/2021',\n",
       " '9/7/2023',\n",
       " '9/8/2009',\n",
       " '9/8/2018',\n",
       " '9/9/2007',\n",
       " '9/9/2014',\n",
       " '9/9/2017']"
      ]
     },
     "execution_count": 18,
     "metadata": {},
     "output_type": "execute_result"
    }
   ],
   "source": [
    "sorted(df[\"StartDate\"].unique())"
   ]
  },
  {
   "cell_type": "code",
   "execution_count": 19,
   "id": "5847f8dd-baa4-4007-8a31-2a2f294639a4",
   "metadata": {},
   "outputs": [
    {
     "data": {
      "text/plain": [
       "PeriodID                        object\n",
       "ParkCode                        object\n",
       "ProjectCode                     object\n",
       "Season                           int64\n",
       "StartDate                       object\n",
       "EndDate                         object\n",
       "ProtSOPQAPCollectionID          object\n",
       "FlaggedData_YN                    bool\n",
       "OpsReviewFlaggedData_Comment    object\n",
       "Comments                        object\n",
       "dtype: object"
      ]
     },
     "execution_count": 19,
     "metadata": {},
     "output_type": "execute_result"
    }
   ],
   "source": [
    "df.dtypes"
   ]
  },
  {
   "cell_type": "code",
   "execution_count": 20,
   "id": "b6233c65-5feb-4931-a103-8c382774a355",
   "metadata": {},
   "outputs": [
    {
     "data": {
      "text/plain": [
       "['10/10/2003',\n",
       " '10/13/2001',\n",
       " '10/13/2016',\n",
       " '10/16/2014',\n",
       " '10/16/2018',\n",
       " '10/18/2012',\n",
       " '10/19/2007',\n",
       " '10/22/2009',\n",
       " '10/30/2008',\n",
       " '10/5/2005',\n",
       " '10/6/2002',\n",
       " '10/6/2010',\n",
       " '10/7/2004',\n",
       " '11/3/2006',\n",
       " '12/6/2005',\n",
       " '3/22/2007',\n",
       " '3/31/2007',\n",
       " '5/1/2009',\n",
       " '5/10/2018',\n",
       " '5/11/2007',\n",
       " '5/12/2015',\n",
       " '5/15/2024',\n",
       " '5/2/2012',\n",
       " '5/2/2013',\n",
       " '5/3/2016',\n",
       " '5/30/2013',\n",
       " '5/4/2007',\n",
       " '5/4/2010',\n",
       " '5/6/2010',\n",
       " '5/6/2016',\n",
       " '5/6/2021',\n",
       " '5/7/2019',\n",
       " '5/9/2022',\n",
       " '6/10/2009',\n",
       " '6/11/2019',\n",
       " '6/12/2006',\n",
       " '6/14/2023',\n",
       " '6/16/2021',\n",
       " '6/16/2022',\n",
       " '6/17/2009',\n",
       " '6/19/2006',\n",
       " '6/19/2008',\n",
       " '6/20/2007',\n",
       " '6/20/2019',\n",
       " '6/22/2017',\n",
       " '6/25/2010',\n",
       " '6/29/2006',\n",
       " '6/30/2012',\n",
       " '6/30/2013',\n",
       " '7/1/2015',\n",
       " '7/10/2018',\n",
       " '7/11/2012',\n",
       " '7/12/2011',\n",
       " '7/17/2024',\n",
       " '7/18/2017',\n",
       " '7/18/2023',\n",
       " '7/19/2023',\n",
       " '7/25/2008',\n",
       " '7/26/2018',\n",
       " '7/27/2012',\n",
       " '7/27/2017',\n",
       " '7/28/2016',\n",
       " '7/28/2021',\n",
       " '7/29/2010',\n",
       " '7/29/2011',\n",
       " '7/30/2024',\n",
       " '7/31/2014',\n",
       " '7/6/2020',\n",
       " '7/6/2022',\n",
       " '7/8/2008',\n",
       " '7/8/2015',\n",
       " '7/9/2008',\n",
       " '8/1/2007',\n",
       " '8/12/2014',\n",
       " '8/14/2014',\n",
       " '8/16/2024',\n",
       " '8/17/2022',\n",
       " '8/18/2022',\n",
       " '8/2/2023',\n",
       " '8/20/2024',\n",
       " '8/22/2012',\n",
       " '8/24/2020',\n",
       " '8/25/2009',\n",
       " '8/26/2008',\n",
       " '8/26/2021',\n",
       " '8/27/2008',\n",
       " '8/28/2007',\n",
       " '8/29/2023',\n",
       " '8/3/2020',\n",
       " '8/3/2022',\n",
       " '8/30/2006',\n",
       " '8/31/2006',\n",
       " '8/31/2010',\n",
       " '8/31/2011',\n",
       " '8/31/2020',\n",
       " '8/6/2015',\n",
       " '8/6/2021',\n",
       " '8/7/2009',\n",
       " '9/10/2008',\n",
       " '9/10/2014',\n",
       " '9/10/2016',\n",
       " '9/10/2021',\n",
       " '9/11/2009',\n",
       " '9/11/2019',\n",
       " '9/12/2001',\n",
       " '9/12/2015',\n",
       " '9/12/2019',\n",
       " '9/12/2024',\n",
       " '9/13/2004',\n",
       " '9/13/2007',\n",
       " '9/13/2014',\n",
       " '9/14/2013',\n",
       " '9/16/2004',\n",
       " '9/16/2013',\n",
       " '9/17/2002',\n",
       " '9/19/2013',\n",
       " '9/2/2015',\n",
       " '9/2/2016',\n",
       " '9/20/2005',\n",
       " '9/20/2006',\n",
       " '9/20/2011',\n",
       " '9/22/2022',\n",
       " '9/23/2014',\n",
       " '9/3/2015',\n",
       " '9/5/2003',\n",
       " '9/5/2019',\n",
       " '9/6/2017',\n",
       " '9/7/2017',\n",
       " '9/7/2018',\n",
       " '9/7/2023',\n",
       " '9/8/2010',\n",
       " '9/8/2018',\n",
       " '9/9/2017']"
      ]
     },
     "execution_count": 20,
     "metadata": {},
     "output_type": "execute_result"
    }
   ],
   "source": [
    "sorted(df[\"EndDate\"].unique())"
   ]
  },
  {
   "cell_type": "code",
   "execution_count": 21,
   "id": "8fcd55a1-c0cc-4799-b478-486bb6a43e11",
   "metadata": {},
   "outputs": [
    {
     "data": {
      "text/plain": [
       "PeriodID                        object\n",
       "ParkCode                        object\n",
       "ProjectCode                     object\n",
       "Season                           int64\n",
       "StartDate                       object\n",
       "EndDate                         object\n",
       "ProtSOPQAPCollectionID          object\n",
       "FlaggedData_YN                    bool\n",
       "OpsReviewFlaggedData_Comment    object\n",
       "Comments                        object\n",
       "dtype: object"
      ]
     },
     "execution_count": 21,
     "metadata": {},
     "output_type": "execute_result"
    }
   ],
   "source": [
    "df.dtypes"
   ]
  },
  {
   "cell_type": "code",
   "execution_count": 22,
   "id": "c9a7e356-faeb-4848-87cd-eb85a0145bf6",
   "metadata": {},
   "outputs": [
    {
     "data": {
      "text/plain": [
       "['RMFISH_PSQ_V1.0',\n",
       " 'RMFISH_PSQ_V2.0',\n",
       " 'RMFISH_PSQ_V2.1',\n",
       " 'Shiner_PSQ_V1.0',\n",
       " 'Sprngs_PSQ_V1.0',\n",
       " 'Sprngs_PSQ_V2.0',\n",
       " 'Stfish_PSQ_V1.0',\n",
       " 'Stfish_PSQ_V2.0']"
      ]
     },
     "execution_count": 22,
     "metadata": {},
     "output_type": "execute_result"
    }
   ],
   "source": [
    "sorted(df[\"ProtSOPQAPCollectionID\"].unique())"
   ]
  },
  {
   "cell_type": "code",
   "execution_count": 23,
   "id": "1c870ccd-2ac9-4887-a94b-0e2760a050e0",
   "metadata": {},
   "outputs": [
    {
     "data": {
      "text/plain": [
       "[np.False_, np.True_]"
      ]
     },
     "execution_count": 23,
     "metadata": {},
     "output_type": "execute_result"
    }
   ],
   "source": [
    "sorted(df[\"FlaggedData_YN\"].unique())"
   ]
  },
  {
   "cell_type": "code",
   "execution_count": 25,
   "id": "f1002fc3-9406-4cb8-ab7c-529c96b72a87",
   "metadata": {},
   "outputs": [
    {
     "data": {
      "text/plain": [
       "['Due to frequent floods during sampling period could not wait 2 weeks post-floods to sample as described in protocol. Fish data is atypical (low numbers and diversity) and should be analyzed with caution',\n",
       " 'nan']"
      ]
     },
     "execution_count": 25,
     "metadata": {},
     "output_type": "execute_result"
    }
   ],
   "source": [
    "df[\"OpsReviewFlaggedData_Comment\"] = df[\"OpsReviewFlaggedData_Comment\"].astype(str)\n",
    "sorted(df[\"OpsReviewFlaggedData_Comment\"].unique())"
   ]
  },
  {
   "cell_type": "code",
   "execution_count": 26,
   "id": "e80fc5c4-d86c-4719-963b-3d27e9054ecd",
   "metadata": {},
   "outputs": [
    {
     "data": {
      "text/plain": [
       "['Data collected 3 weeks earlier than sampling window outlined in protocol due to avoidance of sensitive species spawning season.',\n",
       " 'Due to Covid19 no sampling was conducted',\n",
       " 'Due to Covid19 no sampling was conducted for fish; Veg and inverts were completed',\n",
       " 'Due to flooding no samples were collected',\n",
       " 'Sampled fish and inverts on 8/26/2021.',\n",
       " 'Streams low. Rained ~5 inches prior to sampling at park. Suspect streams were very low previously.',\n",
       " 'nan']"
      ]
     },
     "execution_count": 26,
     "metadata": {},
     "output_type": "execute_result"
    }
   ],
   "source": [
    "df[\"Comments\"] = df[\"Comments\"].astype(str)\n",
    "sorted(df[\"Comments\"].unique())"
   ]
  }
 ],
 "metadata": {
  "kernelspec": {
   "display_name": "Python 3 (ipykernel)",
   "language": "python",
   "name": "python3"
  },
  "language_info": {
   "codemirror_mode": {
    "name": "ipython",
    "version": 3
   },
   "file_extension": ".py",
   "mimetype": "text/x-python",
   "name": "python",
   "nbconvert_exporter": "python",
   "pygments_lexer": "ipython3",
   "version": "3.10.15"
  }
 },
 "nbformat": 4,
 "nbformat_minor": 5
}
