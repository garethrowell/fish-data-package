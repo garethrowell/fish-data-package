{
 "cells": [
  {
   "cell_type": "code",
   "execution_count": 21,
   "id": "b72034c7-cb39-4e64-92d6-9aa5ef494d9a",
   "metadata": {},
   "outputs": [],
   "source": [
    "import pandas as pd\n",
    "import matplotlib.pyplot as plt"
   ]
  },
  {
   "cell_type": "code",
   "execution_count": 25,
   "id": "be6ded30-4f9f-41f7-b479-bd060e4b7194",
   "metadata": {},
   "outputs": [
    {
     "name": "stdout",
     "output_type": "stream",
     "text": [
      "   Season        LocationID              EventID ChannelType  GaugeSiteNo  \\\n",
      "0    2007  OZRSSPRNGSSITE02  OZRSSPRNGS2007Jul30        main      7067500   \n",
      "1    2008      HEHOStfish01  HEHOStfish2008Jul08        main      5464942   \n",
      "2    2011      HEHOStfish01  HEHOStfish2011Jul11        main      5464942   \n",
      "3    2011  OZRSSPRNGSSITE02  OZRSSPRNGS2011Jul28        main      7067500   \n",
      "4    2013  OZRSSPRNGSSITE02  OZRSSPRNGS2013Sep16        main      7067500   \n",
      "\n",
      "                           GaugeLocation  Discharge_cms  \\\n",
      "0          Big Spring near Van Buren, MO           9.80   \n",
      "1  Hoover Nat Hist Site, West Branch, IA           0.17   \n",
      "2  Hoover Nat Hist Site, West Branch, IA           0.08   \n",
      "3          Big Spring near Van Buren, MO          14.72   \n",
      "4          Big Spring near Van Buren, MO          13.79   \n",
      "\n",
      "                                            Comments  \n",
      "0                        Gauge = 364 cfs or 9.80 cms  \n",
      "1  Discharge on gage at 11 am on 7/8/2008 was 5.9...  \n",
      "2  USGS gage #5464942 7/12/11 at 9am, 2.7 cfs, 1....  \n",
      "3                         Gauge = 520 cfs, 14.72 cms  \n",
      "4                               13.79 m^3/sec @ gage  \n"
     ]
    }
   ],
   "source": [
    "path = r\"C:\\Users\\GRowell\\fish-data\\raw_data\\HTLN_Fish_DischargeGauge.csv\"\n",
    "df = pd.read_csv(path)\n",
    "print(df.head())"
   ]
  },
  {
   "cell_type": "code",
   "execution_count": 26,
   "id": "60b00748-e1e6-454d-b762-4ae5fa3ee2c0",
   "metadata": {},
   "outputs": [
    {
     "data": {
      "text/plain": [
       "Season             int64\n",
       "LocationID        object\n",
       "EventID           object\n",
       "ChannelType       object\n",
       "GaugeSiteNo        int64\n",
       "GaugeLocation     object\n",
       "Discharge_cms    float64\n",
       "Comments          object\n",
       "dtype: object"
      ]
     },
     "execution_count": 26,
     "metadata": {},
     "output_type": "execute_result"
    }
   ],
   "source": [
    "df.dtypes"
   ]
  },
  {
   "cell_type": "code",
   "execution_count": 27,
   "id": "8774df89-f995-4d96-96c7-17b778c06d1a",
   "metadata": {},
   "outputs": [
    {
     "data": {
      "text/plain": [
       "['BUFFRMFISHBM05',\n",
       " 'HEHOStfish01',\n",
       " 'OZARRMFISHCM02_Shift',\n",
       " 'OZARRMFISHCM04',\n",
       " 'OZARRMFISHCM05',\n",
       " 'OZARRMFISHCM06',\n",
       " 'OZARRMFISHCM06_Shift',\n",
       " 'OZRSSPRNGSSITE02']"
      ]
     },
     "execution_count": 27,
     "metadata": {},
     "output_type": "execute_result"
    }
   ],
   "source": [
    "sorted(df[\"LocationID\"].unique())"
   ]
  },
  {
   "cell_type": "code",
   "execution_count": 28,
   "id": "424fbdd5-11dc-4b0d-a4a5-caafe3951c16",
   "metadata": {},
   "outputs": [
    {
     "data": {
      "text/plain": [
       "['BUFFRMFISH2019Jun18',\n",
       " 'HEHOStfish2008Jul08',\n",
       " 'HEHOStfish2011Jul11',\n",
       " 'HEHOStfish2014Aug12',\n",
       " 'OZARRMFISH2022Aug30',\n",
       " 'OZARRMFISH2022Sep09',\n",
       " 'OZARRMFISH2022Sep12',\n",
       " 'OZARRMFISH2024Aug28',\n",
       " 'OZARRMFISH2024Aug29',\n",
       " 'OZARRMFish2016Oct06',\n",
       " 'OZARRMFish2016Oct12',\n",
       " 'OZRSSPRNGS2007Jul30',\n",
       " 'OZRSSPRNGS2011Jul28',\n",
       " 'OZRSSPRNGS2013Sep16',\n",
       " 'OZRSSPRNGS2014Jul31',\n",
       " 'OZRSSPRNGS2015Aug06',\n",
       " 'OZRSSPRNGS2016Jul28',\n",
       " 'OZRSSPRNGS2017Jul27',\n",
       " 'OZRSSPRNGS2021Aug05',\n",
       " 'OZRSSprngs2024Jul30']"
      ]
     },
     "execution_count": 28,
     "metadata": {},
     "output_type": "execute_result"
    }
   ],
   "source": [
    "sorted(df['EventID'].unique())"
   ]
  },
  {
   "cell_type": "code",
   "execution_count": 14,
   "id": "f584a232-79ba-4f2a-bc60-0b72ebd051fe",
   "metadata": {},
   "outputs": [
    {
     "data": {
      "text/plain": [
       "['main']"
      ]
     },
     "execution_count": 14,
     "metadata": {},
     "output_type": "execute_result"
    }
   ],
   "source": [
    "sorted(df['ChannelType'].unique())"
   ]
  },
  {
   "cell_type": "code",
   "execution_count": 15,
   "id": "909d51d7-834d-4bd3-bf06-1bb9ba0cc75e",
   "metadata": {},
   "outputs": [
    {
     "data": {
      "text/plain": [
       "array([ 7067500,  5464942,  7067000, 14134500,  7056000,  7064533])"
      ]
     },
     "execution_count": 15,
     "metadata": {},
     "output_type": "execute_result"
    }
   ],
   "source": [
    "df['GaugeSiteNo'].unique() "
   ]
  },
  {
   "cell_type": "code",
   "execution_count": 16,
   "id": "8a714bed-9641-4e3b-897f-58fd9b9a7b89",
   "metadata": {},
   "outputs": [
    {
     "data": {
      "text/plain": [
       "array(['Big Spring near Van Buren, MO',\n",
       "       'Hoover Nat Hist Site, West Branch, IA',\n",
       "       'Current River at Van Buren, MO\\xa0',\n",
       "       'Current River + Big Spring at/near Van Buren, MO\\xa0',\n",
       "       'Buffalo River near St. Joe, AR',\n",
       "       'Current River above Akers, MO\\xa0'], dtype=object)"
      ]
     },
     "execution_count": 16,
     "metadata": {},
     "output_type": "execute_result"
    }
   ],
   "source": [
    "df['GaugeLocation'].unique() "
   ]
  },
  {
   "cell_type": "code",
   "execution_count": 19,
   "id": "b159b263-681a-450c-b949-d57958c14a98",
   "metadata": {},
   "outputs": [
    {
     "data": {
      "text/plain": [
       "array([[<Axes: title={'center': 'Discharge_cms'}>]], dtype=object)"
      ]
     },
     "execution_count": 19,
     "metadata": {},
     "output_type": "execute_result"
    },
    {
     "data": {
      "image/png": "[encoded data removed]",
      "text/plain": [
       "<Figure size 640x480 with 1 Axes>"
      ]
     },
     "metadata": {},
     "output_type": "display_data"
    }
   ],
   "source": [
    "df.hist(column='Discharge_cms')"
   ]
  },
  {
   "cell_type": "code",
   "execution_count": 20,
   "id": "3fbd02b6-0f18-4aa9-851f-ac9eab3f79ec",
   "metadata": {},
   "outputs": [
    {
     "data": {
      "text/plain": [
       "['13.79 m^3/sec @ gage',\n",
       " '463 ft3/s or 13.11 m3/s',\n",
       " '651 cfs at 1300hrs 18.43m3/sec',\n",
       " 'Akers ferry usgs gauge reading @ 13:00',\n",
       " 'Discharge on gage at 11 am on 7/8/2008 was 5.9 cfs',\n",
       " 'Gage= 374 cfs (10.59 cms)',\n",
       " 'Gauge = 364 cfs or 9.80 cms',\n",
       " 'Gauge = 490 cfs (13.87 cms)',\n",
       " 'Gauge = 520 cfs, 14.72 cms',\n",
       " 'No DC taken (Van Buren reading = 36.8m/s)',\n",
       " 'No DC taken, Van Buren + Big Spring (46.5 m/s)',\n",
       " 'Powder Mill Gauge Height = 1.89 ft',\n",
       " 'Powder Mill Gauge Height = 2.03 ft',\n",
       " 'Too deep at sample site;used gauge from Tyler Bend; Harriett gauge at 26.2 cms',\n",
       " 'USGS gage #05464942 @3p height 1.37ft 0.64cfs',\n",
       " 'USGS gage #5464942 7/12/11 at 9am, 2.7 cfs, 1.5ft gage height',\n",
       " 'gage=14.23 m3/sec 502.5ft3/sec',\n",
       " 'nan']"
      ]
     },
     "execution_count": 20,
     "metadata": {},
     "output_type": "execute_result"
    }
   ],
   "source": [
    "df[\"Comments\"] = df[\"Comments\"].astype(str)\n",
    "sorted(df['Comments'].unique()) "
   ]
  }
 ],
 "metadata": {
  "kernelspec": {
   "display_name": "Python 3 (ipykernel)",
   "language": "python",
   "name": "python3"
  },
  "language_info": {
   "codemirror_mode": {
    "name": "ipython",
    "version": 3
   },
   "file_extension": ".py",
   "mimetype": "text/x-python",
   "name": "python",
   "nbconvert_exporter": "python",
   "pygments_lexer": "ipython3",
   "version": "3.10.15"
  }
 },
 "nbformat": 4,
 "nbformat_minor": 5
}
