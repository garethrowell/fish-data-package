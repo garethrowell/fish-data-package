{
 "cells": [
  {
   "cell_type": "code",
   "execution_count": 49,
   "id": "b72034c7-cb39-4e64-92d6-9aa5ef494d9a",
   "metadata": {},
   "outputs": [],
   "source": [
    "import pandas as pd\n",
    "import matplotlib.pyplot as plt"
   ]
  },
  {
   "cell_type": "code",
   "execution_count": 50,
   "id": "be6ded30-4f9f-41f7-b479-bd060e4b7194",
   "metadata": {},
   "outputs": [
    {
     "name": "stdout",
     "output_type": "stream",
     "text": [
      "   Park         LocationID              EventID  SiteNumber SamplingGear  \\\n",
      "0  HOME  HOMEShiner01lower  HOMEShiner2004Sep13           1        seine   \n",
      "1  HOME  HOMEShiner01lower  HOMEShiner2004Sep13           1        seine   \n",
      "2  HOME  HOMEShiner01lower  HOMEShiner2004Sep13           1        seine   \n",
      "3  HOME  HOMEShiner01lower  HOMEShiner2004Sep13           1        seine   \n",
      "4  HOME  HOMEShiner01lower  HOMEShiner2004Sep13           1        seine   \n",
      "\n",
      "  ChannelType  Season  SamplingEffort_sec  NoSeineHauls  SeineReachLength_m  \\\n",
      "0        main    2004                  90             1                12.7   \n",
      "1        main    2004                  90             1                12.7   \n",
      "2        main    2004                  90             1                12.7   \n",
      "3        main    2004                  90             1                12.7   \n",
      "4        main    2004                  90             1                12.7   \n",
      "\n",
      "   ...         ScientificName TaxaFishNumber TotalLength_mm  Weight_g  \\\n",
      "0  ...   Cyprinella lutrensis              1            NaN       NaN   \n",
      "1  ...    Ictalurus punctatus              1            NaN       NaN   \n",
      "2  ...      Lepomis cyanellus              1            NaN       NaN   \n",
      "3  ...    Notropis stramineus              1            NaN       NaN   \n",
      "4  ...  Phenacobius mirabilis              1            NaN       NaN   \n",
      "\n",
      "   AnomalyID  Vouchered NumObs  BatchID  BatchWT_g  Comments  \n",
      "0          N          0  169.0        0        NaN       NaN  \n",
      "1          N          0   10.0        0        NaN       NaN  \n",
      "2          N          0    1.0        0        NaN       NaN  \n",
      "3          N          0    3.0        0        NaN       NaN  \n",
      "4          N          0    2.0        0        NaN       NaN  \n",
      "\n",
      "[5 rows x 22 columns]\n"
     ]
    }
   ],
   "source": [
    "path = r\"C:\\Users\\GRowell\\fish-data\\csvs\\HTLN_FishSamplingandCounts_SE.csv\"\n",
    "df = pd.read_csv(path)\n",
    "print(df.head())"
   ]
  },
  {
   "cell_type": "code",
   "execution_count": 51,
   "id": "60b00748-e1e6-454d-b762-4ae5fa3ee2c0",
   "metadata": {},
   "outputs": [
    {
     "data": {
      "text/plain": [
       "Park                   object\n",
       "LocationID             object\n",
       "EventID                object\n",
       "SiteNumber              int64\n",
       "SamplingGear           object\n",
       "ChannelType            object\n",
       "Season                  int64\n",
       "SamplingEffort_sec      int64\n",
       "NoSeineHauls            int64\n",
       "SeineReachLength_m    float64\n",
       "TaxonCode              object\n",
       "CommonName             object\n",
       "ScientificName         object\n",
       "TaxaFishNumber          int64\n",
       "TotalLength_mm        float64\n",
       "Weight_g              float64\n",
       "AnomalyID              object\n",
       "Vouchered               int64\n",
       "NumObs                float64\n",
       "BatchID                 int64\n",
       "BatchWT_g             float64\n",
       "Comments               object\n",
       "dtype: object"
      ]
     },
     "execution_count": 51,
     "metadata": {},
     "output_type": "execute_result"
    }
   ],
   "source": [
    "df.dtypes"
   ]
  },
  {
   "cell_type": "code",
   "execution_count": 52,
   "id": "f015a459-9dc7-4ee6-a40c-a47ff669a0f0",
   "metadata": {},
   "outputs": [
    {
     "data": {
      "text/plain": [
       "['HOMEShiner01lower',\n",
       " 'HOMEShiner01upper',\n",
       " 'PIPEShiner01above',\n",
       " 'PIPEShiner01lower',\n",
       " 'PIPEShiner01middl',\n",
       " 'PIPEShiner01upper',\n",
       " 'TAPRShiner01lower',\n",
       " 'TAPRShiner01middl',\n",
       " 'TAPRShiner01upper',\n",
       " 'TAPRShiner02lower',\n",
       " 'TAPRShiner02middl',\n",
       " 'TAPRShiner04middl',\n",
       " 'TAPRShiner05middl',\n",
       " 'TAPRShiner10middl',\n",
       " 'TAPRShiner10upper',\n",
       " 'TAPRShiner12middl',\n",
       " 'TAPRShiner17lower',\n",
       " 'TAPRShiner17upper',\n",
       " 'TAPRShiner18middl',\n",
       " 'TAPRShiner22lower',\n",
       " 'TAPRShiner22ltupp',\n",
       " 'TAPRShiner22rtupp',\n",
       " 'TAPRShiner23middl',\n",
       " 'TAPRShiner24lower',\n",
       " 'TAPRShiner24middl',\n",
       " 'TAPRShiner34lower',\n",
       " 'TAPRShiner35lower',\n",
       " 'TAPRShiner36middl',\n",
       " 'TAPRShiner36upper']"
      ]
     },
     "execution_count": 52,
     "metadata": {},
     "output_type": "execute_result"
    }
   ],
   "source": [
    "sorted(df['LocationID'].unique())"
   ]
  },
  {
   "cell_type": "code",
   "execution_count": 53,
   "id": "efbd30e6-13fa-455b-a596-2f0eb7164900",
   "metadata": {},
   "outputs": [
    {
     "data": {
      "text/plain": [
       "['HOMEShiner2004Sep13',\n",
       " 'HOMEShiner2006Aug31',\n",
       " 'HOMEShiner2008Aug27',\n",
       " 'HOMEShiner2011Sep20',\n",
       " 'HOMEShiner2015Sep03',\n",
       " 'HOMEShiner2017Sep07',\n",
       " 'HOMEShiner2023Sep07',\n",
       " 'PIPEShiner2001Sep11',\n",
       " 'PIPEShiner2001Sep12',\n",
       " 'PIPEShiner2002Sep17',\n",
       " 'PIPEShiner2003Sep04',\n",
       " 'PIPEShiner2004Sep16',\n",
       " 'PIPEShiner2005Sep20',\n",
       " 'PIPEShiner2006Aug29',\n",
       " 'PIPEShiner2006Aug30',\n",
       " 'PIPEShiner2007Aug28',\n",
       " 'PIPEShiner2008Aug26',\n",
       " 'PIPEShiner2009Aug25',\n",
       " 'PIPEShiner2010Aug31',\n",
       " 'PIPEShiner2011Aug31',\n",
       " 'PIPEShiner2012Aug22',\n",
       " 'PIPEShiner2013Sep13',\n",
       " 'PIPEShiner2013Sep14',\n",
       " 'PIPEShiner2014Sep13',\n",
       " 'PIPEShiner2015Sep12',\n",
       " 'PIPEShiner2016Sep10',\n",
       " 'PIPEShiner2017Sep09',\n",
       " 'PIPEShiner2018Sep08',\n",
       " 'PIPEShiner2021Aug26',\n",
       " 'PIPEShiner2022Aug18',\n",
       " 'PIPEShiner2023Aug29',\n",
       " 'PIPEShiner2024Aug20',\n",
       " 'TAPRShiner2001Aug28',\n",
       " 'TAPRShiner2001Aug29',\n",
       " 'TAPRShiner2001Aug30',\n",
       " 'TAPRShiner2001Aug31',\n",
       " 'TAPRShiner2001Oct09',\n",
       " 'TAPRShiner2001Oct10',\n",
       " 'TAPRShiner2001Oct11',\n",
       " 'TAPRShiner2001Oct12',\n",
       " 'TAPRShiner2001Oct13',\n",
       " 'TAPRShiner2002Oct01',\n",
       " 'TAPRShiner2002Oct02',\n",
       " 'TAPRShiner2002Oct03',\n",
       " 'TAPRShiner2002Oct04',\n",
       " 'TAPRShiner2002Oct05',\n",
       " 'TAPRShiner2003Oct06',\n",
       " 'TAPRShiner2003Oct07',\n",
       " 'TAPRShiner2003Oct08',\n",
       " 'TAPRShiner2003Oct09',\n",
       " 'TAPRShiner2004Oct04',\n",
       " 'TAPRShiner2004Oct05',\n",
       " 'TAPRShiner2004Oct06',\n",
       " 'TAPRShiner2004Oct07',\n",
       " 'TAPRShiner2005Oct03',\n",
       " 'TAPRShiner2005Oct04',\n",
       " 'TAPRShiner2005Oct05',\n",
       " 'TAPRShiner2006Sep18',\n",
       " 'TAPRShiner2006Sep19',\n",
       " 'TAPRShiner2006Sep20',\n",
       " 'TAPRShiner2007Sep09',\n",
       " 'TAPRShiner2007Sep10',\n",
       " 'TAPRShiner2007Sep11',\n",
       " 'TAPRShiner2007Sep12',\n",
       " 'TAPRShiner2007Sep13',\n",
       " 'TAPRShiner2008Sep07',\n",
       " 'TAPRShiner2008Sep08',\n",
       " 'TAPRShiner2008Sep09',\n",
       " 'TAPRShiner2008Sep10',\n",
       " 'TAPRShiner2009Sep08',\n",
       " 'TAPRShiner2009Sep09',\n",
       " 'TAPRShiner2009Sep10',\n",
       " 'TAPRShiner2009Sep11',\n",
       " 'TAPRShiner2010Sep07',\n",
       " 'TAPRShiner2010Sep08',\n",
       " 'TAPRShiner2013Sep18',\n",
       " 'TAPRShiner2013Sep19',\n",
       " 'TAPRShiner2014Sep09',\n",
       " 'TAPRShiner2014Sep10',\n",
       " 'TAPRShiner2015Aug30',\n",
       " 'TAPRShiner2015Aug31',\n",
       " 'TAPRShiner2015Sep01',\n",
       " 'TAPRShiner2015Sep02',\n",
       " 'TAPRShiner2016Sep01',\n",
       " 'TAPRShiner2016Sep02',\n",
       " 'TAPRShiner2017Sep05',\n",
       " 'TAPRShiner2017Sep06',\n",
       " 'TAPRShiner2018Sep04',\n",
       " 'TAPRShiner2018Sep05',\n",
       " 'TAPRShiner2018Sep06',\n",
       " 'TAPRShiner2018Sep07',\n",
       " 'TAPRShiner2019Sep10',\n",
       " 'TAPRShiner2019Sep11',\n",
       " 'TAPRShiner2021Sep07',\n",
       " 'TAPRShiner2021Sep08',\n",
       " 'TAPRShiner2021Sep09',\n",
       " 'TAPRShiner2021Sep10',\n",
       " 'TAPRShiner2022Aug16',\n",
       " 'TAPRShiner2022Aug17',\n",
       " 'TAPRShiner2024Aug12',\n",
       " 'TAPRShiner2024Aug13',\n",
       " 'TAPRShiner2024Aug14',\n",
       " 'TAPRShiner2024Aug15',\n",
       " 'TAPRShiner2024Aug16']"
      ]
     },
     "execution_count": 53,
     "metadata": {},
     "output_type": "execute_result"
    }
   ],
   "source": [
    "sorted(df['EventID'].unique())"
   ]
  },
  {
   "cell_type": "code",
   "execution_count": 55,
   "id": "be94976d-22e1-4c58-b472-6ec0d49c30ee",
   "metadata": {},
   "outputs": [
    {
     "data": {
      "text/plain": [
       "array([[<Axes: title={'center': 'SiteNumber'}>]], dtype=object)"
      ]
     },
     "execution_count": 55,
     "metadata": {},
     "output_type": "execute_result"
    },
    {
     "data": {
      "image/png": "[encoded data removed]",
      "text/plain": [
       "<Figure size 640x480 with 1 Axes>"
      ]
     },
     "metadata": {},
     "output_type": "display_data"
    }
   ],
   "source": [
    "sorted(df['SiteNumber'].unique())\n",
    "cols = ['SiteNumber'] \n",
    "df2 = df[(df[cols] > 0)]\n",
    "df2.hist(column='SiteNumber')"
   ]
  },
  {
   "cell_type": "code",
   "execution_count": 56,
   "id": "635a6f7d-d42f-403b-a54a-c3fd2d1ae6ef",
   "metadata": {},
   "outputs": [
    {
     "data": {
      "text/plain": [
       "array(['seine'], dtype=object)"
      ]
     },
     "execution_count": 56,
     "metadata": {},
     "output_type": "execute_result"
    }
   ],
   "source": [
    "df['SamplingGear'].unique()"
   ]
  },
  {
   "cell_type": "code",
   "execution_count": 57,
   "id": "8774df89-f995-4d96-96c7-17b778c06d1a",
   "metadata": {},
   "outputs": [
    {
     "data": {
      "text/plain": [
       "['main']"
      ]
     },
     "execution_count": 57,
     "metadata": {},
     "output_type": "execute_result"
    }
   ],
   "source": [
    "sorted(df[\"ChannelType\"].unique())"
   ]
  },
  {
   "cell_type": "code",
   "execution_count": 58,
   "id": "cbdc8492-2f84-42de-91f3-1c4d1d910d22",
   "metadata": {},
   "outputs": [
    {
     "data": {
      "text/plain": [
       "[np.int64(2001),\n",
       " np.int64(2002),\n",
       " np.int64(2003),\n",
       " np.int64(2004),\n",
       " np.int64(2005),\n",
       " np.int64(2006),\n",
       " np.int64(2007),\n",
       " np.int64(2008),\n",
       " np.int64(2009),\n",
       " np.int64(2010),\n",
       " np.int64(2011),\n",
       " np.int64(2012),\n",
       " np.int64(2013),\n",
       " np.int64(2014),\n",
       " np.int64(2015),\n",
       " np.int64(2016),\n",
       " np.int64(2017),\n",
       " np.int64(2018),\n",
       " np.int64(2019),\n",
       " np.int64(2021),\n",
       " np.int64(2022),\n",
       " np.int64(2023),\n",
       " np.int64(2024)]"
      ]
     },
     "execution_count": 58,
     "metadata": {},
     "output_type": "execute_result"
    }
   ],
   "source": [
    "sorted(df['Season'].unique())"
   ]
  },
  {
   "cell_type": "code",
   "execution_count": 59,
   "id": "b155764c-e6f8-44f4-b24d-4c8f3b77b246",
   "metadata": {},
   "outputs": [
    {
     "data": {
      "text/plain": [
       "array([[<Axes: title={'center': 'SamplingEffort_sec'}>]], dtype=object)"
      ]
     },
     "execution_count": 59,
     "metadata": {},
     "output_type": "execute_result"
    },
    {
     "data": {
      "image/png": "[encoded data removed]",
      "text/plain": [
       "<Figure size 640x480 with 1 Axes>"
      ]
     },
     "metadata": {},
     "output_type": "display_data"
    }
   ],
   "source": [
    "cols = ['SamplingEffort_sec'] \n",
    "#df2 = df[(df[cols] > 0) & (df[cols] <= 10)]\n",
    "df2 = df[(df[cols] > 0)]\n",
    "df2.hist(column='SamplingEffort_sec')"
   ]
  },
  {
   "cell_type": "code",
   "execution_count": 61,
   "id": "9c092e2d-3971-4968-bfae-92365e809c32",
   "metadata": {},
   "outputs": [
    {
     "data": {
      "text/plain": [
       "array([[<Axes: title={'center': 'NoSeineHauls'}>]], dtype=object)"
      ]
     },
     "execution_count": 61,
     "metadata": {},
     "output_type": "execute_result"
    },
    {
     "data": {
      "image/png": "[encoded data removed]",
      "text/plain": [
       "<Figure size 640x480 with 1 Axes>"
      ]
     },
     "metadata": {},
     "output_type": "display_data"
    }
   ],
   "source": [
    "cols = ['NoSeineHauls'] \n",
    "#df2 = df[(df[cols] > 0) & (df[cols] <= 10)]\n",
    "df2 = df[(df[cols] > 0)]\n",
    "df2.hist(column='NoSeineHauls')"
   ]
  },
  {
   "cell_type": "code",
   "execution_count": 62,
   "id": "c36fc52d-5bc1-4199-9d7e-97742c65a215",
   "metadata": {},
   "outputs": [
    {
     "data": {
      "text/plain": [
       "array([[<Axes: title={'center': 'SeineReachLength_m'}>]], dtype=object)"
      ]
     },
     "execution_count": 62,
     "metadata": {},
     "output_type": "execute_result"
    },
    {
     "data": {
      "image/png": "[encoded data removed]",
      "text/plain": [
       "<Figure size 640x480 with 1 Axes>"
      ]
     },
     "metadata": {},
     "output_type": "display_data"
    }
   ],
   "source": [
    "cols = ['SeineReachLength_m'] \n",
    "df2 = df[(df[cols] > 0)]\n",
    "df2.hist(column='SeineReachLength_m')"
   ]
  },
  {
   "cell_type": "code",
   "execution_count": 64,
   "id": "7e63bb8b-5154-48cd-87db-c489eb17c4c9",
   "metadata": {},
   "outputs": [
    {
     "data": {
      "text/plain": [
       "['amemel',\n",
       " 'amenat',\n",
       " 'camano',\n",
       " 'camspp',\n",
       " 'carcar',\n",
       " 'catcom',\n",
       " 'culinc',\n",
       " 'cypcar',\n",
       " 'cyplut',\n",
       " 'cypspp',\n",
       " 'dorcep',\n",
       " 'ethexi',\n",
       " 'ethnig',\n",
       " 'ethspe',\n",
       " 'exoluc',\n",
       " 'funnot',\n",
       " 'gamaff',\n",
       " 'hybhan',\n",
       " 'ictcyp',\n",
       " 'ictpun',\n",
       " 'labsic',\n",
       " 'lepcya',\n",
       " 'lephum',\n",
       " 'lephxm',\n",
       " 'lepmac',\n",
       " 'lepmeg',\n",
       " 'lepspp',\n",
       " 'luxcar',\n",
       " 'luxcor',\n",
       " 'luxspp',\n",
       " 'lytumb',\n",
       " 'micpun',\n",
       " 'micsal',\n",
       " 'minmel',\n",
       " 'moxduq',\n",
       " 'moxery',\n",
       " 'nofish',\n",
       " 'notcry',\n",
       " 'notdor',\n",
       " 'notfla',\n",
       " 'notgyr',\n",
       " 'notper',\n",
       " 'notspp',\n",
       " 'notstr',\n",
       " 'nottop',\n",
       " 'notvol',\n",
       " 'ntuspp',\n",
       " 'percap',\n",
       " 'perfla',\n",
       " 'permac',\n",
       " 'phemir',\n",
       " 'pimnot',\n",
       " 'pimpro',\n",
       " 'pimten',\n",
       " 'pomann',\n",
       " 'rhiatr',\n",
       " 'sematr']"
      ]
     },
     "execution_count": 64,
     "metadata": {},
     "output_type": "execute_result"
    }
   ],
   "source": [
    "sorted(df['TaxonCode'].unique())"
   ]
  },
  {
   "cell_type": "code",
   "execution_count": 65,
   "id": "a77d6f88-24dc-45f1-be4a-6aca99f9a7aa",
   "metadata": {},
   "outputs": [
    {
     "data": {
      "text/plain": [
       "['Bigmouth buffalo',\n",
       " 'Bigmouth shiner',\n",
       " 'Black bullhead',\n",
       " 'Black redhorse',\n",
       " 'Blacknose dace',\n",
       " 'Blackside darter',\n",
       " 'Blackstripe topminnow',\n",
       " 'Bluegill',\n",
       " 'Bluntnose minnow',\n",
       " 'Brassy minnow',\n",
       " 'Brook silverside',\n",
       " 'Brook stickleback',\n",
       " 'Cardinal shiner',\n",
       " 'Carmine shiner',\n",
       " 'Central stoneroller',\n",
       " 'Channel catfish',\n",
       " 'Common carp',\n",
       " 'Common shiner',\n",
       " 'Creek chub',\n",
       " 'Fathead minnow',\n",
       " 'Gizzard shad',\n",
       " 'Golden redhorse',\n",
       " 'Golden shiner',\n",
       " 'Green sunfish',\n",
       " 'Iowa darter',\n",
       " 'Johnny darter',\n",
       " 'Largemouth bass',\n",
       " 'Logperch',\n",
       " 'Longear sunfish',\n",
       " 'Luxilus spp.',\n",
       " 'Mimic shiner',\n",
       " 'No Fish',\n",
       " 'Non-carp minnow spp.',\n",
       " 'Northern pike',\n",
       " 'Notropis spp.',\n",
       " 'Orangespotted sunfish',\n",
       " 'Orangespotted sunfish X Longear sunfish hybrid',\n",
       " 'Orangethroat darter',\n",
       " 'Red shiner',\n",
       " 'Redfin shiner',\n",
       " 'River carpsucker',\n",
       " 'Sand shiner',\n",
       " 'Slim minnow',\n",
       " 'Spotted bass',\n",
       " 'Spotted sucker',\n",
       " 'Stonecat',\n",
       " 'Stoneroller spp.',\n",
       " 'Suckermouth minnow',\n",
       " 'Sunfish spp. excluding Crappie and Black Bass',\n",
       " 'Tadpole madtom',\n",
       " 'Topeka shiner',\n",
       " 'Unknown madtom',\n",
       " 'Western Mosquitofish',\n",
       " 'White crappie',\n",
       " 'White sucker',\n",
       " 'Yellow bullhead',\n",
       " 'Yellow perch']"
      ]
     },
     "execution_count": 65,
     "metadata": {},
     "output_type": "execute_result"
    }
   ],
   "source": [
    "sorted(df['CommonName'].unique())"
   ]
  },
  {
   "cell_type": "code",
   "execution_count": 66,
   "id": "15777d65-7ba9-4b90-a004-78392a39dda0",
   "metadata": {},
   "outputs": [
    {
     "data": {
      "text/plain": [
       "['Ameiurus melas',\n",
       " 'Ameiurus natalis',\n",
       " 'Campostoma anomalum',\n",
       " 'Campostoma spp.',\n",
       " 'Carpiodes carpio',\n",
       " 'Catostomus commersonii',\n",
       " 'Culaea inconstans',\n",
       " 'Cyprinella lutrensis',\n",
       " 'Cyprinidae spp.',\n",
       " 'Cyprinus carpio',\n",
       " 'Dorosoma cepedianum',\n",
       " 'Esox lucius',\n",
       " 'Etheostoma exile',\n",
       " 'Etheostoma nigrum',\n",
       " 'Etheostoma spectabile',\n",
       " 'Fundulus notatus',\n",
       " 'Gambusia affinis',\n",
       " 'Hybognathus hankinsoni',\n",
       " 'Ictalurus punctatus',\n",
       " 'Ictiobus cyprinellus',\n",
       " 'Labidesthes sicculus',\n",
       " 'Lepomis cyanellus',\n",
       " 'Lepomis humilis',\n",
       " 'Lepomis humilis X L. megalotis',\n",
       " 'Lepomis macrochirus',\n",
       " 'Lepomis megalotis',\n",
       " 'Lepomis spp.',\n",
       " 'Luxilus cardinalis',\n",
       " 'Luxilus cornutus',\n",
       " 'Luxilus spp.',\n",
       " 'Lythrurus umbratilis',\n",
       " 'Micropterus punctulatus',\n",
       " 'Micropterus salmoides',\n",
       " 'Minytrema melanops',\n",
       " 'Moxostoma duquesnei',\n",
       " 'Moxostoma erythrurum',\n",
       " 'No Fish',\n",
       " 'Notemigonus crysoleucas',\n",
       " 'Notropis dorsalis',\n",
       " 'Notropis percobromus',\n",
       " 'Notropis spp.',\n",
       " 'Notropis stramineus',\n",
       " 'Notropis topeka',\n",
       " 'Notropis volucellus',\n",
       " 'Noturus flavus',\n",
       " 'Noturus gyrinus',\n",
       " 'Noturus spp.',\n",
       " 'Perca flavescens',\n",
       " 'Percina caprodes',\n",
       " 'Percina maculata',\n",
       " 'Phenacobius mirabilis',\n",
       " 'Pimephales notatus',\n",
       " 'Pimephales promelas',\n",
       " 'Pimephales tenellus',\n",
       " 'Pomoxis annularis',\n",
       " 'Rhinichthys atratulus',\n",
       " 'Semotilus atromaculatus']"
      ]
     },
     "execution_count": 66,
     "metadata": {},
     "output_type": "execute_result"
    }
   ],
   "source": [
    "sorted(df['ScientificName'].unique())"
   ]
  },
  {
   "cell_type": "code",
   "execution_count": 68,
   "id": "08596176-0e86-4489-8772-64b3476b0273",
   "metadata": {},
   "outputs": [
    {
     "data": {
      "text/plain": [
       "array([[<Axes: title={'center': 'TaxaFishNumber'}>]], dtype=object)"
      ]
     },
     "execution_count": 68,
     "metadata": {},
     "output_type": "execute_result"
    },
    {
     "data": {
      "image/png": "[encoded data removed]",
      "text/plain": [
       "<Figure size 640x480 with 1 Axes>"
      ]
     },
     "metadata": {},
     "output_type": "display_data"
    }
   ],
   "source": [
    "cols = ['TaxaFishNumber'] \n",
    "df2 = df[(df[cols] > 0)]\n",
    "df2.hist(column='TaxaFishNumber')"
   ]
  },
  {
   "cell_type": "code",
   "execution_count": 69,
   "id": "7abf4390-6c0e-4649-bfcb-4b46b22e5481",
   "metadata": {},
   "outputs": [
    {
     "data": {
      "text/plain": [
       "array([[<Axes: title={'center': 'TotalLength_mm'}>]], dtype=object)"
      ]
     },
     "execution_count": 69,
     "metadata": {},
     "output_type": "execute_result"
    },
    {
     "data": {
      "image/png": "[encoded data removed]",
      "text/plain": [
       "<Figure size 640x480 with 1 Axes>"
      ]
     },
     "metadata": {},
     "output_type": "display_data"
    }
   ],
   "source": [
    "cols = ['TotalLength_mm'] \n",
    "df2 = df[(df[cols] > 0)]\n",
    "df2.hist(column='TotalLength_mm')"
   ]
  },
  {
   "cell_type": "code",
   "execution_count": 70,
   "id": "4a47ae54-92c3-4b5e-a8be-f97aff5f8d90",
   "metadata": {},
   "outputs": [
    {
     "data": {
      "text/plain": [
       "array([[<Axes: title={'center': 'Weight_g'}>]], dtype=object)"
      ]
     },
     "execution_count": 70,
     "metadata": {},
     "output_type": "execute_result"
    },
    {
     "data": {
      "image/png": "[encoded data removed]",
      "text/plain": [
       "<Figure size 640x480 with 1 Axes>"
      ]
     },
     "metadata": {},
     "output_type": "display_data"
    }
   ],
   "source": [
    "cols = ['Weight_g'] \n",
    "df2 = df[(df[cols] > 0)]\n",
    "df2.hist(column='Weight_g')"
   ]
  },
  {
   "cell_type": "code",
   "execution_count": 71,
   "id": "abd5f11b-9490-42cc-8381-bc5f2f386a0a",
   "metadata": {},
   "outputs": [
    {
     "data": {
      "text/plain": [
       "['B', 'D', 'E', 'L', 'M', 'N', 'T']"
      ]
     },
     "execution_count": 71,
     "metadata": {},
     "output_type": "execute_result"
    }
   ],
   "source": [
    "sorted(df['AnomalyID'].unique())"
   ]
  },
  {
   "cell_type": "code",
   "execution_count": 73,
   "id": "2f5f9d3c-8d45-4a38-be93-22793564a043",
   "metadata": {},
   "outputs": [
    {
     "data": {
      "text/plain": [
       "[np.int64(-1), np.int64(0)]"
      ]
     },
     "execution_count": 73,
     "metadata": {},
     "output_type": "execute_result"
    }
   ],
   "source": [
    "sorted(df['Vouchered'].unique())"
   ]
  },
  {
   "cell_type": "code",
   "execution_count": 74,
   "id": "fb43a6a4-01c9-4eda-bcb7-d670c1a029a3",
   "metadata": {},
   "outputs": [
    {
     "data": {
      "text/plain": [
       "array([[<Axes: title={'center': 'NumObs'}>]], dtype=object)"
      ]
     },
     "execution_count": 74,
     "metadata": {},
     "output_type": "execute_result"
    },
    {
     "data": {
      "image/png": "[encoded data removed]",
      "text/plain": [
       "<Figure size 640x480 with 1 Axes>"
      ]
     },
     "metadata": {},
     "output_type": "display_data"
    }
   ],
   "source": [
    "cols = ['NumObs'] \n",
    "df2 = df[(df[cols] > 1) & (df[cols] <= 150)]\n",
    "# Note that this is > 1. Most samples = 1\n",
    "df2.hist(column='NumObs')"
   ]
  },
  {
   "cell_type": "code",
   "execution_count": 75,
   "id": "bab2f06d-7010-4005-a800-222a11f46688",
   "metadata": {},
   "outputs": [
    {
     "data": {
      "text/plain": [
       "[np.int64(0),\n",
       " np.int64(1),\n",
       " np.int64(2),\n",
       " np.int64(3),\n",
       " np.int64(4),\n",
       " np.int64(5),\n",
       " np.int64(6),\n",
       " np.int64(7)]"
      ]
     },
     "execution_count": 75,
     "metadata": {},
     "output_type": "execute_result"
    }
   ],
   "source": [
    "sorted(df['BatchID'].unique())"
   ]
  },
  {
   "cell_type": "code",
   "execution_count": 77,
   "id": "e6ea16ac-e394-4775-814d-aa8f0e418b4d",
   "metadata": {},
   "outputs": [
    {
     "data": {
      "text/plain": [
       "array([[<Axes: title={'center': 'BatchWT_g'}>]], dtype=object)"
      ]
     },
     "execution_count": 77,
     "metadata": {},
     "output_type": "execute_result"
    },
    {
     "data": {
      "image/png": "[encoded data removed]",
      "text/plain": [
       "<Figure size 640x480 with 1 Axes>"
      ]
     },
     "metadata": {},
     "output_type": "display_data"
    }
   ],
   "source": [
    "cols = ['BatchWT_g'] \n",
    "#df2 = df[(df[cols] > 1) & (df[cols] <= 150)]\n",
    "df2 = df[(df[cols] > 0)]\n",
    "df2.hist(column='BatchWT_g')"
   ]
  },
  {
   "cell_type": "code",
   "execution_count": 78,
   "id": "d4073344-59fa-4bf8-9623-f89ab3f6da04",
   "metadata": {},
   "outputs": [
    {
     "data": {
      "text/plain": [
       "['*15 channel catfish collected for USGS Hg study',\n",
       " '1 had Anchor Worms',\n",
       " '29 fathead minnows were counted and batch weighed',\n",
       " 'Also had Blackspot',\n",
       " 'Also had Lesions',\n",
       " 'Also has Blackspot',\n",
       " 'Also has a Lesion',\n",
       " 'Anchor Worms',\n",
       " 'Batch 2 no weight recorded',\n",
       " \"Didn't survive, Alex (ISU Grad Student) vouchered\",\n",
       " 'In Ref. Collection',\n",
       " 'In reference collection',\n",
       " 'Missing weight',\n",
       " 'NW',\n",
       " 'NW In Ref. Collection',\n",
       " 'Nematode',\n",
       " 'No Weight',\n",
       " 'No Weight In Reference Collection',\n",
       " 'No Weight due to low batterey on scales',\n",
       " 'No Weight due to low battery on scales',\n",
       " 'No Weight for this batch',\n",
       " 'No batch weight recorded',\n",
       " 'No fish collected',\n",
       " 'No weight',\n",
       " 'No weight batch 1',\n",
       " 'No weight batch 2',\n",
       " 'No weight batch 3',\n",
       " 'No weight batch one',\n",
       " 'No weight for batch 1',\n",
       " 'Plains Darter',\n",
       " 'Reference Collection',\n",
       " 'Reference Collection.',\n",
       " 'This batch had NW',\n",
       " \"Weight didn't register\",\n",
       " 'blackspot',\n",
       " 'damaged caudal fin',\n",
       " 'dropped',\n",
       " 'dropped in water',\n",
       " 'dropped no wt',\n",
       " 'flipped out of measuring board',\n",
       " 'fungus, no weight',\n",
       " 'in Reference Collection',\n",
       " 'in reference collection',\n",
       " 'lost',\n",
       " 'lost during processing <25 mm',\n",
       " 'missing eye',\n",
       " 'missing part of opercle',\n",
       " 'nan',\n",
       " 'no TL or WT taken',\n",
       " 'no batch weight recorded',\n",
       " 'no fish collected at this site',\n",
       " 'no individual length or weight recorded',\n",
       " 'no individual weight',\n",
       " 'no individual weight recorded',\n",
       " 'no weight',\n",
       " 'no weight for batch',\n",
       " 'no weight on batch',\n",
       " 'no weight recorded',\n",
       " 'no weight taken',\n",
       " 'no weight was measured',\n",
       " 'no wt',\n",
       " 'nw',\n",
       " 'parasite',\n",
       " 'picture, no weight',\n",
       " 'preserved specimens not Ided due to decomposition',\n",
       " 'scar',\n",
       " 'tumor as well as blackspot',\n",
       " \"weight didn't register\",\n",
       " 'worm']"
      ]
     },
     "execution_count": 78,
     "metadata": {},
     "output_type": "execute_result"
    }
   ],
   "source": [
    "df[\"Comments\"] = df[\"Comments\"].astype(str)\n",
    "sorted(df['Comments'].unique())"
   ]
  }
 ],
 "metadata": {
  "kernelspec": {
   "display_name": "Python 3 (ipykernel)",
   "language": "python",
   "name": "python3"
  },
  "language_info": {
   "codemirror_mode": {
    "name": "ipython",
    "version": 3
   },
   "file_extension": ".py",
   "mimetype": "text/x-python",
   "name": "python",
   "nbconvert_exporter": "python",
   "pygments_lexer": "ipython3",
   "version": "3.10.15"
  }
 },
 "nbformat": 4,
 "nbformat_minor": 5
}
