{
 "cells": [
  {
   "cell_type": "code",
   "execution_count": 2,
   "id": "b72034c7-cb39-4e64-92d6-9aa5ef494d9a",
   "metadata": {},
   "outputs": [],
   "source": [
    "import pandas as pd\n",
    "import matplotlib.pyplot as plt"
   ]
  },
  {
   "cell_type": "code",
   "execution_count": 3,
   "id": "be6ded30-4f9f-41f7-b479-bd060e4b7194",
   "metadata": {},
   "outputs": [
    {
     "name": "stdout",
     "output_type": "stream",
     "text": [
      "   Season         LocationID              EventID WeatherComments  \\\n",
      "0    2001  PIPEShiner01above  PIPEShiner2001Sep12     clear-sunny   \n",
      "1    2001  PIPEShiner01lower  PIPEShiner2001Sep11     clear-sunny   \n",
      "2    2001  PIPEShiner01middl  PIPEShiner2001Sep11     clear-sunny   \n",
      "3    2001  PIPEShiner01upper  PIPEShiner2001Sep11     clear-sunny   \n",
      "4    2001  TAPRShiner01lower  TAPRShiner2001Aug31     clear-sunny   \n",
      "\n",
      "     SH_StreamFlow_Description  SH_Springs_Present  \\\n",
      "0  moderate flow between pools                   0   \n",
      "1  moderate flow between pools                   0   \n",
      "2  moderate flow between pools                   0   \n",
      "3  moderate flow between pools                   0   \n",
      "4        trickle between pools                   0   \n",
      "\n",
      "                                  AdditionalComments  \n",
      "0  Sand shiners had red and black paracites ( mos...  \n",
      "1  Streambank is dominated by Reed Canary Grass. ...  \n",
      "2  Northern Pike 0.6 M in length.  Large boulders...  \n",
      "3                                                NaN  \n",
      "4              Pool 4 too large to seine efficiently  \n"
     ]
    }
   ],
   "source": [
    "path = r\"C:\\Users\\GRowell\\fish-data\\raw_data\\HTLN_Fish_ReachConditions_SE.csv\"\n",
    "df = pd.read_csv(path)\n",
    "print(df.head())"
   ]
  },
  {
   "cell_type": "code",
   "execution_count": 4,
   "id": "60b00748-e1e6-454d-b762-4ae5fa3ee2c0",
   "metadata": {},
   "outputs": [
    {
     "data": {
      "text/plain": [
       "Season                        int64\n",
       "LocationID                   object\n",
       "EventID                      object\n",
       "WeatherComments              object\n",
       "SH_StreamFlow_Description    object\n",
       "SH_Springs_Present            int64\n",
       "AdditionalComments           object\n",
       "dtype: object"
      ]
     },
     "execution_count": 4,
     "metadata": {},
     "output_type": "execute_result"
    }
   ],
   "source": [
    "df.dtypes"
   ]
  },
  {
   "cell_type": "code",
   "execution_count": 5,
   "id": "8774df89-f995-4d96-96c7-17b778c06d1a",
   "metadata": {},
   "outputs": [
    {
     "data": {
      "text/plain": [
       "['HOMEShiner01lower',\n",
       " 'HOMEShiner01upper',\n",
       " 'PIPEShiner01above',\n",
       " 'PIPEShiner01lower',\n",
       " 'PIPEShiner01middl',\n",
       " 'PIPEShiner01upper',\n",
       " 'TAPRShiner01lower',\n",
       " 'TAPRShiner01middl',\n",
       " 'TAPRShiner01upper',\n",
       " 'TAPRShiner02lower',\n",
       " 'TAPRShiner02middl',\n",
       " 'TAPRShiner04middl',\n",
       " 'TAPRShiner05middl',\n",
       " 'TAPRShiner10middl',\n",
       " 'TAPRShiner10upper',\n",
       " 'TAPRShiner12middl',\n",
       " 'TAPRShiner17lower',\n",
       " 'TAPRShiner17upper',\n",
       " 'TAPRShiner18middl',\n",
       " 'TAPRShiner22lower',\n",
       " 'TAPRShiner22ltupp',\n",
       " 'TAPRShiner22rtupp',\n",
       " 'TAPRShiner23middl',\n",
       " 'TAPRShiner24lower',\n",
       " 'TAPRShiner24middl',\n",
       " 'TAPRShiner34lower',\n",
       " 'TAPRShiner35lower',\n",
       " 'TAPRShiner36middl',\n",
       " 'TAPRShiner36upper']"
      ]
     },
     "execution_count": 5,
     "metadata": {},
     "output_type": "execute_result"
    }
   ],
   "source": [
    "sorted(df[\"LocationID\"].unique())"
   ]
  },
  {
   "cell_type": "code",
   "execution_count": 6,
   "id": "424fbdd5-11dc-4b0d-a4a5-caafe3951c16",
   "metadata": {},
   "outputs": [
    {
     "data": {
      "text/plain": [
       "['HOMEShiner2004Sep13',\n",
       " 'HOMEShiner2006Aug31',\n",
       " 'HOMEShiner2008Aug27',\n",
       " 'HOMEShiner2011Sep20',\n",
       " 'HOMEShiner2015Sep03',\n",
       " 'HOMEShiner2017Sep07',\n",
       " 'HOMEShiner2023Sep07',\n",
       " 'PIPEShiner2001Sep11',\n",
       " 'PIPEShiner2001Sep12',\n",
       " 'PIPEShiner2002Sep17',\n",
       " 'PIPEShiner2003Sep04',\n",
       " 'PIPEShiner2004Sep16',\n",
       " 'PIPEShiner2005Sep20',\n",
       " 'PIPEShiner2006Aug29',\n",
       " 'PIPEShiner2006Aug30',\n",
       " 'PIPEShiner2007Aug28',\n",
       " 'PIPEShiner2008Aug26',\n",
       " 'PIPEShiner2009Aug25',\n",
       " 'PIPEShiner2010Aug31',\n",
       " 'PIPEShiner2011Aug31',\n",
       " 'PIPEShiner2012Aug22',\n",
       " 'PIPEShiner2013Sep13',\n",
       " 'PIPEShiner2013Sep14',\n",
       " 'PIPEShiner2015Sep12',\n",
       " 'PIPEShiner2016Sep10',\n",
       " 'PIPEShiner2021Aug26',\n",
       " 'PIPEShiner2022Aug18',\n",
       " 'PIPEShiner2023Aug29',\n",
       " 'PIPEShiner2024Aug20',\n",
       " 'TAPRShiner2001Aug28',\n",
       " 'TAPRShiner2001Aug29',\n",
       " 'TAPRShiner2001Aug30',\n",
       " 'TAPRShiner2001Aug31',\n",
       " 'TAPRShiner2001Oct09',\n",
       " 'TAPRShiner2001Oct10',\n",
       " 'TAPRShiner2001Oct11',\n",
       " 'TAPRShiner2001Oct12',\n",
       " 'TAPRShiner2001Oct13',\n",
       " 'TAPRShiner2002Oct01',\n",
       " 'TAPRShiner2002Oct02',\n",
       " 'TAPRShiner2002Oct03',\n",
       " 'TAPRShiner2002Oct04',\n",
       " 'TAPRShiner2002Oct05',\n",
       " 'TAPRShiner2003Oct06',\n",
       " 'TAPRShiner2003Oct07',\n",
       " 'TAPRShiner2003Oct08',\n",
       " 'TAPRShiner2003Oct09',\n",
       " 'TAPRShiner2004Oct04',\n",
       " 'TAPRShiner2004Oct05',\n",
       " 'TAPRShiner2004Oct06',\n",
       " 'TAPRShiner2004Oct07',\n",
       " 'TAPRShiner2005Oct03',\n",
       " 'TAPRShiner2005Oct04',\n",
       " 'TAPRShiner2005Oct05',\n",
       " 'TAPRShiner2006Sep18',\n",
       " 'TAPRShiner2006Sep19',\n",
       " 'TAPRShiner2006Sep20',\n",
       " 'TAPRShiner2007Sep09',\n",
       " 'TAPRShiner2007Sep10',\n",
       " 'TAPRShiner2007Sep11',\n",
       " 'TAPRShiner2007Sep12',\n",
       " 'TAPRShiner2007Sep13',\n",
       " 'TAPRShiner2008Sep07',\n",
       " 'TAPRShiner2008Sep08',\n",
       " 'TAPRShiner2008Sep09',\n",
       " 'TAPRShiner2008Sep10',\n",
       " 'TAPRShiner2009Sep08',\n",
       " 'TAPRShiner2009Sep09',\n",
       " 'TAPRShiner2009Sep10',\n",
       " 'TAPRShiner2009Sep11',\n",
       " 'TAPRShiner2010Sep07',\n",
       " 'TAPRShiner2010Sep08',\n",
       " 'TAPRShiner2013Sep18',\n",
       " 'TAPRShiner2013Sep19',\n",
       " 'TAPRShiner2014Sep09',\n",
       " 'TAPRShiner2014Sep10',\n",
       " 'TAPRShiner2015Aug30',\n",
       " 'TAPRShiner2015Aug31',\n",
       " 'TAPRShiner2015Sep01',\n",
       " 'TAPRShiner2015Sep02',\n",
       " 'TAPRShiner2016Sep01',\n",
       " 'TAPRShiner2016Sep02',\n",
       " 'TAPRShiner2017Sep05',\n",
       " 'TAPRShiner2017Sep06',\n",
       " 'TAPRShiner2018Sep04',\n",
       " 'TAPRShiner2018Sep05',\n",
       " 'TAPRShiner2018Sep06',\n",
       " 'TAPRShiner2018Sep07',\n",
       " 'TAPRShiner2019Sep10',\n",
       " 'TAPRShiner2019Sep11',\n",
       " 'TAPRShiner2021Sep07',\n",
       " 'TAPRShiner2021Sep08',\n",
       " 'TAPRShiner2021Sep09',\n",
       " 'TAPRShiner2021Sep10',\n",
       " 'TAPRShiner2022Aug16',\n",
       " 'TAPRShiner2022Aug17',\n",
       " 'TAPRShiner2024Aug12',\n",
       " 'TAPRShiner2024Aug13',\n",
       " 'TAPRShiner2024Aug14',\n",
       " 'TAPRShiner2024Aug15',\n",
       " 'TAPRShiner2024Aug16']"
      ]
     },
     "execution_count": 6,
     "metadata": {},
     "output_type": "execute_result"
    }
   ],
   "source": [
    "sorted(df['EventID'].unique())"
   ]
  },
  {
   "cell_type": "code",
   "execution_count": 8,
   "id": "acf19e0e-7bc0-4b92-b6a0-785c25edaf0c",
   "metadata": {},
   "outputs": [
    {
     "data": {
      "text/plain": [
       "['clear-sunny', 'cloudy', 'partly cloudy', 'raining']"
      ]
     },
     "execution_count": 8,
     "metadata": {},
     "output_type": "execute_result"
    }
   ],
   "source": [
    "df[\"WeatherComments\"] = df[\"WeatherComments\"].astype(str)\n",
    "sorted(df['WeatherComments'].unique()) "
   ]
  },
  {
   "cell_type": "code",
   "execution_count": 10,
   "id": "8497424b-b484-46ce-a6b6-d7241a9e5cad",
   "metadata": {},
   "outputs": [
    {
     "data": {
      "text/plain": [
       "['Unknown',\n",
       " 'flow between pools',\n",
       " 'high flow',\n",
       " 'isolated pools',\n",
       " 'moderate flow between pools',\n",
       " 'trickle between pools']"
      ]
     },
     "execution_count": 10,
     "metadata": {},
     "output_type": "execute_result"
    }
   ],
   "source": [
    "df[\"SH_StreamFlow_Description\"] = df[\"SH_StreamFlow_Description\"].astype(str)\n",
    "sorted(df['SH_StreamFlow_Description'].unique()) "
   ]
  },
  {
   "cell_type": "code",
   "execution_count": 11,
   "id": "ab2c8f7b-fdf7-40db-a207-dd2b957b07bb",
   "metadata": {},
   "outputs": [
    {
     "data": {
      "text/plain": [
       "[np.int64(-1), np.int64(0)]"
      ]
     },
     "execution_count": 11,
     "metadata": {},
     "output_type": "execute_result"
    }
   ],
   "source": [
    "sorted(df['SH_Springs_Present'].unique())"
   ]
  },
  {
   "cell_type": "code",
   "execution_count": 12,
   "id": "0e5c218f-c66e-40d6-94e3-e724c3c2700a",
   "metadata": {},
   "outputs": [
    {
     "data": {
      "text/plain": [
       "['4, 5 scenic pictures 22, 5 upper left.',\n",
       " 'A lot of filamentous algae present. Difficult to get fish out tof seine and into the bucket',\n",
       " 'All water in stream suspected to be drainage from pond',\n",
       " 'Aquatic veg at site 2 - had to seine around veg',\n",
       " 'Bluff on river left at sites 1 and 2',\n",
       " \"Couldn't get a GPS reading for pool 2.  Caught 38 cm northern pike in pool 2.\",\n",
       " 'DLM - Darin, APB = Alex Bybel, NTS = Nick Simpson (IOWA STATE)',\n",
       " 'Digital Images--picture of what looks like M Topeka Shiner; #1 &#2-big one may be Sand Shiner; #3 &#4 have orange fins and are female',\n",
       " 'High water levels this spring and early summer. Some side channels still had flowing water. No Topeka shiners caught during seining. Used electrofishing on site #3 (pool) and site #5 (run) to collect',\n",
       " 'In pool 1 all fish were dead when the seine was pulled up.',\n",
       " 'Lake appears lower than last year.  Northern pike escaped during siening in pool 5.',\n",
       " 'Lots of large crayfish.',\n",
       " 'Ludwigia repeis; eleocharis, veronica; Zarrichela palustris present',\n",
       " 'Middle site 2;  GPS data was collected 12 feet sw of stream; Middle site 3; 5 feet N of creek;  Middle 2B IGNORE!  Two runs with sein in pool 3',\n",
       " 'Most of the grasses are non-native, right bank maybe recorded as a category 4 habitat.',\n",
       " 'Mostly crayfish in samples;  Could tell water was up in previous weeks due to ~14 inches rain but likely dry prior to the heavy rain.',\n",
       " 'Mostly crayfish in samples;  Rained ~14 inches in previous 3 weeks but likely dry previous to that.',\n",
       " 'No fish at site 1 & 2. Stream was dry a few weeks before sampling.',\n",
       " 'Northern Pike 0.6 M in length.  Large boulders and cobble prevented from effective sampling',\n",
       " 'Northern pike was pools 2 and 3.',\n",
       " 'Nothing found in pools 2 and 4',\n",
       " 'Only sampled 3 sites. Water low. Only fish counts collected',\n",
       " 'Picture #3 Creek Chub',\n",
       " 'Picture #5 Topeka Shiner',\n",
       " 'Picture 12 orangethroat Darter; 13 Cardinal Shiner.',\n",
       " 'Picture 24 Fathead minnow',\n",
       " 'Picture 5-8 of Topeka Shiner 35 mm camera; Kate.  Picture 9 Black Bullhead; 10 White Sucker; 11 Green Sunfish; 12 sampling; 13,14 Male Topeka Shiner; 15 Sand Shiner; 16,17 Johnny Darter.',\n",
       " 'Picture 7 Green Sunfish; 8 Redfin Shiner',\n",
       " 'Pictures:  14 Topeka; 15 Golden Shiner',\n",
       " 'Pictures:  16 Brook Silverside; 17 Blackstripe topminnow; 18 Bluegill; 19 Spotted Sucker; 20 Golden Redhorse; 21 Golden Redhorse; 22 Mosquitofish; 23 Largemouth Bass.',\n",
       " 'Pictures:  7, 8 Golden Redhorse; 9, 10 Longear Sunfish;  11 Orangespotted Sunfish',\n",
       " 'Pictures:  Bluntnose Minnow 24;  ROLL 2 -- Picture 1 Meadow; 2 central stoneroller',\n",
       " 'Pictures: 19,20 Green Sunfish;  21,22 Black Bullhead;  23 Common Shiner;  24,25 Johnny Darter;  1,2 Bluntnose Minnow;  3,4 Blacknose Dace;  Down Stream GPS recorded points upstream to downstream (8.8',\n",
       " 'Plunge pool for the road culvert',\n",
       " 'Pool 1 net was not deep enough.  Pool was seined 3 times.  Scour pool adjacent to road.  Pool 2 seined before gabitat measures could be taken.',\n",
       " 'Pool 1 was to deep to seine effectively.',\n",
       " 'Pool 1,2,3:  streambank with lots of Astr. Canadensis, some trees Spart pec. Pool 4:  same as 1,2,3 but no trees.  Pool 5 same as 1,2,3 but only had one tree.',\n",
       " 'Pool 1:  sampling effort was minimal because of large cobble getting caught up in net.  Pool 2:  only seined 10 m of 30m of pool area.  Pool 4:  only seined 10 m of 20 m of pool area.',\n",
       " 'Pool 1: 2 seine hauls, first with no fish, second only ran 5-7 M.  Polls 2 and 3 had 2 seine runs.  Pool 5 had to go around veg(nut rushes, grass) in pool.',\n",
       " 'Pool 2 contained aquatic microphyte',\n",
       " 'Pool 2 snaged bottom, ran twice.  Pool 3 nothing found',\n",
       " 'Pool 2:  cardinal shiners have parasites.',\n",
       " 'Pool 2:  seined twice b/c first time resulted in few fish.  Pool 4:  had a lot of macrophytes in water (tubular) only seined 20 or 30 M of pool.',\n",
       " 'Pool 4 -- 2 seine runs due to poor yield',\n",
       " 'Pool 4 is the plunge pool for the road culvert',\n",
       " 'Pool 4 too large to seine efficiently',\n",
       " 'Pool 4:  covered with algae.',\n",
       " 'Pool 4:  pool as deep as waders +; went slow for this reason, fish could have went beside us.  DO meter got accidently turned off after pool 4 (calibration could be off)',\n",
       " 'Pool 4:  saw a lot more fish, rocks made seining difficult.  Pool 5:  2 seine runs--First run caught fish but they escaped',\n",
       " 'Pool 5 unknown algae collected',\n",
       " 'Pool had aquatic vegetation in center of channel making it difficult to get fish out of seine',\n",
       " 'Pools 1 and to a lesser degree 2--quite a bit of macrophytes (coon-tail) Pool 4 tree down obstructing pool, hung up on rocks.',\n",
       " 'Post rainstorm ~2 inches between 5:30-7:30',\n",
       " 'Quit raining half way through sampling',\n",
       " 'Rained 2 hours before sampling. Water levels rose ~ 6 inches from previous day. Water turbid - could not see stream bottom. Also cloudy.',\n",
       " 'Rained day before; Fox creek up about 1 foot from previous 2 days when data sonde was deployed Water very turbid. Could only sample ~2/3 of pools and run',\n",
       " 'Rained in the morning. About ~1 1/2 inches; stream up ~6 inches and turbid.',\n",
       " 'Rained last week and again this morning/afternoon.',\n",
       " 'Rained late previous week and this morning/afternoon.',\n",
       " 'Rained previous afternoon, water came up and was flowing heavy; water was out of banks but receded by day of sampling',\n",
       " 'Rained ~ 1.34 inches previous evening; water level up about 1/2 foot and turbid - about 5-6 inch visibility. NO FISH COLLECTED AT SITE 2',\n",
       " 'Rained ~ 1.34 inches previous evening; water up about 1/2 foot and turbid ~ 5-6 inch visibility',\n",
       " 'Rained ~ 5 inches 4 days before sampling this reach. Water levels low prior to rain. Could not get 5 sites for sampling.',\n",
       " 'Rained ~ 5 inches 4 days before sampling. Water was very low prior to sampling. Only took count data for fish.',\n",
       " 'Rained ~ 5 inches 5 days before sampling reach. Only took count data for fish.',\n",
       " 'Rained ~ 5 inches 5 days before sampling. Water levels low prior to rain. Only took count data for fish',\n",
       " 'Rained ~ 5 inches 5 days prior to sampling reach. Could not get 5 sites sampled.',\n",
       " 'Rained ~2 inches morning of sampling',\n",
       " 'Rained ~2 inches the morning of sampling.',\n",
       " 'Riparian corridor #9 = pond',\n",
       " 'Sand shiners had red and black paracites ( most every fish)',\n",
       " 'Saw several minnows but low catch in seine.',\n",
       " 'Signs of beaver dam within reach.',\n",
       " 'Site #2 had no fish',\n",
       " 'Site 1 left bank - parking lot; Site 3 preserved fish could not be Ided due to decomposition of specimens',\n",
       " 'Site 1 within channelized section',\n",
       " 'Started raining half way through sampling.',\n",
       " 'Stream low, rained ~ 5 inches 3 days prior to sampling; suspect water levels were much lower. Only sampled 4 sites in reach - not enough water for 5 sites',\n",
       " 'Streambank is dominated by Reed Canary Grass.  Large boulders and cobble prevented from effective sampling.',\n",
       " 'The weather was also raining.',\n",
       " 'There is not a pool 5.',\n",
       " 'There were no measurements for pool 5',\n",
       " 'Very low water levels',\n",
       " 'Very mucky and difficult to seine.',\n",
       " 'Water levels low; sampling effective.',\n",
       " 'Water levels low; water moderately turbid.  For sites 3 and 4 riparian cover right bank was bare bank.',\n",
       " 'Water levels very low, lots of filamentous algae, No fish collecected at sites',\n",
       " 'Water levels very low; a lot of aquatic vegetation and algae; for site 3-only seined half of pool due to large log jam.',\n",
       " 'Watercress',\n",
       " 'Watercress, Zannichelia?, Ludwigia, veronica',\n",
       " 'left',\n",
       " 'mussel valves; ludwigia spp. and filamentous algae  in pool #3, large snapping turtle in pool #3, and Zannichelia or Potomogeton foliousus in pool #3',\n",
       " 'nan',\n",
       " 'no fish collected at all 3 sites',\n",
       " 'no fish collected at site one',\n",
       " 'no stream flow data collected',\n",
       " 'only 4 pools',\n",
       " 'only four sites sampled',\n",
       " 'only sampled three sites',\n",
       " 'pictures taken by SDSU students and faculty',\n",
       " 'pool 1 - a lot of vegetation in the stream',\n",
       " 'pool 1 nothing',\n",
       " 'right',\n",
       " 'sampling very effective at site 1 due to soft sediment; difficult to seine run habitat due to large cobble',\n",
       " 'site 4 difficult to sample due to overhanging vegetation',\n",
       " 'very turbid conditions - could not electrofhish; some stream bank erosion evident but not severe; channel incised',\n",
       " 'very windy; difficult to get velocity; site 3 difficult due to debris and boulders',\n",
       " 'water levels low',\n",
       " 'water levels very low',\n",
       " 'watercress, myriophyllum spicatum - large beds, Sagattaria filamentous grenn algae- lots.  Callitriche heterophylla, eleocharis spp (marginal habitat)',\n",
       " 'watercrss; eleocharis, samolus parviflorus present']"
      ]
     },
     "execution_count": 12,
     "metadata": {},
     "output_type": "execute_result"
    }
   ],
   "source": [
    "df[\"AdditionalComments\"] = df[\"AdditionalComments\"].astype(str)\n",
    "sorted(df['AdditionalComments'].unique()) "
   ]
  }
 ],
 "metadata": {
  "kernelspec": {
   "display_name": "Python 3 (ipykernel)",
   "language": "python",
   "name": "python3"
  },
  "language_info": {
   "codemirror_mode": {
    "name": "ipython",
    "version": 3
   },
   "file_extension": ".py",
   "mimetype": "text/x-python",
   "name": "python",
   "nbconvert_exporter": "python",
   "pygments_lexer": "ipython3",
   "version": "3.10.15"
  }
 },
 "nbformat": 4,
 "nbformat_minor": 5
}
