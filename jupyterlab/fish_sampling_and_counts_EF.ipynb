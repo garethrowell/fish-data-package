{
 "cells": [
  {
   "cell_type": "code",
   "execution_count": 1,
   "id": "b72034c7-cb39-4e64-92d6-9aa5ef494d9a",
   "metadata": {},
   "outputs": [],
   "source": [
    "import pandas as pd\n",
    "import matplotlib.pyplot as plt"
   ]
  },
  {
   "cell_type": "code",
   "execution_count": 56,
   "id": "be6ded30-4f9f-41f7-b479-bd060e4b7194",
   "metadata": {},
   "outputs": [
    {
     "name": "stdout",
     "output_type": "stream",
     "text": [
      "   Season      LocationID              EventID SamplingGear     ChannelType  \\\n",
      "0    2006  BUFFRMFISHBM01  BUFFRMFISH2006MAY23     backpack  backwater_side   \n",
      "1    2006  BUFFRMFISHBM01  BUFFRMFISH2006MAY23     backpack  backwater_side   \n",
      "2    2006  BUFFRMFISHBM01  BUFFRMFISH2006MAY23     backpack  backwater_side   \n",
      "3    2006  BUFFRMFISHBM01  BUFFRMFISH2006MAY23     backpack  backwater_side   \n",
      "4    2006  BUFFRMFISHBM01  BUFFRMFISH2006MAY23     backpack  backwater_side   \n",
      "\n",
      "   SamplingEffort_sec  NoSeineHauls  SeineReachLength_m  ReachLength_m  \\\n",
      "0                1227          -999                -999            290   \n",
      "1                1227          -999                -999            290   \n",
      "2                1227          -999                -999            290   \n",
      "3                1227          -999                -999            290   \n",
      "4                1227          -999                -999            290   \n",
      "\n",
      "   StreamWatershedArea_sqkm  ... Weight_g AnomalyID Vouchered NumObs BatchID  \\\n",
      "0                     238.0  ...      NaN         N         0     36       0   \n",
      "1                     238.0  ...      NaN         N        -1      8       0   \n",
      "2                     238.0  ...      NaN         N         0      1       1   \n",
      "3                     238.0  ...      NaN         N         0      1       1   \n",
      "4                     238.0  ...      NaN         N         0      1       1   \n",
      "\n",
      "   BatchWT_g   Comments  FlaggedData_YN OpsReviewFlaggedData_Comment  ParkCode  \n",
      "0        NaN        NaN           False                          NaN      BUFF  \n",
      "1        NaN  Preserved           False                          NaN      BUFF  \n",
      "2        NaN        NaN           False                          NaN      BUFF  \n",
      "3        NaN        NaN           False                          NaN      BUFF  \n",
      "4        NaN        NaN           False                          NaN      BUFF  \n",
      "\n",
      "[5 rows x 27 columns]\n"
     ]
    },
    {
     "name": "stderr",
     "output_type": "stream",
     "text": [
      "C:\\Users\\GRowell\\AppData\\Local\\Temp\\1\\ipykernel_27276\\719790137.py:2: DtypeWarning: Columns (25) have mixed types. Specify dtype option on import or set low_memory=False.\n",
      "  df = pd.read_csv(path)\n"
     ]
    }
   ],
   "source": [
    "path = r\"C:\\Users\\GRowell\\fish-data\\csvs\\HTLN_FishSamplingandCounts_EF.csv\"\n",
    "df = pd.read_csv(path)\n",
    "print(df.head())"
   ]
  },
  {
   "cell_type": "code",
   "execution_count": 57,
   "id": "60b00748-e1e6-454d-b762-4ae5fa3ee2c0",
   "metadata": {},
   "outputs": [
    {
     "data": {
      "text/plain": [
       "Season                            int64\n",
       "LocationID                       object\n",
       "EventID                          object\n",
       "SamplingGear                     object\n",
       "ChannelType                      object\n",
       "SamplingEffort_sec                int64\n",
       "NoSeineHauls                      int64\n",
       "SeineReachLength_m                int64\n",
       "ReachLength_m                     int64\n",
       "StreamWatershedArea_sqkm        float64\n",
       "CommonName                       object\n",
       "ScientificName                   object\n",
       "FederalProtectionStatusCode      object\n",
       "IMD_LevelOfProtection            object\n",
       "TaxonCode                        object\n",
       "TaxaFishNumber                    int64\n",
       "TotalLength_mm                  float64\n",
       "Weight_g                        float64\n",
       "AnomalyID                        object\n",
       "Vouchered                         int64\n",
       "NumObs                            int64\n",
       "BatchID                           int64\n",
       "BatchWT_g                       float64\n",
       "Comments                         object\n",
       "FlaggedData_YN                     bool\n",
       "OpsReviewFlaggedData_Comment     object\n",
       "ParkCode                         object\n",
       "dtype: object"
      ]
     },
     "execution_count": 57,
     "metadata": {},
     "output_type": "execute_result"
    }
   ],
   "source": [
    "df.dtypes"
   ]
  },
  {
   "cell_type": "code",
   "execution_count": 58,
   "id": "cbdc8492-2f84-42de-91f3-1c4d1d910d22",
   "metadata": {},
   "outputs": [
    {
     "data": {
      "text/plain": [
       "[np.int64(2005),\n",
       " np.int64(2006),\n",
       " np.int64(2007),\n",
       " np.int64(2008),\n",
       " np.int64(2009),\n",
       " np.int64(2010),\n",
       " np.int64(2011),\n",
       " np.int64(2012),\n",
       " np.int64(2013),\n",
       " np.int64(2014),\n",
       " np.int64(2015),\n",
       " np.int64(2016),\n",
       " np.int64(2017),\n",
       " np.int64(2018),\n",
       " np.int64(2019),\n",
       " np.int64(2021),\n",
       " np.int64(2022),\n",
       " np.int64(2023),\n",
       " np.int64(2024)]"
      ]
     },
     "execution_count": 58,
     "metadata": {},
     "output_type": "execute_result"
    }
   ],
   "source": [
    "sorted(df['Season'].unique())"
   ]
  },
  {
   "cell_type": "code",
   "execution_count": 59,
   "id": "f015a459-9dc7-4ee6-a40c-a47ff669a0f0",
   "metadata": {},
   "outputs": [
    {
     "data": {
      "text/plain": [
       "['BUFFRMFISHBM01',\n",
       " 'BUFFRMFISHBM02',\n",
       " 'BUFFRMFISHBM03',\n",
       " 'BUFFRMFISHBM04',\n",
       " 'BUFFRMFISHBM05',\n",
       " 'BUFFRMFISHBM06',\n",
       " 'BUFFRMFISHBT01',\n",
       " 'BUFFRMFISHBT03',\n",
       " 'BUFFRMFISHBT04',\n",
       " 'BUFFRMFISHBT05',\n",
       " 'BUFFRMFISHBT06',\n",
       " 'BUFFRMFISHBT07',\n",
       " 'BUFFRMFISHBT08',\n",
       " 'BUFFRMFISHBT09',\n",
       " 'BUFFRMFISHBT10',\n",
       " 'BUFFRMFISHBT11',\n",
       " 'BUFFRMFISHBT12',\n",
       " 'BUFFRMFISHBT13',\n",
       " 'BUFFRMFISHBT14',\n",
       " 'BUFFRMFISHBT15',\n",
       " 'BUFFRMFISHBT16',\n",
       " 'BUFFRMFISHBT17',\n",
       " 'BUFFRMFISHBT19',\n",
       " 'BUFFRMFISHBT20',\n",
       " 'BUFFRMFISHBT21',\n",
       " 'BUFFRMFISHBT22',\n",
       " 'BUFFRMFISHBT23',\n",
       " 'BUFFRMFISHBT24',\n",
       " 'BUFFRMFISHBT25',\n",
       " 'BUFFRMFISHBT27',\n",
       " 'BUFFRMFISHBT28',\n",
       " 'BUFFRMFISHBT29',\n",
       " 'BUFFRMFISHBT30',\n",
       " 'BUFFRMFISHBT31',\n",
       " 'BUFFRMFISHBT32',\n",
       " 'BUFFRMFISHBT33',\n",
       " 'EFMOStfish01',\n",
       " 'GWCAStfish01',\n",
       " 'GWCAStfish02',\n",
       " 'GWCAStfish03',\n",
       " 'HEHOStfish01',\n",
       " 'HOSPStfish01',\n",
       " 'HOSPStfish02',\n",
       " 'OZARRMFISHCM01',\n",
       " 'OZARRMFISHCM02',\n",
       " 'OZARRMFISHCM02_Shift',\n",
       " 'OZARRMFISHCM03',\n",
       " 'OZARRMFISHCM03_Shift',\n",
       " 'OZARRMFISHCM04',\n",
       " 'OZARRMFISHCM05',\n",
       " 'OZARRMFISHCM06',\n",
       " 'OZARRMFISHCM06_Shift',\n",
       " 'OZARRMFISHCT01',\n",
       " 'OZARRMFISHCT02',\n",
       " 'OZARRMFISHCT03',\n",
       " 'OZARRMFISHCT04',\n",
       " 'OZARRMFISHCT06',\n",
       " 'OZARRMFISHCT07',\n",
       " 'OZARRMFISHCT08',\n",
       " 'OZARRMFISHCT09',\n",
       " 'OZARRMFISHCT11',\n",
       " 'OZARRMFISHCT12',\n",
       " 'OZARRMFISHCT13',\n",
       " 'OZARRMFISHCT14',\n",
       " 'OZARRMFISHCT15',\n",
       " 'OZARRMFISHCT16',\n",
       " 'OZARRMFISHJM01',\n",
       " 'OZARRMFISHJM02',\n",
       " 'OZARRMFISHJM03',\n",
       " 'OZARRMFISHJM03_Shift',\n",
       " 'OZARRMFISHJT01',\n",
       " 'OZARRMFISHJT02',\n",
       " 'OZARRMFISHJT03',\n",
       " 'OZRSSPRNGSSITE01',\n",
       " 'OZRSSPRNGSSITE02',\n",
       " 'OZRSSPRNGSSITE03',\n",
       " 'OZRSSPRNGSSITE04',\n",
       " 'OZRSSPRNGSSITE05',\n",
       " 'OZRSSPRNGSSITE06',\n",
       " 'OZRSSPRNGSSITE07',\n",
       " 'PERIStfish01',\n",
       " 'WICRStfish01',\n",
       " 'WICRStfish02',\n",
       " 'WICRStfish03']"
      ]
     },
     "execution_count": 59,
     "metadata": {},
     "output_type": "execute_result"
    }
   ],
   "source": [
    "sorted(df['LocationID'].unique())"
   ]
  },
  {
   "cell_type": "code",
   "execution_count": 60,
   "id": "efbd30e6-13fa-455b-a596-2f0eb7164900",
   "metadata": {},
   "outputs": [
    {
     "data": {
      "text/plain": [
       "['BUFFRMFISH2006JUN01',\n",
       " 'BUFFRMFISH2006JUN02',\n",
       " 'BUFFRMFISH2006JUN05',\n",
       " 'BUFFRMFISH2006JUN06',\n",
       " 'BUFFRMFISH2006JUN12',\n",
       " 'BUFFRMFISH2006MAY22',\n",
       " 'BUFFRMFISH2006MAY23',\n",
       " 'BUFFRMFISH2006MAY24',\n",
       " 'BUFFRMFISH2006MAY25',\n",
       " 'BUFFRMFISH2006MAY30',\n",
       " 'BUFFRMFISH2017Jun01',\n",
       " 'BUFFRMFISH2017Jun02',\n",
       " 'BUFFRMFISH2017Jun13',\n",
       " 'BUFFRMFISH2017Jun14',\n",
       " 'BUFFRMFISH2017Jun15',\n",
       " 'BUFFRMFISH2017Jun21',\n",
       " 'BUFFRMFISH2017Jun22',\n",
       " 'BUFFRMFISH2017May24',\n",
       " 'BUFFRMFISH2017May25',\n",
       " 'BUFFRMFISH2017May30',\n",
       " 'BUFFRMFISH2017May31',\n",
       " 'BUFFRMFISH2019Jun05',\n",
       " 'BUFFRMFISH2019Jun06',\n",
       " 'BUFFRMFISH2019Jun12',\n",
       " 'BUFFRMFISH2019Jun14',\n",
       " 'BUFFRMFISH2019Jun17',\n",
       " 'BUFFRMFISH2019Jun18',\n",
       " 'BUFFRMFISH2019Jun19',\n",
       " 'BUFFRMFISH2019Jun20',\n",
       " 'BUFFRMFISH2019May22',\n",
       " 'BUFFRMFISH2019May23',\n",
       " 'BUFFRMFISH2019May24',\n",
       " 'BUFFRMFISH2019May28',\n",
       " 'BUFFRMFISH2021Jun09',\n",
       " 'BUFFRMFISH2021Jun10',\n",
       " 'BUFFRMFISH2021Jun11',\n",
       " 'BUFFRMFISH2021Jun16',\n",
       " 'BUFFRMFISH2021May17',\n",
       " 'BUFFRMFISH2021May18',\n",
       " 'BUFFRMFISH2021May24',\n",
       " 'BUFFRMFISH2023Jun01',\n",
       " 'BUFFRMFISH2023Jun02',\n",
       " 'BUFFRMFISH2023Jun06',\n",
       " 'BUFFRMFISH2023Jun07',\n",
       " 'BUFFRMFISH2023Jun14',\n",
       " 'BUFFRMFISH2023May23',\n",
       " 'BUFFRMFISH2023May24',\n",
       " 'BUFFRMFISH2023May25',\n",
       " 'BUFFRMFISH2023May26',\n",
       " 'BUFFRMFISH2023May30',\n",
       " 'BUFFRMFISH2023May31',\n",
       " 'BUFFRMFish2007Jun01',\n",
       " 'BUFFRMFish2007Jun04',\n",
       " 'BUFFRMFish2007Jun05',\n",
       " 'BUFFRMFish2007Jun06',\n",
       " 'BUFFRMFish2007Jun20',\n",
       " 'BUFFRMFish2007May21',\n",
       " 'BUFFRMFish2007May22',\n",
       " 'BUFFRMFish2007May23',\n",
       " 'BUFFRMFish2007May25',\n",
       " 'BUFFRMFish2007May29',\n",
       " 'BUFFRMFish2007May30',\n",
       " 'BUFFRMFish2007May31',\n",
       " 'BUFFRMFish2008Jun03',\n",
       " 'BUFFRMFish2008Jun04',\n",
       " 'BUFFRMFish2008Jun05',\n",
       " 'BUFFRMFish2008Jun18',\n",
       " 'BUFFRMFish2008May19',\n",
       " 'BUFFRMFish2008May20',\n",
       " 'BUFFRMFish2008May21',\n",
       " 'BUFFRMFish2008May22',\n",
       " 'BUFFRMFish2008May23',\n",
       " 'BUFFRMFish2008May27',\n",
       " 'BUFFRMFish2008May28',\n",
       " 'BUFFRMFish2009Jun03',\n",
       " 'BUFFRMFish2009Jun08',\n",
       " 'BUFFRMFish2009Jun09',\n",
       " 'BUFFRMFish2009Jun10',\n",
       " 'BUFFRMFish2009May19',\n",
       " 'BUFFRMFish2009May20',\n",
       " 'BUFFRMFish2009May21',\n",
       " 'BUFFRMFish2009May26',\n",
       " 'BUFFRMFish2009May27',\n",
       " 'BUFFRMFish2009May28',\n",
       " 'BUFFRMFish2010Jun01',\n",
       " 'BUFFRMFish2010Jun02',\n",
       " 'BUFFRMFish2010Jun03',\n",
       " 'BUFFRMFish2010Jun08',\n",
       " 'BUFFRMFish2010Jun09',\n",
       " 'BUFFRMFish2010Jun10',\n",
       " 'BUFFRMFish2010Jun11',\n",
       " 'BUFFRMFish2010Jun23',\n",
       " 'BUFFRMFish2010May17',\n",
       " 'BUFFRMFish2010May18',\n",
       " 'BUFFRMFish2010May26',\n",
       " 'BUFFRMFish2010May27',\n",
       " 'BUFFRMFish2012May21',\n",
       " 'BUFFRMFish2012May22',\n",
       " 'BUFFRMFish2013Jun06',\n",
       " 'BUFFRMFish2013Jun10',\n",
       " 'BUFFRMFish2013Jun11',\n",
       " 'BUFFRMFish2013Jun12',\n",
       " 'BUFFRMFish2013Jun17',\n",
       " 'BUFFRMFish2013Jun18',\n",
       " 'BUFFRMFish2013Jun19',\n",
       " 'BUFFRMFish2013May20',\n",
       " 'BUFFRMFish2013May21',\n",
       " 'BUFFRMFish2013May28',\n",
       " 'BUFFRMFish2013May29',\n",
       " 'BUFFrmfish2015Jul01',\n",
       " 'BUFFrmfish2015Jun03',\n",
       " 'BUFFrmfish2015Jun04',\n",
       " 'BUFFrmfish2015Jun05',\n",
       " 'BUFFrmfish2015Jun09',\n",
       " 'BUFFrmfish2015Jun10',\n",
       " 'BUFFrmfish2015Jun15',\n",
       " 'BUFFrmfish2015Jun30',\n",
       " 'BUFFrmfish2015May22',\n",
       " 'BUFFrmfish2015May28',\n",
       " 'BUFFrmfish2015May29',\n",
       " 'EFMOStfish2008Jul09',\n",
       " 'EFMOStfish2014Aug13',\n",
       " 'EFMOStfish2017Jul18',\n",
       " 'EFMOStfish2023Jul19',\n",
       " 'GWCAStfish2006Jun28',\n",
       " 'GWCAStfish2007May02',\n",
       " 'GWCAStfish2010May05',\n",
       " 'GWCAStfish2013May01',\n",
       " 'GWCAStfish2016May02',\n",
       " 'GWCAStfish2019May06',\n",
       " 'GWCAStfish2022May03',\n",
       " 'GWCAStfish2022May09',\n",
       " 'HEHOStfish2008Jul08',\n",
       " 'HEHOStfish2011Jul11',\n",
       " 'HEHOStfish2014Aug12',\n",
       " 'HEHOStfish2017Jul18',\n",
       " 'HEHOStfish2021Jul26',\n",
       " 'HEHOStfish2022Jul05',\n",
       " 'HEHOStfish2023Jul17',\n",
       " 'HOSPStfish2009Jun16',\n",
       " 'HOSPStfish2012Jul10',\n",
       " 'HOSPStfish2015Jul07',\n",
       " 'HOSPStfish2018Jul09',\n",
       " 'HOSPStfish2018Jul10',\n",
       " 'HOSPStfish2024Jul16',\n",
       " 'HOSPStfish2024Jul17',\n",
       " 'OZARRMFISH2005DEC06',\n",
       " 'OZARRMFISH2005NOV03',\n",
       " 'OZARRMFISH2005NOV08',\n",
       " 'OZARRMFISH2005NOV10',\n",
       " 'OZARRMFISH2005OCT20',\n",
       " 'OZARRMFISH2005OCT25',\n",
       " 'OZARRMFISH2005OCT26',\n",
       " 'OZARRMFISH2005OCT27',\n",
       " 'OZARRMFISH2005OCT28',\n",
       " 'OZARRMFISH2006OCT02',\n",
       " 'OZARRMFISH2006OCT03',\n",
       " 'OZARRMFISH2006OCT04',\n",
       " 'OZARRMFISH2006OCT05',\n",
       " 'OZARRMFISH2006OCT06',\n",
       " 'OZARRMFISH2006OCT18',\n",
       " 'OZARRMFISH2006OCT19',\n",
       " 'OZARRMFISH2006OCT20',\n",
       " 'OZARRMFISH2006OCT23',\n",
       " 'OZARRMFISH2006OCT24',\n",
       " 'OZARRMFISH2006OCT25',\n",
       " 'OZARRMFISH2008OCT15',\n",
       " 'OZARRMFISH2009Oct08',\n",
       " 'OZARRMFISH2009Oct20',\n",
       " 'OZARRMFISH2018Oct02',\n",
       " 'OZARRMFISH2018Oct03',\n",
       " 'OZARRMFISH2018Oct09',\n",
       " 'OZARRMFISH2018Oct10',\n",
       " 'OZARRMFISH2018Oct11',\n",
       " 'OZARRMFISH2018Sep18',\n",
       " 'OZARRMFISH2018Sep19',\n",
       " 'OZARRMFISH2018Sep20',\n",
       " 'OZARRMFISH2018Sep21',\n",
       " 'OZARRMFISH2018Sep25',\n",
       " 'OZARRMFISH2018Sep26',\n",
       " 'OZARRMFISH2018Sep27',\n",
       " 'OZARRMFISH2018Sep28',\n",
       " 'OZARRMFISH2022Aug29',\n",
       " 'OZARRMFISH2022Aug30',\n",
       " 'OZARRMFISH2022Aug31',\n",
       " 'OZARRMFISH2022Sep01',\n",
       " 'OZARRMFISH2022Sep02',\n",
       " 'OZARRMFISH2022Sep06',\n",
       " 'OZARRMFISH2022Sep07',\n",
       " 'OZARRMFISH2022Sep08',\n",
       " 'OZARRMFISH2022Sep09',\n",
       " 'OZARRMFISH2022Sep12',\n",
       " 'OZARRMFISH2022Sep13',\n",
       " 'OZARRMFISH2022Sep22',\n",
       " 'OZARRMFISH2024Aug26',\n",
       " 'OZARRMFISH2024Aug28',\n",
       " 'OZARRMFISH2024Aug29',\n",
       " 'OZARRMFISH2024Aug30',\n",
       " 'OZARRMFISH2024Sep03',\n",
       " 'OZARRMFISH2024Sep04',\n",
       " 'OZARRMFISH2024Sep05',\n",
       " 'OZARRMFISH2024Sep06',\n",
       " 'OZARRMFISH2024Sep09',\n",
       " 'OZARRMFISH2024Sep10',\n",
       " 'OZARRMFISH2024Sep11',\n",
       " 'OZARRMFISH2024Sep12',\n",
       " 'OZARRMFish2007Oct01',\n",
       " 'OZARRMFish2007Oct02',\n",
       " 'OZARRMFish2007Oct03',\n",
       " 'OZARRMFish2007Oct04',\n",
       " 'OZARRMFish2007Oct05',\n",
       " 'OZARRMFish2007Oct09',\n",
       " 'OZARRMFish2007Oct10',\n",
       " 'OZARRMFish2007Oct16',\n",
       " 'OZARRMFish2007Oct17',\n",
       " 'OZARRMFish2007Oct18',\n",
       " 'OZARRMFish2008Oct06',\n",
       " 'OZARRMFish2008Oct07',\n",
       " 'OZARRMFish2008Oct08',\n",
       " 'OZARRMFish2008Oct09',\n",
       " 'OZARRMFish2008Oct10',\n",
       " 'OZARRMFish2008Oct15',\n",
       " 'OZARRMFish2008Oct16',\n",
       " 'OZARRMFish2008Oct17',\n",
       " 'OZARRMFish2008Oct27',\n",
       " 'OZARRMFish2008Oct29',\n",
       " 'OZARRMFish2009Oct05',\n",
       " 'OZARRMFish2009Oct06',\n",
       " 'OZARRMFish2009Oct07',\n",
       " 'OZARRMFish2009Oct08',\n",
       " 'OZARRMFish2009Oct13',\n",
       " 'OZARRMFish2009Oct14',\n",
       " 'OZARRMFish2009Oct16',\n",
       " 'OZARRMFish2009Oct19',\n",
       " 'OZARRMFish2009Oct20',\n",
       " 'OZARRMFish2009Oct21',\n",
       " 'OZARRMFish2010Oct05',\n",
       " 'OZARRMFish2010Oct06',\n",
       " 'OZARRMFish2012Oct01',\n",
       " 'OZARRMFish2012Oct02',\n",
       " 'OZARRMFish2012Oct03',\n",
       " 'OZARRMFish2012Oct09',\n",
       " 'OZARRMFish2012Oct10',\n",
       " 'OZARRMFish2012Oct11',\n",
       " 'OZARRMFish2012Oct18',\n",
       " 'OZARRMFish2012Sep24',\n",
       " 'OZARRMFish2012Sep25',\n",
       " 'OZARRMFish2012Sep26',\n",
       " 'OZARRMFish2012Sep27',\n",
       " 'OZARRMFish2014Oct01',\n",
       " 'OZARRMFish2014Oct02',\n",
       " 'OZARRMFish2014Oct03',\n",
       " 'OZARRMFish2014Oct07',\n",
       " 'OZARRMFish2014Oct08',\n",
       " 'OZARRMFish2014Oct09',\n",
       " 'OZARRMFish2014Oct16',\n",
       " 'OZARRMFish2014Sep22',\n",
       " 'OZARRMFish2014Sep23',\n",
       " 'OZARRMFish2014Sep24',\n",
       " 'OZARRMFish2014Sep25',\n",
       " 'OZARRMFish2016Oct04',\n",
       " 'OZARRMFish2016Oct05',\n",
       " 'OZARRMFish2016Oct06',\n",
       " 'OZARRMFish2016Oct12',\n",
       " 'OZARRMFish2016Sep19',\n",
       " 'OZARRMFish2016Sep20',\n",
       " 'OZARRMFish2016Sep21',\n",
       " 'OZARRMFish2016Sep22',\n",
       " 'OZARRMFish2016Sep27',\n",
       " 'OZARRMFish2016Sep28',\n",
       " 'OZARRMFish2016Sep29',\n",
       " 'OZRSSPRNGS2007Jul23',\n",
       " 'OZRSSPRNGS2007Jul25',\n",
       " 'OZRSSPRNGS2008Jul21',\n",
       " 'OZRSSPRNGS2008Jul22',\n",
       " 'OZRSSPRNGS2009Jul27',\n",
       " 'OZRSSPRNGS2009Jul28',\n",
       " 'OZRSSPRNGS2010Jul26',\n",
       " 'OZRSSPRNGS2010Jul28',\n",
       " 'OZRSSPRNGS2011Jul25',\n",
       " 'OZRSSPRNGS2011Jul26',\n",
       " 'OZRSSPRNGS2012Jul25',\n",
       " 'OZRSSPRNGS2012Jul26',\n",
       " 'OZRSSPRNGS2013Aug16',\n",
       " 'OZRSSPRNGS2013Jul29',\n",
       " 'OZRSSPRNGS2013Sep04',\n",
       " 'OZRSSPRNGS2014Jul28',\n",
       " 'OZRSSPRNGS2014Jul29',\n",
       " 'OZRSSPRNGS2015Aug06',\n",
       " 'OZRSSPRNGS2015Jul28',\n",
       " 'OZRSSPRNGS2016Jul25',\n",
       " 'OZRSSPRNGS2016Jul27',\n",
       " 'OZRSSPRNGS2017Jul25',\n",
       " 'OZRSSPRNGS2017Jul26',\n",
       " 'OZRSSPRNGS2018Jul23',\n",
       " 'OZRSSPRNGS2018Jul24',\n",
       " 'OZRSSprngs2019Jul29',\n",
       " 'OZRSSprngs2021Aug03',\n",
       " 'OZRSSprngs2021Aug05',\n",
       " 'OZRSSprngs2022Jul27',\n",
       " 'OZRSSprngs2022Jul28',\n",
       " 'OZRSSprngs2023Aug01',\n",
       " 'OZRSSprngs2023Aug02',\n",
       " 'OZRSSprngs2024Jul29',\n",
       " 'OZRSSprngs2024Jul30',\n",
       " 'PERIStfish2009May01',\n",
       " 'PERIStfish2012May02',\n",
       " 'PERIStfish2015May12',\n",
       " 'PERIStfish2018May10',\n",
       " 'PERIStfish2021May06',\n",
       " 'PERIStfish2024May15',\n",
       " 'WICRStfish2006Jun15',\n",
       " 'WICRStfish2007May09',\n",
       " 'WICRStfish2010May03',\n",
       " 'WICRStfish2013May06',\n",
       " 'WICRStfish2016May04',\n",
       " 'WICRStfish2019Jun03',\n",
       " 'WICRStfish2019Jun11',\n",
       " 'WICRStfish2022Jun02',\n",
       " 'WICRStfish2022Jun09',\n",
       " 'WICRStfish2022Jun14']"
      ]
     },
     "execution_count": 60,
     "metadata": {},
     "output_type": "execute_result"
    }
   ],
   "source": [
    "sorted(df['EventID'].unique())"
   ]
  },
  {
   "cell_type": "code",
   "execution_count": 61,
   "id": "635a6f7d-d42f-403b-a54a-c3fd2d1ae6ef",
   "metadata": {},
   "outputs": [
    {
     "data": {
      "text/plain": [
       "array(['backpack', 'barge', 'boat', 'Backpack', 'Barge', 'Boat',\n",
       "       'backpack & boat', 'seine'], dtype=object)"
      ]
     },
     "execution_count": 61,
     "metadata": {},
     "output_type": "execute_result"
    }
   ],
   "source": [
    "df['SamplingGear'].unique()"
   ]
  },
  {
   "cell_type": "code",
   "execution_count": 62,
   "id": "8774df89-f995-4d96-96c7-17b778c06d1a",
   "metadata": {},
   "outputs": [
    {
     "data": {
      "text/plain": [
       "['Main', 'backwater_main', 'backwater_side', 'main', 'side channel']"
      ]
     },
     "execution_count": 62,
     "metadata": {},
     "output_type": "execute_result"
    }
   ],
   "source": [
    "sorted(df[\"ChannelType\"].unique())"
   ]
  },
  {
   "cell_type": "code",
   "execution_count": 63,
   "id": "b155764c-e6f8-44f4-b24d-4c8f3b77b246",
   "metadata": {},
   "outputs": [
    {
     "data": {
      "text/plain": [
       "array([[<Axes: title={'center': 'SamplingEffort_sec'}>]], dtype=object)"
      ]
     },
     "execution_count": 63,
     "metadata": {},
     "output_type": "execute_result"
    },
    {
     "data": {
      "image/png": "[encoded data removed]",
      "text/plain": [
       "<Figure size 640x480 with 1 Axes>"
      ]
     },
     "metadata": {},
     "output_type": "display_data"
    }
   ],
   "source": [
    "cols = ['SamplingEffort_sec'] \n",
    "#df2 = df[(df[cols] > 0) & (df[cols] <= 10)]\n",
    "df2 = df[(df[cols] > 0)]\n",
    "df2.hist(column='SamplingEffort_sec')"
   ]
  },
  {
   "cell_type": "code",
   "execution_count": 64,
   "id": "ffc217bc-9011-420d-8a7c-3caf8b8685fc",
   "metadata": {},
   "outputs": [
    {
     "data": {
      "text/plain": [
       "array([[<Axes: title={'center': 'StreamWatershedArea_sqkm'}>]],\n",
       "      dtype=object)"
      ]
     },
     "execution_count": 64,
     "metadata": {},
     "output_type": "execute_result"
    },
    {
     "data": {
      "image/png": "[encoded data removed]",
      "text/plain": [
       "<Figure size 640x480 with 1 Axes>"
      ]
     },
     "metadata": {},
     "output_type": "display_data"
    }
   ],
   "source": [
    "cols = ['StreamWatershedArea_sqkm'] \n",
    "df2 = df[(df[cols] > 0)]\n",
    "df2.hist(column='StreamWatershedArea_sqkm')"
   ]
  },
  {
   "cell_type": "code",
   "execution_count": 65,
   "id": "a77d6f88-24dc-45f1-be4a-6aca99f9a7aa",
   "metadata": {},
   "outputs": [
    {
     "data": {
      "text/plain": [
       "['American Brook lamprey',\n",
       " 'American eel',\n",
       " 'Arkansas darter',\n",
       " 'Arkansas saddled darter',\n",
       " 'Autumn darter',\n",
       " 'Banded darter',\n",
       " 'Banded sculpin',\n",
       " 'Bigeye chub',\n",
       " 'Bigeye shiner',\n",
       " 'Bigmouth buffalo',\n",
       " 'Bigmouth shiner',\n",
       " 'Black River madtom',\n",
       " 'Black buffalo',\n",
       " 'Black bullhead',\n",
       " 'Black redhorse',\n",
       " 'Blacknose dace',\n",
       " 'Blackspotted topminnow',\n",
       " 'Blackstripe topminnow',\n",
       " 'Bleeding shiner',\n",
       " 'Blue sucker',\n",
       " 'Bluegill',\n",
       " 'Bluegill x Green sunfish hybrid',\n",
       " 'Bluegill x Redspotted sunfish hybrid',\n",
       " 'Bluntnose minnow',\n",
       " 'Brook silverside',\n",
       " 'Brook stickleback',\n",
       " 'Brown trout',\n",
       " 'Burbot',\n",
       " 'Cardinal shiner',\n",
       " 'Carmine shiner',\n",
       " 'Central stoneroller',\n",
       " 'Chain pickerel',\n",
       " 'Channel catfish',\n",
       " 'Checkered madtom',\n",
       " 'Chestnut lamprey',\n",
       " 'Common shiner',\n",
       " 'Creek chub',\n",
       " 'Current River saddled darter',\n",
       " 'Current darter',\n",
       " 'Duskystripe shiner',\n",
       " 'Emerald shiner',\n",
       " 'Etheostoma spp.',\n",
       " 'Fantail darter',\n",
       " 'Fathead minnow',\n",
       " 'Flathead catfish',\n",
       " 'Freshwater drum',\n",
       " 'Gilt darter',\n",
       " 'Gizzard shad',\n",
       " 'Golden redhorse',\n",
       " 'Golden shiner',\n",
       " 'Grass pickerel',\n",
       " 'Green sunfish',\n",
       " 'Green sunfish x Orangespotted sunfish hybrid',\n",
       " 'Greenside darter',\n",
       " 'Hornyhead chub',\n",
       " 'Ichthyomyzon ammocoete',\n",
       " 'Johnny darter',\n",
       " 'Knobfin Sculpin',\n",
       " 'Knobfin sculpin',\n",
       " 'Lampetra ammocoete',\n",
       " 'Largemouth bass',\n",
       " 'Least Brook lamprey',\n",
       " 'Logperch',\n",
       " 'Longear sunfish',\n",
       " 'Longear sunfish x Bluegill hybrid',\n",
       " 'Longear sunfish x Green sunfish hybrid',\n",
       " 'Longnose dace',\n",
       " 'Longnose gar',\n",
       " 'Luxilus spp.',\n",
       " 'Mooneye',\n",
       " 'Mottled sculpin',\n",
       " 'Non-carp minnow spp.',\n",
       " 'Northern hog sucker',\n",
       " 'Northern studfish',\n",
       " 'Notropis spp.',\n",
       " 'Orangebelly darter',\n",
       " 'Orangespotted sunfish',\n",
       " 'Orangethroat darter',\n",
       " 'Ouachita madtom',\n",
       " 'Ozark bass',\n",
       " 'Ozark chub',\n",
       " 'Ozark madtom',\n",
       " 'Ozark minnow',\n",
       " 'Ozark shiner',\n",
       " 'Pealip Redhorse',\n",
       " 'Pimephales spp.',\n",
       " 'Pirate perch',\n",
       " 'Quillback',\n",
       " 'Rainbow darter',\n",
       " 'Rainbow trout',\n",
       " 'Redear sunfish',\n",
       " 'Redfin shiner',\n",
       " 'Redhorse spp.',\n",
       " 'Redspot chub',\n",
       " 'Redspotted sunfish',\n",
       " 'Redspotted sunfish X Green sunfish hybrid',\n",
       " 'Redspotted sunfish X Longear sunfish hybrid',\n",
       " 'River redhorse',\n",
       " 'Sculpin spp.',\n",
       " 'Shadow bass',\n",
       " 'Slender madtom',\n",
       " 'Smallmouth bass',\n",
       " 'Smallmouth buffalo',\n",
       " 'Southern Brook Lamprey',\n",
       " 'Southern redbelly dace',\n",
       " 'Spotted bass',\n",
       " 'Spotted gar',\n",
       " 'Spotted sucker',\n",
       " 'Stonecat',\n",
       " 'Stoneroller spp.',\n",
       " 'Striped shiner',\n",
       " 'Sunburst darter',\n",
       " 'Sunfish spp. excluding Crappie',\n",
       " 'Sunfish spp. excluding Crappie and Black Bass',\n",
       " 'Telescope shiner',\n",
       " 'Unknown madtom',\n",
       " 'Warmouth',\n",
       " 'Wedgespot shiner',\n",
       " 'Western Creek Chubsucker',\n",
       " 'Western Mosquitofish',\n",
       " 'White sucker',\n",
       " 'Whitetail shiner',\n",
       " 'Yellow bullhead',\n",
       " 'Yoke darter',\n",
       " 'unknown minnow']"
      ]
     },
     "execution_count": 65,
     "metadata": {},
     "output_type": "execute_result"
    }
   ],
   "source": [
    "sorted(df['CommonName'].unique())"
   ]
  },
  {
   "cell_type": "code",
   "execution_count": 66,
   "id": "15777d65-7ba9-4b90-a004-78392a39dda0",
   "metadata": {},
   "outputs": [
    {
     "data": {
      "text/plain": [
       "['Ambloplites ariommus',\n",
       " 'Ambloplites constellatus',\n",
       " 'Ameiurus melas',\n",
       " 'Ameiurus natalis',\n",
       " 'Anguilla rostrata',\n",
       " 'Aphredoderus sayanus',\n",
       " 'Aplodinotus grunniens',\n",
       " 'Campostoma anomalum',\n",
       " 'Campostoma spp.',\n",
       " 'Carpiodes cyprinus',\n",
       " 'Catostomus commersonii',\n",
       " 'Chrosomus erythrogaster',\n",
       " 'Cottus bairdii',\n",
       " 'Cottus carolinae',\n",
       " 'Cottus immaculatus',\n",
       " 'Cottus spp.',\n",
       " 'Culaea inconstans',\n",
       " 'Cycleptus elongatus',\n",
       " 'Cyprinella galactura',\n",
       " 'Cyprinidae spp.',\n",
       " 'Dorosoma cepedianum',\n",
       " 'Erimystax harryi',\n",
       " 'Erimyzon claviformis',\n",
       " 'Esox americanus vermiculatus',\n",
       " 'Esox niger',\n",
       " 'Etheostoma autmnale',\n",
       " 'Etheostoma blennioides',\n",
       " 'Etheostoma caeruleum',\n",
       " 'Etheostoma cragini',\n",
       " 'Etheostoma euzonum',\n",
       " 'Etheostoma euzonum erizonum',\n",
       " 'Etheostoma flabellare',\n",
       " 'Etheostoma juliae',\n",
       " 'Etheostoma mihileze',\n",
       " 'Etheostoma nigrum',\n",
       " 'Etheostoma radiosum',\n",
       " 'Etheostoma spectabile',\n",
       " 'Etheostoma spp.',\n",
       " 'Etheostoma uniporum',\n",
       " 'Etheostoma zonale',\n",
       " 'Fundulus catenatus',\n",
       " 'Fundulus notatus',\n",
       " 'Fundulus olivaceus',\n",
       " 'Gambusia affinis',\n",
       " 'Hiodon tergisus',\n",
       " 'Hybopsis amblops',\n",
       " 'Hypentelium nigricans',\n",
       " 'Ichthyomyzon castaneus',\n",
       " 'Ichthyomyzon gagei',\n",
       " 'Ichthyomyzon spp.',\n",
       " 'Ictalurus punctatus',\n",
       " 'Ictiobus bubalus',\n",
       " 'Ictiobus cyprinellus',\n",
       " 'Ictiobus niger',\n",
       " 'Labidesthes sicculus',\n",
       " 'Lampetra aepyptera',\n",
       " 'Lampetra spp.',\n",
       " 'Lepisosteus oculatus',\n",
       " 'Lepisosteus osseus',\n",
       " 'Lepomis cyanellus',\n",
       " 'Lepomis cyanellus x L. humilis',\n",
       " 'Lepomis gulosus',\n",
       " 'Lepomis humilis',\n",
       " 'Lepomis macrochirus',\n",
       " 'Lepomis macrochirus x L. cyanellus',\n",
       " 'Lepomis macrochirus x L. miniatus',\n",
       " 'Lepomis megalotis',\n",
       " 'Lepomis megalotis x L. cyanellus',\n",
       " 'Lepomis megalotis x L. macrochirus',\n",
       " 'Lepomis microlophus',\n",
       " 'Lepomis miniatus',\n",
       " 'Lepomis miniatus X L. megalotis',\n",
       " 'Lepomis miniatus x L. cyanellus',\n",
       " 'Lepomis spp.',\n",
       " 'Lethenteron appendix',\n",
       " 'Lota lota',\n",
       " 'Luxilus cardinalis',\n",
       " 'Luxilus chrysocephalus',\n",
       " 'Luxilus cornutus',\n",
       " 'Luxilus pilsbryi',\n",
       " 'Luxilus spp.',\n",
       " 'Luxilus zonatus',\n",
       " 'Lythrurus umbratilis',\n",
       " 'Micropterus dolomieu',\n",
       " 'Micropterus punctulatus',\n",
       " 'Micropterus salmoides',\n",
       " 'Minytrema melanops',\n",
       " 'Moxostoma carinatum',\n",
       " 'Moxostoma duquesnei',\n",
       " 'Moxostoma erythrurum',\n",
       " 'Moxostoma pisolabrum',\n",
       " 'Moxostoma spp.',\n",
       " 'Nocomis asper',\n",
       " 'Nocomis biguttatus',\n",
       " 'Notemigonus crysoleucas',\n",
       " 'Notropis atherinoides',\n",
       " 'Notropis boops',\n",
       " 'Notropis dorsalis',\n",
       " 'Notropis greenei',\n",
       " 'Notropis nubilus',\n",
       " 'Notropis ozarcanus',\n",
       " 'Notropis percobromus',\n",
       " 'Notropis spp.',\n",
       " 'Notropis telescopus',\n",
       " 'Noturus albater',\n",
       " 'Noturus exilis',\n",
       " 'Noturus flavater',\n",
       " 'Noturus flavus',\n",
       " 'Noturus lachneri',\n",
       " 'Noturus maydeni',\n",
       " 'Noturus spp.',\n",
       " 'Oncorhynchus mykiss',\n",
       " 'Percina caprodes',\n",
       " 'Percina evides',\n",
       " 'Pimephales notatus',\n",
       " 'Pimephales promelas',\n",
       " 'Pimephales spp.',\n",
       " 'Pylodictis olivaris',\n",
       " 'Rhinichthys atratulus',\n",
       " 'Rhinichthys cataractae',\n",
       " 'Salmo trutta',\n",
       " 'Semotilus atromaculatus',\n",
       " 'unknown Cyprinid']"
      ]
     },
     "execution_count": 66,
     "metadata": {},
     "output_type": "execute_result"
    }
   ],
   "source": [
    "sorted(df['ScientificName'].unique())"
   ]
  },
  {
   "cell_type": "code",
   "execution_count": 67,
   "id": "a38cbaa9-d843-4021-99e1-b2141b475c13",
   "metadata": {},
   "outputs": [
    {
     "data": {
      "text/plain": [
       "['NFP']"
      ]
     },
     "execution_count": 67,
     "metadata": {},
     "output_type": "execute_result"
    }
   ],
   "source": [
    "sorted(df['FederalProtectionStatusCode'].unique())"
   ]
  },
  {
   "cell_type": "code",
   "execution_count": 68,
   "id": "f20ebf55-0bf0-4b95-8257-7fba29a88a7b",
   "metadata": {},
   "outputs": [
    {
     "data": {
      "text/plain": [
       "['NP']"
      ]
     },
     "execution_count": 68,
     "metadata": {},
     "output_type": "execute_result"
    }
   ],
   "source": [
    "sorted(df['IMD_LevelOfProtection'].unique())"
   ]
  },
  {
   "cell_type": "code",
   "execution_count": 69,
   "id": "12a0728a-9c82-4a57-b8b5-9f8208aa7179",
   "metadata": {},
   "outputs": [
    {
     "data": {
      "text/plain": [
       "['ambari',\n",
       " 'ambcon',\n",
       " 'amemel',\n",
       " 'amenat',\n",
       " 'angros',\n",
       " 'aphsay',\n",
       " 'aplgru',\n",
       " 'camano',\n",
       " 'camspp',\n",
       " 'carcyp',\n",
       " 'catcom',\n",
       " 'chrery',\n",
       " 'cotbai',\n",
       " 'cotcar',\n",
       " 'cotimm',\n",
       " 'cotspp',\n",
       " 'culinc',\n",
       " 'cycelo',\n",
       " 'cypgal',\n",
       " 'cypgre',\n",
       " 'cypspp',\n",
       " 'cypunk',\n",
       " 'dorcep',\n",
       " 'ericla',\n",
       " 'erihar',\n",
       " 'esoame',\n",
       " 'esonig',\n",
       " 'ethaut',\n",
       " 'ethble',\n",
       " 'ethcae',\n",
       " 'ethcra',\n",
       " 'etheri',\n",
       " 'etheux',\n",
       " 'ethfla',\n",
       " 'ethjul',\n",
       " 'ethmih',\n",
       " 'ethnig',\n",
       " 'ethrad',\n",
       " 'ethspe',\n",
       " 'ethspp',\n",
       " 'ethuni',\n",
       " 'ethzon',\n",
       " 'funcat',\n",
       " 'funnot',\n",
       " 'funoli',\n",
       " 'gamaff',\n",
       " 'hioter',\n",
       " 'hypamb',\n",
       " 'hypnig',\n",
       " 'ichamm',\n",
       " 'ichcas',\n",
       " 'ichgag',\n",
       " 'ictbub',\n",
       " 'ictcyp',\n",
       " 'ictnig',\n",
       " 'ictpun',\n",
       " 'labsic',\n",
       " 'lamaep',\n",
       " 'lapamm',\n",
       " 'lepcxh',\n",
       " 'lepcxm',\n",
       " 'lepcya',\n",
       " 'lepgul',\n",
       " 'lephum',\n",
       " 'lepixm',\n",
       " 'lepmac',\n",
       " 'lepmec',\n",
       " 'lepmeg',\n",
       " 'lepmic',\n",
       " 'lepmin',\n",
       " 'lepmxc',\n",
       " 'lepmxi',\n",
       " 'lepmxm',\n",
       " 'lepocu',\n",
       " 'leposs',\n",
       " 'lepspp',\n",
       " 'letapp',\n",
       " 'lotlot',\n",
       " 'luxcar',\n",
       " 'luxchr',\n",
       " 'luxcor',\n",
       " 'luxpil',\n",
       " 'luxspp',\n",
       " 'luxzon',\n",
       " 'lytumb',\n",
       " 'micdol',\n",
       " 'micpun',\n",
       " 'micsal',\n",
       " 'minmel',\n",
       " 'moxcar',\n",
       " 'moxduq',\n",
       " 'moxery',\n",
       " 'moxpis',\n",
       " 'moxspp',\n",
       " 'nocasp',\n",
       " 'nocbig',\n",
       " 'notala',\n",
       " 'notath',\n",
       " 'notboo',\n",
       " 'notcry',\n",
       " 'notdor',\n",
       " 'notexi',\n",
       " 'notfla',\n",
       " 'notflv',\n",
       " 'notlac',\n",
       " 'notmay',\n",
       " 'notnub',\n",
       " 'notoza',\n",
       " 'notper',\n",
       " 'notspp',\n",
       " 'nottel',\n",
       " 'ntuspp',\n",
       " 'oncmyk',\n",
       " 'percap',\n",
       " 'perevi',\n",
       " 'pimnot',\n",
       " 'pimpro',\n",
       " 'pimspp',\n",
       " 'pyloli',\n",
       " 'rhiatr',\n",
       " 'rhicat',\n",
       " 'saltru',\n",
       " 'sematr']"
      ]
     },
     "execution_count": 69,
     "metadata": {},
     "output_type": "execute_result"
    }
   ],
   "source": [
    "sorted(df['TaxonCode'].unique())"
   ]
  },
  {
   "cell_type": "code",
   "execution_count": 70,
   "id": "08596176-0e86-4489-8772-64b3476b0273",
   "metadata": {},
   "outputs": [
    {
     "data": {
      "text/plain": [
       "array([[<Axes: title={'center': 'TaxaFishNumber'}>]], dtype=object)"
      ]
     },
     "execution_count": 70,
     "metadata": {},
     "output_type": "execute_result"
    },
    {
     "data": {
      "image/png": "[encoded data removed]",
      "text/plain": [
       "<Figure size 640x480 with 1 Axes>"
      ]
     },
     "metadata": {},
     "output_type": "display_data"
    }
   ],
   "source": [
    "cols = ['TaxaFishNumber'] \n",
    "df2 = df[(df[cols] > 0)]\n",
    "df2.hist(column='TaxaFishNumber')"
   ]
  },
  {
   "cell_type": "code",
   "execution_count": 71,
   "id": "7abf4390-6c0e-4649-bfcb-4b46b22e5481",
   "metadata": {},
   "outputs": [
    {
     "data": {
      "text/plain": [
       "array([[<Axes: title={'center': 'TotalLength_mm'}>]], dtype=object)"
      ]
     },
     "execution_count": 71,
     "metadata": {},
     "output_type": "execute_result"
    },
    {
     "data": {
      "image/png": "[encoded data removed]",
      "text/plain": [
       "<Figure size 640x480 with 1 Axes>"
      ]
     },
     "metadata": {},
     "output_type": "display_data"
    }
   ],
   "source": [
    "cols = ['TotalLength_mm'] \n",
    "df2 = df[(df[cols] > 0)]\n",
    "df2.hist(column='TotalLength_mm')"
   ]
  },
  {
   "cell_type": "code",
   "execution_count": 72,
   "id": "4a47ae54-92c3-4b5e-a8be-f97aff5f8d90",
   "metadata": {},
   "outputs": [
    {
     "data": {
      "text/plain": [
       "array([[<Axes: title={'center': 'Weight_g'}>]], dtype=object)"
      ]
     },
     "execution_count": 72,
     "metadata": {},
     "output_type": "execute_result"
    },
    {
     "data": {
      "image/png": "[encoded data removed]",
      "text/plain": [
       "<Figure size 640x480 with 1 Axes>"
      ]
     },
     "metadata": {},
     "output_type": "display_data"
    }
   ],
   "source": [
    "cols = ['Weight_g'] \n",
    "df2 = df[(df[cols] > 0)]\n",
    "df2.hist(column='Weight_g')"
   ]
  },
  {
   "cell_type": "code",
   "execution_count": 73,
   "id": "abd5f11b-9490-42cc-8381-bc5f2f386a0a",
   "metadata": {},
   "outputs": [
    {
     "data": {
      "text/plain": [
       "['B', 'D', 'E', 'L', 'M', 'N', 'T', 'b']"
      ]
     },
     "execution_count": 73,
     "metadata": {},
     "output_type": "execute_result"
    }
   ],
   "source": [
    "sorted(df['AnomalyID'].unique())"
   ]
  },
  {
   "cell_type": "code",
   "execution_count": 74,
   "id": "2f5f9d3c-8d45-4a38-be93-22793564a043",
   "metadata": {},
   "outputs": [
    {
     "data": {
      "text/plain": [
       "[np.int64(-1), np.int64(0)]"
      ]
     },
     "execution_count": 74,
     "metadata": {},
     "output_type": "execute_result"
    }
   ],
   "source": [
    "sorted(df['Vouchered'].unique())"
   ]
  },
  {
   "cell_type": "code",
   "execution_count": 75,
   "id": "fb43a6a4-01c9-4eda-bcb7-d670c1a029a3",
   "metadata": {},
   "outputs": [
    {
     "data": {
      "text/plain": [
       "array([[<Axes: title={'center': 'NumObs'}>]], dtype=object)"
      ]
     },
     "execution_count": 75,
     "metadata": {},
     "output_type": "execute_result"
    },
    {
     "data": {
      "image/png": "[encoded data removed]",
      "text/plain": [
       "<Figure size 640x480 with 1 Axes>"
      ]
     },
     "metadata": {},
     "output_type": "display_data"
    }
   ],
   "source": [
    "cols = ['NumObs'] \n",
    "df2 = df[(df[cols] > 1) & (df[cols] <= 150)]\n",
    "# Note that this is > 1. Most samples = 1\n",
    "df2.hist(column='NumObs')"
   ]
  },
  {
   "cell_type": "code",
   "execution_count": 76,
   "id": "bab2f06d-7010-4005-a800-222a11f46688",
   "metadata": {},
   "outputs": [
    {
     "data": {
      "text/plain": [
       "[np.int64(0),\n",
       " np.int64(1),\n",
       " np.int64(2),\n",
       " np.int64(3),\n",
       " np.int64(4),\n",
       " np.int64(5),\n",
       " np.int64(6)]"
      ]
     },
     "execution_count": 76,
     "metadata": {},
     "output_type": "execute_result"
    }
   ],
   "source": [
    "sorted(df['BatchID'].unique())"
   ]
  },
  {
   "cell_type": "code",
   "execution_count": 77,
   "id": "e6ea16ac-e394-4775-814d-aa8f0e418b4d",
   "metadata": {},
   "outputs": [
    {
     "data": {
      "text/plain": [
       "array([[<Axes: title={'center': 'BatchWT_g'}>]], dtype=object)"
      ]
     },
     "execution_count": 77,
     "metadata": {},
     "output_type": "execute_result"
    },
    {
     "data": {
      "image/png": "[encoded data removed]",
      "text/plain": [
       "<Figure size 640x480 with 1 Axes>"
      ]
     },
     "metadata": {},
     "output_type": "display_data"
    }
   ],
   "source": [
    "cols = ['BatchWT_g'] \n",
    "#df2 = df[(df[cols] > 1) & (df[cols] <= 150)]\n",
    "df2 = df[(df[cols] > 0)]\n",
    "df2.hist(column='BatchWT_g')"
   ]
  },
  {
   "cell_type": "code",
   "execution_count": 78,
   "id": "d4073344-59fa-4bf8-9623-f89ab3f6da04",
   "metadata": {},
   "outputs": [
    {
     "data": {
      "text/plain": [
       "['+ 1 escaped',\n",
       " '15 collected for USGS mercury study',\n",
       " '2 flukes',\n",
       " '4 have blackspot',\n",
       " '4 is what was recorded, will need Aq lead to assess',\n",
       " '<1',\n",
       " 'Adult',\n",
       " 'Also black spots',\n",
       " 'Also eroded fins',\n",
       " 'Also has Blackspot',\n",
       " 'Also has Eroded fin',\n",
       " 'Also has Eroded fins',\n",
       " 'Also has Eroded fins and Lesions',\n",
       " 'Also has an Eroded fin',\n",
       " 'Also has an eroded fin',\n",
       " 'Also has lesions',\n",
       " 'Also lesions',\n",
       " 'Ammocete',\n",
       " 'Ammocoete',\n",
       " 'Amonolies=blackspots and eroded fins',\n",
       " 'Anomalies = eroded fin and black spots',\n",
       " 'Anomaly = Eroded fins and Lesions',\n",
       " 'Anomolies = Lesions and Eroded Fins',\n",
       " 'B and L anom',\n",
       " 'Batch threw back before weight recorded',\n",
       " 'Deformed snout',\n",
       " 'Eroded Fin &Blackspot',\n",
       " 'Eroded din',\n",
       " 'Fish Lice',\n",
       " 'GIG WOUND',\n",
       " 'Gig Scar',\n",
       " 'Gig mark',\n",
       " 'Gig scar',\n",
       " 'Gig wound',\n",
       " 'Gigging scars',\n",
       " 'Has Blackspot',\n",
       " 'Hemorraging Fin',\n",
       " 'Heron bite',\n",
       " 'Hybrid with Longear sunfish',\n",
       " 'In Ref. Collection',\n",
       " 'In Reference Collection',\n",
       " 'In reference col.',\n",
       " 'In reference collection',\n",
       " 'Injured Lip',\n",
       " 'Injured Lip and Eye',\n",
       " 'Injured upper lip',\n",
       " 'Injury to face and eye',\n",
       " 'L and E anom',\n",
       " 'Lamprey scar',\n",
       " 'Larger',\n",
       " 'Larvae',\n",
       " 'Larval',\n",
       " 'Leach',\n",
       " 'Leaches on tail',\n",
       " 'Leech',\n",
       " 'Lesion & Blackspot',\n",
       " 'Lost out of boat',\n",
       " 'MDC Tag#  1185',\n",
       " 'NW',\n",
       " 'No Weight',\n",
       " 'No Weight, even with two combined',\n",
       " 'No batch weight recorded',\n",
       " 'No batch weight recorded.',\n",
       " 'No batch weight was recorded',\n",
       " 'No individual length or weight recorded',\n",
       " 'No individual weight recorded',\n",
       " 'No length',\n",
       " 'No length  recorded',\n",
       " 'No length or weight recorded',\n",
       " 'No length recorded',\n",
       " 'No scale',\n",
       " 'No weight',\n",
       " 'No weight batch 1',\n",
       " 'No weight for batch',\n",
       " 'No weight in batch 1',\n",
       " 'No weight recorded',\n",
       " 'No weight, missing eye',\n",
       " 'No wt',\n",
       " 'Ozark Darter',\n",
       " 'Parasites',\n",
       " 'Plateau Darter',\n",
       " 'Plateau Darter. Reference Collection',\n",
       " 'Preserved',\n",
       " 'Preserved - no wt',\n",
       " 'Puncture on Dorsal Fin',\n",
       " 'Ref collection',\n",
       " 'Ref. Collection',\n",
       " 'Reference Collection',\n",
       " 'Scale stopped',\n",
       " 'Scar',\n",
       " 'Scars',\n",
       " 'Smaller',\n",
       " 'This batch had NW',\n",
       " 'Too large for are scales to weigh',\n",
       " 'Tumor',\n",
       " 'Weight less than 1',\n",
       " 'Weight not recorded',\n",
       " 'Weight removed by HRD',\n",
       " '`',\n",
       " 'adult',\n",
       " 'also had eroded fin anomaly',\n",
       " 'also has Lesion',\n",
       " 'also has blackspot',\n",
       " 'ammocoete',\n",
       " 'and lesions',\n",
       " 'batch = no weight',\n",
       " 'batch thrown back before weight recorded',\n",
       " 'big scar',\n",
       " 'blackspot',\n",
       " 'blind eye',\n",
       " 'bulging left eye',\n",
       " 'caudal peduncal',\n",
       " 'caught but lost during processing',\n",
       " 'chunk of flesh out of side',\n",
       " 'collected for USGS mercury study',\n",
       " 'dead',\n",
       " 'def opercel',\n",
       " 'deformed lip',\n",
       " 'deformed lip and left eye clouded',\n",
       " 'deformed mouth',\n",
       " 'difficult to read length on field sheet',\n",
       " 'ear flap torn',\n",
       " 'electrofishing',\n",
       " 'eroded fin',\n",
       " 'eroded fins',\n",
       " 'fish thrown out- Ozark Minnows, Duskystripe shiner',\n",
       " 'fishing injury',\n",
       " 'fluke',\n",
       " 'fluke dorsal',\n",
       " 'fluke r pelvic',\n",
       " 'for reference collection',\n",
       " 'fungus',\n",
       " 'fungus growth',\n",
       " 'gig mark',\n",
       " 'gig scar',\n",
       " 'gig wound',\n",
       " 'gill injured',\n",
       " 'good',\n",
       " 'got away before measured',\n",
       " 'had hook with line in mouth',\n",
       " 'had leech',\n",
       " 'has leeches',\n",
       " 'has lesions too',\n",
       " 'hole in dorsal',\n",
       " 'hole in fin',\n",
       " 'hooked',\n",
       " 'hybrid/bluegill',\n",
       " 'in reference collection',\n",
       " 'in reference colletion',\n",
       " 'injured from fishing',\n",
       " 'injured lip',\n",
       " 'injured side and pectoral fin',\n",
       " 'injuries on both sides of pectoral  fins',\n",
       " 'injury from gigging',\n",
       " 'juvenile; in ref collection',\n",
       " 'lamprey attached',\n",
       " 'lamprey scar',\n",
       " 'larvae',\n",
       " 'larvae in reference collection confirmed byEtnier',\n",
       " 'larval',\n",
       " 'larval lamprey',\n",
       " 'larval lampry, no weight',\n",
       " 'leave weight blank, incorrect measurement',\n",
       " 'leech',\n",
       " 'leech on chin',\n",
       " 'leech on its tail',\n",
       " 'leeches',\n",
       " 'leeches attached to fish',\n",
       " 'left opercle injured',\n",
       " 'lesion',\n",
       " 'lesions and blackspot',\n",
       " 'lesions and deformaties',\n",
       " 'lip deformity',\n",
       " 'lip eroded',\n",
       " 'longnosed gar stunned, but not netted',\n",
       " 'madtom in mouth',\n",
       " 'major blackspot',\n",
       " 'missing eye',\n",
       " 'missing opercal, scar',\n",
       " 'missing opercle',\n",
       " 'missing part of caudal fin',\n",
       " 'missing part of dorsal',\n",
       " 'missing part of right opercle',\n",
       " 'missing pectoral fin',\n",
       " 'mutilated dorsal fin',\n",
       " 'nan',\n",
       " 'no  weight',\n",
       " 'no batch weight',\n",
       " 'no batch weight recorded',\n",
       " 'no batch weight reported',\n",
       " 'no idividual weight recorded',\n",
       " 'no individual length or weight recorded',\n",
       " 'no individual length or weight recorded but present',\n",
       " 'no individual length recorded',\n",
       " 'no individual weight',\n",
       " 'no individual weight recorded',\n",
       " 'no individual weight/length recorded',\n",
       " 'no length',\n",
       " 'no length or weight',\n",
       " 'no wegiht',\n",
       " 'no weight',\n",
       " 'no weight batch 1',\n",
       " 'no weight measured',\n",
       " 'no weight recorded',\n",
       " 'no wt',\n",
       " 'not weighable',\n",
       " 'nw',\n",
       " 'one had a deformity, was missing part of anal fin',\n",
       " 'one wedgespot shiner in reference collection',\n",
       " 'one with deformed fin',\n",
       " 'open wound',\n",
       " 'opercle short on one side, no length',\n",
       " 'parasite',\n",
       " 'parasites',\n",
       " 'pectoral fin damaged',\n",
       " 'perserved',\n",
       " 'peserved',\n",
       " 'preserved',\n",
       " 'preserved  - no weight',\n",
       " 'preserved -  no weight',\n",
       " 'preserved - 1 with blackspot',\n",
       " 'preserved - current river darter',\n",
       " 'preserved - no weight',\n",
       " 'preserved - no wt',\n",
       " 'preserved Central stoneroller',\n",
       " 'preserved adult',\n",
       " 'preserved adult in reference collection',\n",
       " 'preserved in reference collection',\n",
       " 'preserved in reference collection,No scale',\n",
       " 'preserved larvae',\n",
       " 'preserved larvae in reference collection',\n",
       " 'preserved specimen verified by Bob Hrabik, MDC',\n",
       " 'preserved, No weight',\n",
       " 'preserved, no weight',\n",
       " 'preserved; confirmed by Bob Hrabik, MDC',\n",
       " 'put in vial for further identification',\n",
       " 'recorded as 4mm on field sheet - illogical value; changed to count only',\n",
       " 'ref collection',\n",
       " 'reference collection',\n",
       " 'scar',\n",
       " 'scar left pectoral',\n",
       " 'scar on belly',\n",
       " 'scar on caudal fin',\n",
       " 'scar on head',\n",
       " 'scar on head from lamprey',\n",
       " 'scar on lower lip',\n",
       " 'scar on operculum',\n",
       " 'scar on pelvic',\n",
       " 'scar on side',\n",
       " 'scar- no anom code',\n",
       " 'scared lip and tail',\n",
       " 'scars',\n",
       " 'scars on dorsal of perculum and tail peduncle',\n",
       " 'sores on lips',\n",
       " 'spiney dorsal partially gone',\n",
       " 'this one should be blank because it was deleted',\n",
       " 'torn lip',\n",
       " 'torn opercle',\n",
       " 'tumor',\n",
       " 'used in USGS Mercury study',\n",
       " 'weight <1',\n",
       " 'weight incorrect on field sheet',\n",
       " 'wet & sandy',\n",
       " 'yellow grub']"
      ]
     },
     "execution_count": 78,
     "metadata": {},
     "output_type": "execute_result"
    }
   ],
   "source": [
    "df[\"Comments\"] = df[\"Comments\"].astype(str)\n",
    "sorted(df['Comments'].unique())"
   ]
  },
  {
   "cell_type": "code",
   "execution_count": 79,
   "id": "6e4e05c8-5a8a-4067-8940-a5d546dc08ac",
   "metadata": {},
   "outputs": [
    {
     "data": {
      "text/plain": [
       "[np.False_, np.True_]"
      ]
     },
     "execution_count": 79,
     "metadata": {},
     "output_type": "execute_result"
    }
   ],
   "source": [
    "sorted(df['FlaggedData_YN'].unique())"
   ]
  },
  {
   "cell_type": "code",
   "execution_count": 80,
   "id": "424fbdd5-11dc-4b0d-a4a5-caafe3951c16",
   "metadata": {},
   "outputs": [
    {
     "data": {
      "text/plain": [
       "['Due to frequent floods during sampling period could not wait 2 weeks post-floods to sample as described in protocol. Fish data is atypical (low numbers and diversity) and should be analyzed with caution',\n",
       " 'nan']"
      ]
     },
     "execution_count": 80,
     "metadata": {},
     "output_type": "execute_result"
    }
   ],
   "source": [
    "df[\"OpsReviewFlaggedData_Comment\"] = df[\"OpsReviewFlaggedData_Comment\"].astype(str)\n",
    "sorted(df['OpsReviewFlaggedData_Comment'].unique())"
   ]
  },
  {
   "cell_type": "code",
   "execution_count": 81,
   "id": "909d51d7-834d-4bd3-bf06-1bb9ba0cc75e",
   "metadata": {},
   "outputs": [
    {
     "data": {
      "text/plain": [
       "array(['BUFF', 'EFMO', 'GWCA', 'HEHO', 'HOSP', 'OZAR', 'OZRS', 'PERI',\n",
       "       'WICR'], dtype=object)"
      ]
     },
     "execution_count": 81,
     "metadata": {},
     "output_type": "execute_result"
    }
   ],
   "source": [
    "df['ParkCode'].unique() "
   ]
  }
 ],
 "metadata": {
  "kernelspec": {
   "display_name": "Python 3 (ipykernel)",
   "language": "python",
   "name": "python3"
  },
  "language_info": {
   "codemirror_mode": {
    "name": "ipython",
    "version": 3
   },
   "file_extension": ".py",
   "mimetype": "text/x-python",
   "name": "python",
   "nbconvert_exporter": "python",
   "pygments_lexer": "ipython3",
   "version": "3.10.15"
  }
 },
 "nbformat": 4,
 "nbformat_minor": 5
}
