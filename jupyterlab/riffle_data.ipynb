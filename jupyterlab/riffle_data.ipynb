{
 "cells": [
  {
   "cell_type": "code",
   "execution_count": 26,
   "id": "b72034c7-cb39-4e64-92d6-9aa5ef494d9a",
   "metadata": {},
   "outputs": [],
   "source": [
    "import pandas as pd\n",
    "import matplotlib.pyplot as plt"
   ]
  },
  {
   "cell_type": "code",
   "execution_count": 27,
   "id": "be6ded30-4f9f-41f7-b479-bd060e4b7194",
   "metadata": {},
   "outputs": [
    {
     "name": "stdout",
     "output_type": "stream",
     "text": [
      "                 ParkName ParkCode  Season      LocationID  \\\n",
      "0  Buffalo National River     BUFF    2005  BUFFRMINVEBM02   \n",
      "1  Buffalo National River     BUFF    2005  BUFFRMINVEBM02   \n",
      "2  Buffalo National River     BUFF    2005  BUFFRMINVEBM02   \n",
      "3  Buffalo National River     BUFF    2005  BUFFRMINVEBM03   \n",
      "4  Buffalo National River     BUFF    2005  BUFFRMINVEBM03   \n",
      "\n",
      "               EventID  RiffleNo  RiffleLength  Temperature  \\\n",
      "0  BUFFRMINVE2005NOV29         1          16.9         9.20   \n",
      "1  BUFFRMINVE2005NOV29         2          68.0         8.80   \n",
      "2  BUFFRMINVE2005NOV29         3          14.6         7.50   \n",
      "3  BUFFRMINVE2005NOV30         1          83.0         7.76   \n",
      "4  BUFFRMINVE2005NOV30         2          31.4         7.10   \n",
      "\n",
      "   SpecificConductance    pH     DO  Turbidity  \\\n",
      "0                191.6  7.77  11.70       -999   \n",
      "1                189.9  7.51  11.41       -999   \n",
      "2                184.7  7.44  10.71       -999   \n",
      "3               -999.0  7.65  11.56       -999   \n",
      "4                143.0  7.53  11.26       -999   \n",
      "\n",
      "                                                Note  \n",
      "0                                                NaN  \n",
      "1                                                NaN  \n",
      "2                                                NaN  \n",
      "3  Spec Cond lacked data and was originally enter...  \n",
      "4                                                NaN  \n"
     ]
    }
   ],
   "source": [
    "file = r\"C:\\Users\\GRowell\\HTLN-data-packages-data\\aqinvert\\RiffleData.csv\"\n",
    "df = pd.read_csv(file)\n",
    "print(df.head())"
   ]
  },
  {
   "cell_type": "code",
   "execution_count": 28,
   "id": "60b00748-e1e6-454d-b762-4ae5fa3ee2c0",
   "metadata": {},
   "outputs": [
    {
     "data": {
      "text/plain": [
       "ParkName                object\n",
       "ParkCode                object\n",
       "Season                   int64\n",
       "LocationID              object\n",
       "EventID                 object\n",
       "RiffleNo                 int64\n",
       "RiffleLength           float64\n",
       "Temperature            float64\n",
       "SpecificConductance    float64\n",
       "pH                     float64\n",
       "DO                     float64\n",
       "Turbidity                int64\n",
       "Note                    object\n",
       "dtype: object"
      ]
     },
     "execution_count": 28,
     "metadata": {},
     "output_type": "execute_result"
    }
   ],
   "source": [
    "df.dtypes"
   ]
  },
  {
   "cell_type": "code",
   "execution_count": 29,
   "id": "cbdc8492-2f84-42de-91f3-1c4d1d910d22",
   "metadata": {},
   "outputs": [
    {
     "data": {
      "text/plain": [
       "['Buffalo National River',\n",
       " 'George Washington Carver National Monument',\n",
       " 'Herbert Hoover National Historic Site',\n",
       " 'Ozark National Scenic Riverways - RIVERS',\n",
       " 'Pea Ridge National Military Park',\n",
       " 'Pipestone National Monument',\n",
       " 'Wilsons Creek National Battlefield']"
      ]
     },
     "execution_count": 29,
     "metadata": {},
     "output_type": "execute_result"
    }
   ],
   "source": [
    "sorted(df['ParkName'].unique())"
   ]
  },
  {
   "cell_type": "code",
   "execution_count": 30,
   "id": "efbd30e6-13fa-455b-a596-2f0eb7164900",
   "metadata": {},
   "outputs": [
    {
     "data": {
      "text/plain": [
       "['BUFF', 'GWCA', 'HEHO', 'OZAR', 'PERI', 'PIPE', 'WICR']"
      ]
     },
     "execution_count": 30,
     "metadata": {},
     "output_type": "execute_result"
    }
   ],
   "source": [
    "sorted(df['ParkCode'].unique())"
   ]
  },
  {
   "cell_type": "code",
   "execution_count": 31,
   "id": "635a6f7d-d42f-403b-a54a-c3fd2d1ae6ef",
   "metadata": {},
   "outputs": [
    {
     "data": {
      "text/plain": [
       "array([2005, 2006, 2007, 2008, 2009, 2010, 2011, 2012, 2013, 2014, 2015,\n",
       "       2016, 2017, 2018, 2019, 2020, 2021, 2022, 2023])"
      ]
     },
     "execution_count": 31,
     "metadata": {},
     "output_type": "execute_result"
    }
   ],
   "source": [
    "df['Season'].unique()"
   ]
  },
  {
   "cell_type": "code",
   "execution_count": 32,
   "id": "8774df89-f995-4d96-96c7-17b778c06d1a",
   "metadata": {},
   "outputs": [
    {
     "data": {
      "text/plain": [
       "['BUFFRMINVEBM01',\n",
       " 'BUFFRMINVEBM02',\n",
       " 'BUFFRMINVEBM03',\n",
       " 'BUFFRMINVEBM04',\n",
       " 'BUFFRMINVEBM05',\n",
       " 'BUFFRMINVEBM06',\n",
       " 'BUFFRMINVEBT01',\n",
       " 'BUFFRMINVEBT03',\n",
       " 'BUFFRMINVEBT04',\n",
       " 'BUFFRMINVEBT05',\n",
       " 'BUFFRMINVEBT06',\n",
       " 'BUFFRMINVEBT07',\n",
       " 'BUFFRMINVEBT08',\n",
       " 'BUFFRMINVEBT09',\n",
       " 'BUFFRMINVEBT10',\n",
       " 'BUFFRMINVEBT11',\n",
       " 'BUFFRMINVEBT13',\n",
       " 'BUFFRMINVEBT14',\n",
       " 'BUFFRMINVEBT15',\n",
       " 'BUFFRMINVEBT16',\n",
       " 'BUFFRMINVEBT17',\n",
       " 'BUFFRMINVEBT19',\n",
       " 'BUFFRMINVEBT20',\n",
       " 'BUFFRMINVEBT22',\n",
       " 'BUFFRMINVEBT23',\n",
       " 'BUFFRMINVEBT24',\n",
       " 'BUFFRMINVEBT25',\n",
       " 'BUFFRMINVEBT27',\n",
       " 'BUFFRMINVEBT30',\n",
       " 'BUFFRMINVEBT31',\n",
       " 'BUFFRMINVEBT33',\n",
       " 'GWCAAquBug01',\n",
       " 'GWCAAquBug02',\n",
       " 'GWCAAquBug03',\n",
       " 'HEHOAqubug01',\n",
       " 'OZARRMINVECM01',\n",
       " 'OZARRMINVECM02',\n",
       " 'OZARRMINVECM03',\n",
       " 'OZARRMINVECM04',\n",
       " 'OZARRMINVECM05',\n",
       " 'OZARRMINVECM06',\n",
       " 'OZARRMINVECT01',\n",
       " 'OZARRMINVECT02',\n",
       " 'OZARRMINVECT03',\n",
       " 'OZARRMINVECT04',\n",
       " 'OZARRMINVECT06',\n",
       " 'OZARRMINVECT07',\n",
       " 'OZARRMINVECT08',\n",
       " 'OZARRMINVECT09',\n",
       " 'OZARRMINVECT12',\n",
       " 'OZARRMINVECT13',\n",
       " 'OZARRMINVECT14',\n",
       " 'OZARRMINVECT15',\n",
       " 'OZARRMINVECT16',\n",
       " 'OZARRMINVEJM01',\n",
       " 'OZARRMINVEJM02',\n",
       " 'OZARRMINVEJM03',\n",
       " 'OZARRMINVEJT01',\n",
       " 'OZARRMINVEJT02',\n",
       " 'OZARRMINVEJT03',\n",
       " 'PERIAqubug03',\n",
       " 'PIPEAquBug01',\n",
       " 'WICRAQUBUG04',\n",
       " 'WICRAquBug01',\n",
       " 'WICRAquBug02',\n",
       " 'WICRAquBug03']"
      ]
     },
     "execution_count": 32,
     "metadata": {},
     "output_type": "execute_result"
    }
   ],
   "source": [
    "sorted(df[\"LocationID\"].unique())"
   ]
  },
  {
   "cell_type": "code",
   "execution_count": 33,
   "id": "424fbdd5-11dc-4b0d-a4a5-caafe3951c16",
   "metadata": {},
   "outputs": [
    {
     "data": {
      "text/plain": [
       "['BUFFRMINVE2005DEC01',\n",
       " 'BUFFRMINVE2005DEC14',\n",
       " 'BUFFRMINVE2005DEC20',\n",
       " 'BUFFRMINVE2005NOV29',\n",
       " 'BUFFRMINVE2005NOV30',\n",
       " 'BUFFRMINVE2007Dec03',\n",
       " 'BUFFRMINVE2007Dec04',\n",
       " 'BUFFRMINVE2007FEB09',\n",
       " 'BUFFRMINVE2007FEB20',\n",
       " 'BUFFRMINVE2007FEB21',\n",
       " 'BUFFRMINVE2007FEB22',\n",
       " 'BUFFRMINVE2007JAN04',\n",
       " 'BUFFRMINVE2007JAN05',\n",
       " 'BUFFRMINVE2007JAN08',\n",
       " 'BUFFRMINVE2007JAN09',\n",
       " 'BUFFRMINVE2007Nov26',\n",
       " 'BUFFRMINVE2007Nov27',\n",
       " 'BUFFRMINVE2007Nov28',\n",
       " 'BUFFRMINVE2007Nov29',\n",
       " 'BUFFRMINVE2007Nov30',\n",
       " 'BUFFRMINVE2008Dec02',\n",
       " 'BUFFRMINVE2008Dec03',\n",
       " 'BUFFRMINVE2008Dec04',\n",
       " 'BUFFRMINVE2008Dec05',\n",
       " 'BUFFRMINVE2008Dec10',\n",
       " 'BUFFRMINVE2008Dec11',\n",
       " 'BUFFRMINVE2008Jan22',\n",
       " 'BUFFRMINVE2008Jan23',\n",
       " 'BUFFRMINVE2009Dec07',\n",
       " 'BUFFRMINVE2009Dec08',\n",
       " 'BUFFRMINVE2009Dec14',\n",
       " 'BUFFRMINVE2009Dec15',\n",
       " 'BUFFRMINVE2009Dec16',\n",
       " 'BUFFRMINVE2009Feb18',\n",
       " 'BUFFRMINVE2009Jan08',\n",
       " 'BUFFRMINVE2010Dec01',\n",
       " 'BUFFRMINVE2010Jan11',\n",
       " 'BUFFRMINVE2010Jan12',\n",
       " 'BUFFRMINVE2010Jan14',\n",
       " 'BUFFRMINVE2010Jan15',\n",
       " 'BUFFRMINVE2010Jan21',\n",
       " 'BUFFRMINVE2010Nov29',\n",
       " 'BUFFRMINVE2010Nov30',\n",
       " 'BUFFRMINVE2011Dec01',\n",
       " 'BUFFRMINVE2011Dec07',\n",
       " 'BUFFRMINVE2011Dec28',\n",
       " 'BUFFRMINVE2012Jan04',\n",
       " 'BUFFRMINVE2012Jan05',\n",
       " 'BUFFRMINVE2012Jan06',\n",
       " 'BUFFRMINVE2012Jan09',\n",
       " 'BUFFRMINVE2012Jan10',\n",
       " 'BUFFRMINVE2012Jan18',\n",
       " 'BUFFRMINVE2013Dec04',\n",
       " 'BUFFRMINVE2013Nov21',\n",
       " 'BUFFRMINVE2014Feb19',\n",
       " 'BUFFRMINVE2014Jan23',\n",
       " 'BUFFRMINVE2014Jan24',\n",
       " 'BUFFRMINVE2014Jan29',\n",
       " 'BUFFRMINVE2014Jan30',\n",
       " 'BUFFRMINVE2014Jan31',\n",
       " 'BUFFRMINVE2015Dec07',\n",
       " 'BUFFRMINVE2015Dec08',\n",
       " 'BUFFRMINVE2015Dec09',\n",
       " 'BUFFRMINVE2015Dec17',\n",
       " 'BUFFRMINVE2015Dec18',\n",
       " 'BUFFRMINVE2015Nov23',\n",
       " 'BUFFRMINVE2015Nov24',\n",
       " 'BUFFRMINVE2017Dec01',\n",
       " 'BUFFRMINVE2017Dec04',\n",
       " 'BUFFRMINVE2017Dec08',\n",
       " 'BUFFRMINVE2017Nov15',\n",
       " 'BUFFRMINVE2017Nov16',\n",
       " 'BUFFRMINVE2017Nov29',\n",
       " 'BUFFRMINVE2017Nov30',\n",
       " 'BUFFRMINVE2019Nov04',\n",
       " 'BUFFRMINVE2019Nov05',\n",
       " 'BUFFRMINVE2019Nov06',\n",
       " 'BUFFRMINVE2019Nov18',\n",
       " 'BUFFRMINVE2019Nov19',\n",
       " 'BUFFRMINVE2019Nov20',\n",
       " 'BUFFRMINVE2019Nov21',\n",
       " 'BUFFRMINVE2021Nov01',\n",
       " 'BUFFRMINVE2021Nov02',\n",
       " 'BUFFRMINVE2021Nov03',\n",
       " 'BUFFRMINVE2021Nov04',\n",
       " 'BUFFRMINVE2021Nov08',\n",
       " 'BUFFRMINVE2021Nov09',\n",
       " 'BUFFRMINVE2021Nov10',\n",
       " 'BUFFRMINVE2023Nov01',\n",
       " 'BUFFRMINVE2023Nov02',\n",
       " 'BUFFRMINVE2023Nov03',\n",
       " 'BUFFRMINVE2023Nov06',\n",
       " 'BUFFRMINVE2023Nov07',\n",
       " 'BUFFRMINVE2023Nov08',\n",
       " 'BUFFRMINVE2023Nov14',\n",
       " 'GWCAAqubug2006Jun27',\n",
       " 'GWCAAqubug2007Jun26',\n",
       " 'HEHOAquBug2021Jul26',\n",
       " 'OZARRMINVE2006DEC12',\n",
       " 'OZARRMINVE2006DEC13',\n",
       " 'OZARRMINVE2006DEC14',\n",
       " 'OZARRMINVE2006DEC18',\n",
       " 'OZARRMINVE2006DEC19',\n",
       " 'OZARRMINVE2006DEC22',\n",
       " 'OZARRMINVE2006JAN03',\n",
       " 'OZARRMINVE2006JAN04',\n",
       " 'OZARRMINVE2006JAN05',\n",
       " 'OZARRMINVE2006JAN10',\n",
       " 'OZARRMINVE2006JAN11',\n",
       " 'OZARRMINVE2006JAN12',\n",
       " 'OZARRMINVE2006JAN18',\n",
       " 'OZARRMINVE2006JAN20',\n",
       " 'OZARRMINVE2006JAN24',\n",
       " 'OZARRMINVE2006NOV14',\n",
       " 'OZARRMINVE2006NOV15',\n",
       " 'OZARRMINVE2007Nov01',\n",
       " 'OZARRMINVE2007Nov02',\n",
       " 'OZARRMINVE2007Nov05',\n",
       " 'OZARRMINVE2007Nov06',\n",
       " 'OZARRMINVE2007Nov07',\n",
       " 'OZARRMINVE2007Nov08',\n",
       " 'OZARRMINVE2007Nov09',\n",
       " 'OZARRMINVE2007Nov13',\n",
       " 'OZARRMINVE2007Nov14',\n",
       " 'OZARRMINVE2008Nov05',\n",
       " 'OZARRMINVE2008Nov06',\n",
       " 'OZARRMINVE2008Nov07',\n",
       " 'OZARRMINVE2008Nov12',\n",
       " 'OZARRMINVE2008Nov13',\n",
       " 'OZARRMINVE2008Nov20',\n",
       " 'OZARRMINVE2008Nov21',\n",
       " 'OZARRMINVE2009Dec02',\n",
       " 'OZARRMINVE2009Dec03',\n",
       " 'OZARRMINVE2009Nov06',\n",
       " 'OZARRMINVE2009Nov09',\n",
       " 'OZARRMINVE2009Nov10',\n",
       " 'OZARRMINVE2009Nov12',\n",
       " 'OZARRMINVE2009Nov24',\n",
       " 'OZARRMINVE2010Nov03',\n",
       " 'OZARRMINVE2010Nov04',\n",
       " 'OZARRMINVE2012Dec04',\n",
       " 'OZARRMINVE2012Dec05',\n",
       " 'OZARRMINVE2012Nov13',\n",
       " 'OZARRMINVE2012Nov14',\n",
       " 'OZARRMINVE2012Nov15',\n",
       " 'OZARRMINVE2012Nov27',\n",
       " 'OZARRMINVE2012Nov28',\n",
       " 'OZARRMINVE2012Nov29',\n",
       " 'OZARRMINVE2014Nov05',\n",
       " 'OZARRMINVE2014Nov06',\n",
       " 'OZARRMINVE2014Nov07',\n",
       " 'OZARRMINVE2014Nov12',\n",
       " 'OZARRMINVE2014Nov13',\n",
       " 'OZARRMINVE2014Nov18',\n",
       " 'OZARRMINVE2014Nov19',\n",
       " 'OZARRMINVE2016Nov01',\n",
       " 'OZARRMINVE2016Nov02',\n",
       " 'OZARRMINVE2016Nov03',\n",
       " 'OZARRMINVE2016Nov04',\n",
       " 'OZARRMINVE2016Nov09',\n",
       " 'OZARRMINVE2016Nov10',\n",
       " 'OZARRMINVE2018Nov07',\n",
       " 'OZARRMINVE2018Nov08',\n",
       " 'OZARRMINVE2018Nov09',\n",
       " 'OZARRMINVE2018Nov13',\n",
       " 'OZARRMINVE2018Nov19',\n",
       " 'OZARRMINVE2018Nov20',\n",
       " 'OZARRMINVE2020Dec01',\n",
       " 'OZARRMINVE2020Dec08',\n",
       " 'OZARRMINVE2020Dec10',\n",
       " 'OZARRMINVE2020Dec11',\n",
       " 'OZARRMINVE2020Nov17',\n",
       " 'OZARRMINVE2020Nov19',\n",
       " 'OZARRMINVE2020Nov30',\n",
       " 'OZARRMINVE2021Jan05',\n",
       " 'OZARRMINVE2021Jan08',\n",
       " 'OZARRMINVE2021Jan11',\n",
       " 'OZARRMINVE2021Jan14',\n",
       " 'OZARRMINVE2022Nov03',\n",
       " 'OZARRMINVE2022Nov04',\n",
       " 'OZARRMINVE2022Oct25',\n",
       " 'OZARRMINVE2022Oct26',\n",
       " 'OZARRMINVE2022Oct27',\n",
       " 'OZARRMINVE2022Oct28',\n",
       " 'PERIAquBug2018May07',\n",
       " 'PIPEAquBug2021Aug26',\n",
       " 'PIPEAquBug2022Aug18',\n",
       " 'WICRAqubug2006Jun13',\n",
       " 'WICRAqubug2006Jun14',\n",
       " 'WICRAqubug2007Jul15',\n",
       " 'WICRAqubug2007Jun22']"
      ]
     },
     "execution_count": 33,
     "metadata": {},
     "output_type": "execute_result"
    }
   ],
   "source": [
    "sorted(df['EventID'].unique())"
   ]
  },
  {
   "cell_type": "code",
   "execution_count": 34,
   "id": "909d51d7-834d-4bd3-bf06-1bb9ba0cc75e",
   "metadata": {},
   "outputs": [
    {
     "data": {
      "text/plain": [
       "array([1, 2, 3])"
      ]
     },
     "execution_count": 34,
     "metadata": {},
     "output_type": "execute_result"
    }
   ],
   "source": [
    "df['RiffleNo'].unique() "
   ]
  },
  {
   "cell_type": "code",
   "execution_count": 35,
   "id": "8a714bed-9641-4e3b-897f-58fd9b9a7b89",
   "metadata": {},
   "outputs": [
    {
     "data": {
      "text/plain": [
       "array([[<Axes: title={'center': 'RiffleLength'}>]], dtype=object)"
      ]
     },
     "execution_count": 35,
     "metadata": {},
     "output_type": "execute_result"
    },
    {
     "data": {
      "image/png": "[encoded data removed]",
      "text/plain": [
       "<Figure size 640x480 with 1 Axes>"
      ]
     },
     "metadata": {},
     "output_type": "display_data"
    }
   ],
   "source": [
    "col = ['RiffleLength'] \n",
    "df2 = df[df[col] > 0]\n",
    "df2.hist(column='RiffleLength')"
   ]
  },
  {
   "cell_type": "code",
   "execution_count": 36,
   "id": "9f70d614-0f4c-41a8-a3ae-27b1cfa853d9",
   "metadata": {},
   "outputs": [
    {
     "data": {
      "text/plain": [
       "array([[<Axes: title={'center': 'Temperature'}>]], dtype=object)"
      ]
     },
     "execution_count": 36,
     "metadata": {},
     "output_type": "execute_result"
    },
    {
     "data": {
      "image/png": "[encoded data removed]",
      "text/plain": [
       "<Figure size 640x480 with 1 Axes>"
      ]
     },
     "metadata": {},
     "output_type": "display_data"
    }
   ],
   "source": [
    "col = ['Temperature'] \n",
    "df2 = df[df[col] > 0]\n",
    "df2.hist(column='Temperature')"
   ]
  },
  {
   "cell_type": "code",
   "execution_count": 37,
   "id": "91dcf884-d5cf-4c23-8be5-dde364eea492",
   "metadata": {},
   "outputs": [
    {
     "data": {
      "text/plain": [
       "array([[<Axes: title={'center': 'SpecificConductance'}>]], dtype=object)"
      ]
     },
     "execution_count": 37,
     "metadata": {},
     "output_type": "execute_result"
    },
    {
     "data": {
      "image/png": "[encoded data removed]",
      "text/plain": [
       "<Figure size 640x480 with 1 Axes>"
      ]
     },
     "metadata": {},
     "output_type": "display_data"
    }
   ],
   "source": [
    "col = ['SpecificConductance'] \n",
    "df2 = df[df[col] > 0]\n",
    "df2.hist(column='SpecificConductance')"
   ]
  },
  {
   "cell_type": "code",
   "execution_count": 38,
   "id": "a9bfa4ea-8c63-4096-8ad9-00b4bc24c955",
   "metadata": {},
   "outputs": [
    {
     "data": {
      "text/plain": [
       "array([[<Axes: title={'center': 'pH'}>]], dtype=object)"
      ]
     },
     "execution_count": 38,
     "metadata": {},
     "output_type": "execute_result"
    },
    {
     "data": {
      "image/png": "[encoded data removed]",
      "text/plain": [
       "<Figure size 640x480 with 1 Axes>"
      ]
     },
     "metadata": {},
     "output_type": "display_data"
    }
   ],
   "source": [
    "col = ['pH'] \n",
    "df2 = df[df[col] > 0]\n",
    "df2.hist(column='pH')"
   ]
  },
  {
   "cell_type": "code",
   "execution_count": 39,
   "id": "dd727b86-4f93-4cf1-a21c-f8db0cc0a053",
   "metadata": {},
   "outputs": [
    {
     "data": {
      "text/plain": [
       "array([[<Axes: title={'center': 'DO'}>]], dtype=object)"
      ]
     },
     "execution_count": 39,
     "metadata": {},
     "output_type": "execute_result"
    },
    {
     "data": {
      "image/png": "[encoded data removed]",
      "text/plain": [
       "<Figure size 640x480 with 1 Axes>"
      ]
     },
     "metadata": {},
     "output_type": "display_data"
    }
   ],
   "source": [
    "col = ['DO'] \n",
    "df2 = df[df[col] > 0]\n",
    "df2.hist(column='DO')"
   ]
  },
  {
   "cell_type": "code",
   "execution_count": 40,
   "id": "2e5d5dfb-c16e-4e99-9490-2235a83ec96a",
   "metadata": {},
   "outputs": [
    {
     "data": {
      "text/plain": [
       "array([[<Axes: title={'center': 'Turbidity'}>]], dtype=object)"
      ]
     },
     "execution_count": 40,
     "metadata": {},
     "output_type": "execute_result"
    },
    {
     "data": {
      "image/png": "[encoded data removed]",
      "text/plain": [
       "<Figure size 640x480 with 1 Axes>"
      ]
     },
     "metadata": {},
     "output_type": "display_data"
    }
   ],
   "source": [
    "col = ['Turbidity'] \n",
    "df2 = df[df[col] > 0]\n",
    "df2.hist(column='Turbidity')"
   ]
  },
  {
   "cell_type": "code",
   "execution_count": 43,
   "id": "3fbd02b6-0f18-4aa9-851f-ac9eab3f79ec",
   "metadata": {},
   "outputs": [
    {
     "data": {
      "text/plain": [
       "['Conductivities not calibrated at 2 week mark',\n",
       " 'DO collected as 102.3% not mg/L in the field; at 6.3 C temperature DO is 12.64 mg/L',\n",
       " 'SpCond/Cond not calibrated at 2 week mark',\n",
       " 'Spec Cond lacked data and was originally entered as -999.',\n",
       " 'Specific Conductance calibration was incorrect and therefor readings were incorrect.',\n",
       " 'Specific Conductance calibration was incorrect, therefore, specific conductance readings are incorrect.',\n",
       " 'Specific Conductance calibration was incorrect; therefore, Specific Conductance readings are incorrect.',\n",
       " 'Specific conductance is questionable.',\n",
       " 'Turbidity 3.9. Discrete reading taken with YSI-6920 datasonde.',\n",
       " 'Turbidity 6.5. Discrete reading taken with YSI-6920 datasonde.',\n",
       " 'Turbidity 6.9. Discrete reading taken with YSI-6920 datasonde.',\n",
       " 'Very low flow',\n",
       " 'YSI reads .22 for DO',\n",
       " 'conductivities not calibrated at 2 week mark',\n",
       " 'nan']"
      ]
     },
     "execution_count": 43,
     "metadata": {},
     "output_type": "execute_result"
    }
   ],
   "source": [
    "df[\"Note\"] = df[\"Note\"].astype(str)\n",
    "sorted(df['Note'].unique()) "
   ]
  }
 ],
 "metadata": {
  "kernelspec": {
   "display_name": "Python 3 (ipykernel)",
   "language": "python",
   "name": "python3"
  },
  "language_info": {
   "codemirror_mode": {
    "name": "ipython",
    "version": 3
   },
   "file_extension": ".py",
   "mimetype": "text/x-python",
   "name": "python",
   "nbconvert_exporter": "python",
   "pygments_lexer": "ipython3",
   "version": "3.10.15"
  }
 },
 "nbformat": 4,
 "nbformat_minor": 5
}
